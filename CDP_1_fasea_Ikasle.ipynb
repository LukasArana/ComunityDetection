{
 "cells": [
  {
   "cell_type": "markdown",
   "metadata": {},
   "source": [
    "# 1. Fasea: Problema formalizatzen"
   ]
  },
  {
   "cell_type": "markdown",
   "metadata": {},
   "source": [
    "#### [Ikasle]\n",
    "\n",
    "Community Detection proiektuaren 1. fasean problema formalizatuko dugu. Dagoeneko klasean ikusi dugu, optimizazio problema bat formalizatzeak zer dakarren. Gogoratze aldera:\n",
    "<ul>\n",
    "  <li> soluzio bideragarrien espazioa definitzea,\n",
    "  <li> soluzioak errepresentatzeko modu egoki bat asmatzea eta\n",
    "  <li> helburu-funtzioa definitzea.\n",
    "</ul>\n",
    "\n",
    "\n",
    "#### Entregablea\n",
    "\n",
    "Lehenengo fasea ebaluatu ahal izateko, notebook hau bera igo beharko duzue eGelara eskatzen diren atazak egoki erantzunda. eGelan zehazten dira <b>egun eta orduan</b>. Garaiz ez entregatzeak, 0 bat suposatuko du ebaluagarria den proiektuaren zati horretan. Adi! Ez dute balio aitzakiek, denbora soberan duzue aurretiaz egiteko, eGelara igotzeko eta aseguratzeko entregatuta geratu dela. <b>Ez dut onartuko atzerapenik</b>.\n"
   ]
  },
  {
   "cell_type": "markdown",
   "metadata": {},
   "source": [
    "### Soluzio bideragarrien espazioa\n",
    "\n",
    "Proiektuan, aipatu dugun bezela, elkarlan komunitate desberdinak detektatu nahi ditugu. Horretarako, lehenenik eta behin erantzun beharreko galdera hurrengoa da: <i> Zer da komunitate bat?</i> Sarreran sortu dugun grafoan pentsatuz gero, <i> Nola adieraziko genituzte komunitateak grafoan?</i>\n",
    "Optimizazio konbinatorioko bibliografia begiratzea proposatzen dizuet (Google Scholar, Scopus, Web of Science...). Problema honek, berria ematen duen arren, hamarkada asko atzera aztertu zen lehenengo aldiz.\n",
    "\n",
    "Jarrian dagoen eremuan, 400 hitzetan, azaldu zer den Community Detection problema, eta eman aurreko galderei erantzuna. Behar izanez gero, gehitu irudiak. Garrantzitsua, erabilitako erreferentzia bibliografikoak testuan zuzenean adierazi beharko dituzue."
   ]
  },
  {
   "cell_type": "markdown",
   "metadata": {},
   "source": [
    "KOMUNITATE DETEKZIOA\n",
    "\n",
    "HASIERA\n",
    "Azken urteotan komunikazio sareen handitze ikaragarri bat ikusten ari gara. Sare hauek \n",
    "teknologi berriekin batera eraldatzen doaz eta mota ezberdin askotakoak izan daitezke, emango zaien erabilpena medio. Horrela, gaur egun, internet Of Things, sentsore-en arteko sareak edo sare sozialak gure egunerokotasunean aurkitzen ditugu. Sare hauek duten garrantzia gero eta handiagoa ikusita, argi dago hauek ulertzeko eta azterketzeko metodoak behar ditugula.\n",
    "\n",
    "    Komunitateen detekzioa(comunity detection) sare hauek aztertzeko modu bat da, sarea osatzen duten banako bakoitzak, sareko beste banakoekin duen erlazioa aztertuz. Laburbilduz, banako bakoitza banakoen talde batean esleitzean datza, talde bakoItzeko barne-erlazioak maximizatuz eta kanpo-erlazioak minimizatuz. Arazo hau ebazteko algoritmo eraginkor bat batek erabilpen ugari izango lituzke gizartean.\n",
    "\n",
    "PROBLEMAREN FORMALIZAZIOA    \n",
    "\n",
    "Problema hau matematikoki formalizatzeko modu ezberdinak egon badaitezke ere, sareak lantzeko grafoen teoria da erabiliena. Horrela, sare bat G(v, e) grafo bat bezala adieraziko dugu, non v nodoen taldea eta e erpinen taldea den. Gure probleman, nodo bakoitza sarean dagoen banako bat bezala irudikatuko dugu eta e taldean, banakoen artean dauden erlazio guztiak adieraziko dira. Modu honetara, sare bateko banako guztiak eta beraien arteko erlazioak adieraziko ditugu grafo bakarrean.\n",
    "\n",
    "    Behin sarea formalizatua, komunitate bat grafoko nodoen talde bat bezala definitu dezakegu. Beraz, komunitate detekzio problema komunitate hauek deketatzean datza, komunitate  bereko kideen erlazioa maximizatuz eta kanpoko kidekiko erlazioa minimizatuz.\n",
    "    \n",
    "\n",
    "Problemaren zailtasunak\n",
    "\n",
    "    Zientziaren munduan problema hau urte askoetan zehar aztertu da eta hainbat zailtasun erakusten dituela ikusi da. Horietako bat arazoaren definizioan aurki dezakegu, izan ere, oraindik ez dakigu komunitate batek komunitate izateko behar duen egitura matematikoki definitzen. Komunitate bat grafoko nodo batzuen talde bat bada ere, ez dakigu zer den talde hau talde egiten duen egituraren definizioa eta honek arazoak ekartzen ditu problema ebaztean. Hala nola, auzaz sortutako grafoek ez dute komunitarekin beraien baitan.\n",
    "\n",
    "    Horrez gain, komunitate detekzio problemaren hainbat bariantza egon daitezke. Adibidez, sareko banakoak komunitate batean bakarrik (familietako kideen kasuan) edo aldi berean komunitate bat baino gehiagoetan egon daitezke(sare sozialeetako taldeak). Bi aldaera hauek problemaren ideia nagusia aldatzen ez badute ere, ebazteko orduan zailtasun gehiago ekar ditzazke. \n",
    "\n",
    "    Problema honek sinplea badirudi ere, oraindik ez da aurkitu arazo hau ebazteko balio duen algoritmo eraginkorrik eta gaur egun gehien aztertzen diren algoritmoak NP-HARD direla frogatu da.\n",
    "\n",
    "    \n"
   ]
  },
  {
   "cell_type": "markdown",
   "metadata": {},
   "source": [
    "### Soluzioen errepresentazioa\n",
    "\n",
    "Behin aurreko galderak erantzun ditugula, eta badakigula nola adierazi komunitate bat, soluzioak errepresentatzeko kodeketa bat aukeratu behar dugu. Klasean hainbat kodeketa ikusi ditugu, horietako bat aproposa izan daiteke komunitateak identifikatzeko. Jarraian, proposatu soluzio batzuk esku artean dugun problemarentzako. <i>Nola kodetuko dugu komunitateen identifikazio bat?</i> Pentsatu..."
   ]
  },
  {
   "cell_type": "code",
   "execution_count": 150,
   "metadata": {},
   "outputs": [],
   "source": [
    "### Eman soluzioen adibide batzuk\n",
    "import numpy as np\n",
    "from ipynb.fs.full.CDP_Sarrera_Ikasle import sortu_grafoa \n",
    "#|V| tamainako bektore bat non indize bakoitzean [1, n] zenbaki bat egongo den. Non n komunitate kopurua da.\n",
    "n = 2\n",
    "v = 5\n",
    "G=sortu_grafoa()\n",
    "\n",
    "#|V| = 5 eta n =2\n",
    "soluzioa_1= np.random.randint(low = 1, high = n +1, size =len(G))\n",
    "soluzioa_2= np.random.randint(low = 1, high = n +1, size =len(G))\n",
    "soluzioa_3= np.ones(len(G))\n"
   ]
  },
  {
   "cell_type": "markdown",
   "metadata": {},
   "source": [
    "### Helburu-funtzioa\n",
    "\n",
    "Dagoeneko badakigu zer den komunitate bat, eta nola adierazi ere. Esan dugu, elkarlanen bitartez identifikatuko ditugula komunitateak. Baina, zerk eragiten du autore bat komunitate baten parte izateak? Adibidez, nahiko al da behin artikulu bat idaztea beste autore batzuekin, komunitatearen parte izateko? Erantzuna, argi dago, ezezkoa dela.\n",
    "\n",
    "Jarraian dagoen erreferentzian oinarrituko gara, helburu-funtzio egoki bat aukeratzeko. Zein aukeratuko zenuke? Pentsatu ondo! Badago bat oso egokia!\n",
    "\n",
    "   <i> Clauset, A.; Newman, M. E. J. \\& Moore, C. Finding community structure in very large networks, Physical Review E 2004, 70, 066111</i>\n",
    "   \n",
    "Jarraian eman 200 hitzetako azalpen bat aukeratu duzun helburu-funtzioaren inguruan. Horrez gain, adierazi ekuazio matematiko bidez, helburu-funtzioa (LaTeX notazioa onartzen du konpiladoreak). Ondoren, inplementatu helburu-funtzioa ere (funtzioaren egitura orokorra planteatzen dizuet). Azkenik helburu-funtzioaren pseudokode orokor bat ere idatzi beharko duzu."
   ]
  },
  {
   "cell_type": "code",
   "execution_count": null,
   "metadata": {
    "collapsed": true
   },
   "outputs": [],
   "source": [
    "# Idatzi hemen, 200 hitzetako azalpena, ekuazioa eta pseudokodea.\n",
    "\n",
    "\n",
    "\n"
   ]
  },
  {
   "cell_type": "code",
   "execution_count": 153,
   "metadata": {},
   "outputs": [],
   "source": [
    "A = kalkulatu_A(G)"
   ]
  },
  {
   "cell_type": "code",
   "execution_count": 205,
   "metadata": {},
   "outputs": [
    {
     "data": {
      "text/plain": [
       "matrix([[-2.94407812e-07,  9.99999558e-01,  9.99999411e-01, ...,\n",
       "         -2.94407812e-07, -4.41611718e-07, -1.47203906e-07],\n",
       "        [ 9.99999558e-01, -6.62417577e-07,  9.99999117e-01, ...,\n",
       "         -4.41611718e-07, -6.62417577e-07, -2.20805859e-07],\n",
       "        [ 9.99999411e-01,  9.99999117e-01, -1.17763125e-06, ...,\n",
       "         -5.88815624e-07, -8.83223436e-07, -2.94407812e-07],\n",
       "        ...,\n",
       "        [-2.94407812e-07, -4.41611718e-07, -5.88815624e-07, ...,\n",
       "         -2.94407812e-07, -4.41611718e-07, -1.47203906e-07],\n",
       "        [-4.41611718e-07, -6.62417577e-07, -8.83223436e-07, ...,\n",
       "         -4.41611718e-07,  9.99999338e-01,  1.99999978e+00],\n",
       "        [-1.47203906e-07, -2.20805859e-07, -2.94407812e-07, ...,\n",
       "         -1.47203906e-07,  1.99999978e+00, -7.36019530e-08]])"
      ]
     },
     "execution_count": 205,
     "metadata": {},
     "output_type": "execute_result"
    }
   ],
   "source": [
    "from operator import itemgetter\n",
    "from time import time\n",
    "\n",
    "def kalkulatu_A(G):\n",
    "    time1 = time()\n",
    "    \n",
    "    m = len(G)\n",
    "    authors = np.array(list(G.nodes()))\n",
    "\n",
    "    A = nx.to_numpy_matrix(G)\n",
    "    \n",
    "    degrees = np.array(list(map(itemgetter(1), G.degree(authors)))) # Get array of degress according to authors\n",
    "\n",
    "    min_degrees = np.min(degrees) #Calculate degrees matrix\n",
    "    max_degrees = np.max(degrees) \n",
    "    \n",
    "    degreesMatrix = np.zeros((max_degrees, np.shape(degrees)[0]))\n",
    "    for i in range(max_degrees):\n",
    "        degreesMatrix[i] = (i+1) * degrees /(2*m)\n",
    "    \n",
    "    authors_degreesMatrix = np.zeros((np.shape(authors)[0], np.shape(authors)[0]))\n",
    "    \n",
    "    for i in range(np.shape(authors)[0]):\n",
    "        authors_degreesMatrix[i] = degreesMatrix[G.degree(authors[i]) -1]\n",
    "    time2 = time()\n",
    "\n",
    "    \n",
    "    return  A - authors_degreesMatrix/(2*m)\n",
    "                             \n",
    "    \n",
    "A = kalkulatu_A(G)"
   ]
  },
  {
   "cell_type": "code",
   "execution_count": 209,
   "metadata": {},
   "outputs": [
    {
     "name": "stdout",
     "output_type": "stream",
     "text": [
      "1. soluzioaren modularitatea:  0.49544664882470196\n",
      "1. soluzioaren modularitatea:  0.4509731955094528\n",
      "1. soluzioaren modularitatea:  1.8960816425974167\n"
     ]
    },
    {
     "data": {
      "text/plain": [
       "0.0001857632606200489"
      ]
     },
     "execution_count": 209,
     "metadata": {},
     "output_type": "execute_result"
    }
   ],
   "source": [
    "# pip install ipynb exekutatu liburutegi hau erabili ahal izateko.\n",
    "from itertools import product\n",
    "from ipynb.fs.full.CDP_Sarrera_Ikasle import sortu_grafoa \n",
    "import community\n",
    "import networkx as nx\n",
    "import numpy as np\n",
    "import pandas as pd\n",
    "import sqlite3\n",
    "import networkx.algorithms.community as nx_comm\n",
    "import itertools\n",
    "from time import time\n",
    "\n",
    "#Cut size\n",
    "# Sortu grafoaketik lortua\n",
    "\n",
    "### Helburu-funtzioa\n",
    "def sigma(partizioa, G):\n",
    "    m = len(G.nodes())\n",
    "    \n",
    "    partizio_kop = int(max(partizioa))\n",
    "    a = map(lambda x: np.where(partizioa == x)[0], range(1, partizio_kop +1))\n",
    "    \n",
    "    partizioak = list(a)\n",
    "    sigma_matrix = np.zeros((m, m))\n",
    "    for i in partizioak[0]:\n",
    "        np.put(sigma_matrix[i], partizioak[0], 1)\n",
    "        \n",
    "    return sigma_matrix\n",
    "    \n",
    "def modularitatea(G, partizioa,weight='weight'):\n",
    "    ### Bete hemen 15-20 lerro\n",
    "    m = len(G.nodes())\n",
    "    return np.sum(np.multiply(sigma(partizioa, G), A)) /(2 * m)\n",
    "\n",
    "### Dei orokorrak\n",
    "G=sortu_grafoa()\n",
    "\n",
    "## Gure inplementazioa\n",
    "#partition1= dict(zip(G.nodes, soluzioa_1))\n",
    "#partition2= dict(zip(G.nodes, soluzioa_2))\n",
    "#partition3 = dict(zip(G.nodes, soluzioa_3))\n",
    "#time1 = time()\n",
    "print(\"1. soluzioaren modularitatea: \", modularitatea(G, soluzioa_1))\n",
    "#time2 = time()\n",
    "#print('1', time2 - time1)\n",
    "\n",
    "#time1 = time()\n",
    "print(\"1. soluzioaren modularitatea: \", modularitatea(G, soluzioa_2))\n",
    "#time2 = time()\n",
    "#print('2', time2 - time1)\n",
    "\n",
    "#time1 = time()\n",
    "print(\"1. soluzioaren modularitatea: \", modularitatea(G, soluzioa_3))\n",
    "#time2 = time()\n",
    "#print('3', time2 - time1)\n",
    "\n",
    "nx_comm.modularity(G, [{i}for i in G.nodes])"
   ]
  },
  {
   "cell_type": "code",
   "execution_count": 35,
   "metadata": {},
   "outputs": [],
   "source": []
  },
  {
   "cell_type": "code",
   "execution_count": null,
   "metadata": {},
   "outputs": [],
   "source": []
  }
 ],
 "metadata": {
  "kernelspec": {
   "display_name": "Python 3 (ipykernel)",
   "language": "python",
   "name": "python3"
  },
  "language_info": {
   "codemirror_mode": {
    "name": "ipython",
    "version": 3
   },
   "file_extension": ".py",
   "mimetype": "text/x-python",
   "name": "python",
   "nbconvert_exporter": "python",
   "pygments_lexer": "ipython3",
   "version": "3.9.12"
  }
 },
 "nbformat": 4,
 "nbformat_minor": 2
}
