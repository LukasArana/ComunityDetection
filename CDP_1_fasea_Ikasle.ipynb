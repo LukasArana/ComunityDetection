{
 "cells": [
  {
   "cell_type": "markdown",
   "metadata": {},
   "source": [
    "# 1. Fasea: Problema formalizatzen"
   ]
  },
  {
   "cell_type": "markdown",
   "metadata": {},
   "source": [
    "#### [Ikasle]\n",
    "\n",
    "Community Detection proiektuaren 1. fasean problema formalizatuko dugu. Dagoeneko klasean ikusi dugu, optimizazio problema bat formalizatzeak zer dakarren. Gogoratze aldera:\n",
    "<ul>\n",
    "  <li> soluzio bideragarrien espazioa definitzea,\n",
    "  <li> soluzioak errepresentatzeko modu egoki bat asmatzea eta\n",
    "  <li> helburu-funtzioa definitzea.\n",
    "</ul>\n",
    "\n",
    "\n",
    "#### Entregablea\n",
    "\n",
    "Lehenengo fasea ebaluatu ahal izateko, notebook hau bera igo beharko duzue eGelara eskatzen diren atazak egoki erantzunda. eGelan zehazten dira <b>egun eta orduan</b>. Garaiz ez entregatzeak, 0 bat suposatuko du ebaluagarria den proiektuaren zati horretan. Adi! Ez dute balio aitzakiek, denbora soberan duzue aurretiaz egiteko, eGelara igotzeko eta aseguratzeko entregatuta geratu dela. <b>Ez dut onartuko atzerapenik</b>.\n"
   ]
  },
  {
   "cell_type": "markdown",
   "metadata": {},
   "source": [
    "### Soluzio bideragarrien espazioa\n",
    "\n",
    "Proiektuan, aipatu dugun bezela, elkarlan komunitate desberdinak detektatu nahi ditugu. Horretarako, lehenenik eta behin erantzun beharreko galdera hurrengoa da: <i> Zer da komunitate bat?</i> Sarreran sortu dugun grafoan pentsatuz gero, <i> Nola adieraziko genituzte komunitateak grafoan?</i>\n",
    "Optimizazio konbinatorioko bibliografia begiratzea proposatzen dizuet (Google Scholar, Scopus, Web of Science...). Problema honek, berria ematen duen arren, hamarkada asko atzera aztertu zen lehenengo aldiz.\n",
    "\n",
    "Jarrian dagoen eremuan, 400 hitzetan, azaldu zer den Community Detection problema, eta eman aurreko galderei erantzuna. Behar izanez gero, gehitu irudiak. Garrantzitsua, erabilitako erreferentzia bibliografikoak testuan zuzenean adierazi beharko dituzue."
   ]
  },
  {
   "cell_type": "markdown",
   "metadata": {},
   "source": [
    "KOMUNITATE DETEKZIOA\n",
    "\n",
    "HASIERA\n",
    "Azken urteotan komunikazio sareen handitze ikaragarri bat ikusten ari gara. Sare hauek \n",
    "teknologi berriekin batera eraldatzen doaz eta mota ezberdin askotakoak izan daitezke, emango zaien erabilpena medio. Horrela, gaur egun, internet Of Things, sentsore-en arteko sareak edo sare sozialak gure egunerokotasunean aurkitzen ditugu. Sare hauek duten garrantzia gero eta handiagoa ikusita, argi dago hauek ulertzeko eta azterketzeko metodoak behar ditugula.\n",
    "\n",
    "    Komunitateen detekzioa(comunity detection) sare hauek aztertzeko modu bat da, sarea osatzen duten banako bakoitzak, sareko beste banakoekin duen erlazioa aztertuz. Laburbilduz, banako bakoitza banakoen talde batean esleitzean datza, talde bakoItzeko barne-erlazioak maximizatuz eta kanpo-erlazioak minimizatuz. Arazo hau ebazteko algoritmo eraginkor bat batek erabilpen ugari izango lituzke gizartean.\n",
    "\n",
    "PROBLEMAREN FORMALIZAZIOA    \n",
    "\n",
    "Problema hau matematikoki formalizatzeko modu ezberdinak egon badaitezke ere, sareak lantzeko grafoen teoria da erabiliena. Horrela, sare bat G(v, e) grafo bat bezala adieraziko dugu, non v nodoen taldea eta e erpinen taldea den. Gure probleman, nodo bakoitza sarean dagoen banako bat bezala irudikatuko dugu eta e taldean, banakoen artean dauden erlazio guztiak adieraziko dira. Modu honetara, sare bateko banako guztiak eta beraien arteko erlazioak adieraziko ditugu grafo bakarrean.\n",
    "\n",
    "    Behin sarea formalizatua, komunitate bat grafoko nodoen talde bat bezala definitu dezakegu. Beraz, komunitate detekzio problema komunitate hauek deketatzean datza, komunitate  bereko kideen erlazioa maximizatuz eta kanpoko kidekiko erlazioa minimizatuz.\n",
    "    \n",
    "\n",
    "Problemaren zailtasunak\n",
    "\n",
    "    Zientziaren munduan problema hau urte askoetan zehar aztertu da eta hainbat zailtasun erakusten dituela ikusi da. Horietako bat arazoaren definizioan aurki dezakegu, izan ere, oraindik ez dakigu komunitate batek komunitate izateko behar duen egitura matematikoki definitzen. Komunitate bat grafoko nodo batzuen talde bat bada ere, ez dakigu zer den talde hau talde egiten duen egituraren definizioa eta honek arazoak ekartzen ditu problema ebaztean. Hala nola, auzaz sortutako grafoek ez dute komunitarekin beraien baitan.\n",
    "\n",
    "    Horrez gain, komunitate detekzio problemaren hainbat bariantza egon daitezke. Adibidez, sareko banakoak komunitate batean bakarrik (familietako kideen kasuan) edo aldi berean komunitate bat baino gehiagoetan egon daitezke(sare sozialeetako taldeak). Bi aldaera hauek problemaren ideia nagusia aldatzen ez badute ere, ebazteko orduan zailtasun gehiago ekar ditzazke. \n",
    "\n",
    "    Problema honek sinplea badirudi ere, oraindik ez da aurkitu arazo hau ebazteko balio duen algoritmo eraginkorrik eta gaur egun gehien aztertzen diren algoritmoak NP-HARD direla frogatu da.\n",
    "\n",
    "    \n"
   ]
  },
  {
   "cell_type": "markdown",
   "metadata": {},
   "source": [
    "### Soluzioen errepresentazioa\n",
    "\n",
    "Behin aurreko galderak erantzun ditugula, eta badakigula nola adierazi komunitate bat, soluzioak errepresentatzeko kodeketa bat aukeratu behar dugu. Klasean hainbat kodeketa ikusi ditugu, horietako bat aproposa izan daiteke komunitateak identifikatzeko. Jarraian, proposatu soluzio batzuk esku artean dugun problemarentzako. <i>Nola kodetuko dugu komunitateen identifikazio bat?</i> Pentsatu..."
   ]
  },
  {
   "cell_type": "code",
   "execution_count": 388,
   "metadata": {},
   "outputs": [],
   "source": [
    "### Eman soluzioen adibide batzuk\n",
    "import numpy as np\n",
    "from ipynb.fs.full.CDP_Sarrera_Ikasle import sortu_grafoa \n",
    "#Partizio kopurua set dituen liburuegia non set bakoitza partizio bat izango den.\n",
    "n = 2\n",
    "v = 5\n",
    "G=sortu_grafoa()\n",
    "\n",
    "#\n",
    "def randomSol(min_part = 2, max_part = 4):\n",
    "    num_part = 2\n",
    "    sol = [[] for i in range(num_part)]\n",
    "    \n",
    "    for i in G:\n",
    "        sol[random.randint(0, num_part -1)].append(i)\n",
    "    sol = [set(sol[i]) for i in range(num_part)]\n",
    "    return sol\n"
   ]
  },
  {
   "cell_type": "markdown",
   "metadata": {},
   "source": [
    "### Helburu-funtzioa\n",
    "\n",
    "Dagoeneko badakigu zer den komunitate bat, eta nola adierazi ere. Esan dugu, elkarlanen bitartez identifikatuko ditugula komunitateak. Baina, zerk eragiten du autore bat komunitate baten parte izateak? Adibidez, nahiko al da behin artikulu bat idaztea beste autore batzuekin, komunitatearen parte izateko? Erantzuna, argi dago, ezezkoa dela.\n",
    "\n",
    "Jarraian dagoen erreferentzian oinarrituko gara, helburu-funtzio egoki bat aukeratzeko. Zein aukeratuko zenuke? Pentsatu ondo! Badago bat oso egokia!\n",
    "\n",
    "   <i> Clauset, A.; Newman, M. E. J. \\& Moore, C. Finding community structure in very large networks, Physical Review E 2004, 70, 066111</i>\n",
    "   \n",
    "Jarraian eman 200 hitzetako azalpen bat aukeratu duzun helburu-funtzioaren inguruan. Horrez gain, adierazi ekuazio matematiko bidez, helburu-funtzioa (LaTeX notazioa onartzen du konpiladoreak). Ondoren, inplementatu helburu-funtzioa ere (funtzioaren egitura orokorra planteatzen dizuet). Azkenik helburu-funtzioaren pseudokode orokor bat ere idatzi beharko duzu."
   ]
  },
  {
   "cell_type": "code",
   "execution_count": 386,
   "metadata": {},
   "outputs": [],
   "source": [
    "# Idatzi hemen, 200 hitzetako azalpena, ekuazioa eta pseudokodea.\n",
    "import random\n",
    "def modularitatea(G, partizioa, weight=\"weight\"):\n",
    "    degrees = dict(G.degree(weight=weight))\n",
    "    lag = sum(degrees.values())\n",
    "    m = lag / 2\n",
    "    norm  = 1/ lag ** 2\n",
    "    def komunitate_bakoitza(i):\n",
    "        l = sum(w for k, t, w in G.edges(i, data=weight, default = 1) if t in i) #i komunitateko kide guztiek komunitatekoekin duten konekzion pisuen batura\n",
    "        out = sum(degrees[k] for k in i) #Komunitateko nodo guztiek duten pisuaren balioaren batura\n",
    "        return l / m - out**2 * norm\n",
    "    \n",
    "    return sum(map(komunitate_bakoitza, partizioa))\n",
    "\n",
    "\n"
   ]
  },
  {
   "cell_type": "code",
   "execution_count": null,
   "metadata": {},
   "outputs": [],
   "source": []
  }
 ],
 "metadata": {
  "kernelspec": {
   "display_name": "Python 3 (ipykernel)",
   "language": "python",
   "name": "python3"
  },
  "language_info": {
   "codemirror_mode": {
    "name": "ipython",
    "version": 3
   },
   "file_extension": ".py",
   "mimetype": "text/x-python",
   "name": "python",
   "nbconvert_exporter": "python",
   "pygments_lexer": "ipython3",
   "version": "3.9.12"
  }
 },
 "nbformat": 4,
 "nbformat_minor": 2
}
