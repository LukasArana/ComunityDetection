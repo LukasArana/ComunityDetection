{
 "cells": [
  {
   "cell_type": "markdown",
   "metadata": {},
   "source": [
    "# 1. Fasea: Problema formalizatzen"
   ]
  },
  {
   "cell_type": "markdown",
   "metadata": {},
   "source": [
    "#### [Ikasle]\n",
    "\n",
    "Community Detection proiektuaren 1. fasean problema formalizatuko dugu. Dagoeneko klasean ikusi dugu, optimizazio problema bat formalizatzeak zer dakarren. Gogoratze aldera:\n",
    "<ul>\n",
    "  <li> soluzio bideragarrien espazioa definitzea,\n",
    "  <li> soluzioak errepresentatzeko modu egoki bat asmatzea eta\n",
    "  <li> helburu-funtzioa definitzea.\n",
    "</ul>\n",
    "\n",
    "\n",
    "#### Entregablea\n",
    "\n",
    "Lehenengo fasea ebaluatu ahal izateko, notebook hau bera igo beharko duzue eGelara eskatzen diren atazak egoki erantzunda. eGelan zehazten dira <b>egun eta orduan</b>. Garaiz ez entregatzeak, 0 bat suposatuko du ebaluagarria den proiektuaren zati horretan. Adi! Ez dute balio aitzakiek, denbora soberan duzue aurretiaz egiteko, eGelara igotzeko eta aseguratzeko entregatuta geratu dela. <b>Ez dut onartuko atzerapenik</b>.\n"
   ]
  },
  {
   "cell_type": "markdown",
   "metadata": {},
   "source": [
    "### Soluzio bideragarrien espazioa\n",
    "\n",
    "Proiektuan, aipatu dugun bezela, elkarlan komunitate desberdinak detektatu nahi ditugu. Horretarako, lehenenik eta behin erantzun beharreko galdera hurrengoa da: <i> Zer da komunitate bat?</i> Sarreran sortu dugun grafoan pentsatuz gero, <i> Nola adieraziko genituzte komunitateak grafoan?</i>\n",
    "Optimizazio konbinatorioko bibliografia begiratzea proposatzen dizuet (Google Scholar, Scopus, Web of Science...). Problema honek, berria ematen duen arren, hamarkada asko atzera aztertu zen lehenengo aldiz.\n",
    "\n",
    "Jarrian dagoen eremuan, 400 hitzetan, azaldu zer den Community Detection problema, eta eman aurreko galderei erantzuna. Behar izanez gero, gehitu irudiak. Garrantzitsua, erabilitako erreferentzia bibliografikoak testuan zuzenean adierazi beharko dituzue."
   ]
  },
  {
   "cell_type": "markdown",
   "metadata": {},
   "source": [
    "KOMUNITATE DETEKZIOA\n",
    "\n",
    "HASIERA\n",
    "Azken urteotan komunikazio sareen handitze ikaragarri bat ikusten ari gara. Sare hauek \n",
    "teknologi berriekin batera eraldatzen doaz eta mota ezberdin askotakoak izan daitezke, emango zaien erabilpena medio. Horrela, gaur egun, internet Of Things, sentsore-en arteko sareak edo sare sozialak gure egunerokotasunean aurkitzen ditugu. Sare hauek duten garrantzia gero eta handiagoa ikusita, argi dago hauek ulertzeko eta azterketzeko metodoak behar ditugula.\n",
    "\n",
    "    Komunitateen detekzioa(comunity detection) sare hauek aztertzeko modu bat da, sarea osatzen duten banako bakoitzak, sareko beste banakoekin duen erlazioa aztertuz. Laburbilduz, banako bakoitza banakoen talde batean esleitzean datza, talde bakoItzeko barne-erlazioak maximizatuz eta kanpo-erlazioak minimizatuz. Arazo hau ebazteko algoritmo eraginkor bat batek erabilpen ugari izango lituzke gizartean.\n",
    "\n",
    "PROBLEMAREN FORMALIZAZIOA    \n",
    "\n",
    "Problema hau matematikoki formalizatzeko modu ezberdinak egon badaitezke ere, sareak lantzeko grafoen teoria da erabiliena. Horrela, sare bat G(v, e) grafo bat bezala adieraziko dugu, non v nodoen taldea eta e erpinen taldea den. Gure probleman, nodo bakoitza sarean dagoen banako bat bezala irudikatuko dugu eta e taldean, banakoen artean dauden erlazio guztiak adieraziko dira. Modu honetara, sare bateko banako guztiak eta beraien arteko erlazioak adieraziko ditugu grafo bakarrean.\n",
    "\n",
    "    Behin sarea formalizatua, komunitate bat grafoko nodoen talde bat bezala definitu dezakegu. Beraz, komunitate detekzio problema komunitate hauek deketatzean datza, komunitate  bereko kideen erlazioa maximizatuz eta kanpoko kidekiko erlazioa minimizatuz.\n",
    "    \n",
    "\n",
    "Problemaren zailtasunak\n",
    "\n",
    "    Zientziaren munduan problema hau urte askoetan zehar aztertu da eta hainbat zailtasun erakusten dituela ikusi da. Horietako bat arazoaren definizioan aurki dezakegu, izan ere, oraindik ez dakigu komunitate batek komunitate izateko behar duen egitura matematikoki definitzen. Komunitate bat grafoko nodo batzuen talde bat bada ere, ez dakigu zer den talde hau talde egiten duen egituraren definizioa eta honek arazoak ekartzen ditu problema ebaztean. Hala nola, auzaz sortutako grafoek ez dute komunitarekin beraien baitan.\n",
    "\n",
    "    Horrez gain, komunitate detekzio problemaren hainbat bariantza egon daitezke. Adibidez, sareko banakoak komunitate batean bakarrik (familietako kideen kasuan) edo aldi berean komunitate bat baino gehiagoetan egon daitezke(sare sozialeetako taldeak). Bi aldaera hauek problemaren ideia nagusia aldatzen ez badute ere, ebazteko orduan zailtasun gehiago ekar ditzazke. \n",
    "\n",
    "    Problema honek sinplea badirudi ere, oraindik ez da aurkitu arazo hau ebazteko balio duen algoritmo eraginkorrik eta gaur egun gehien aztertzen diren algoritmoak NP-HARD direla frogatu da.\n",
    "\n",
    "    \n"
   ]
  },
  {
   "cell_type": "markdown",
   "metadata": {},
   "source": [
    "### Soluzioen errepresentazioa\n",
    "\n",
    "Behin aurreko galderak erantzun ditugula, eta badakigula nola adierazi komunitate bat, soluzioak errepresentatzeko kodeketa bat aukeratu behar dugu. Klasean hainbat kodeketa ikusi ditugu, horietako bat aproposa izan daiteke komunitateak identifikatzeko. Jarraian, proposatu soluzio batzuk esku artean dugun problemarentzako. <i>Nola kodetuko dugu komunitateen identifikazio bat?</i> Pentsatu..."
   ]
  },
  {
   "cell_type": "code",
   "execution_count": 84,
   "metadata": {},
   "outputs": [
    {
     "ename": "AttributeError",
     "evalue": "module 'numpy.random' has no attribute 'randu'",
     "output_type": "error",
     "traceback": [
      "\u001b[0;31m---------------------------------------------------------------------------\u001b[0m",
      "\u001b[0;31mAttributeError\u001b[0m                            Traceback (most recent call last)",
      "Input \u001b[0;32mIn [84]\u001b[0m, in \u001b[0;36m<cell line: 6>\u001b[0;34m()\u001b[0m\n\u001b[1;32m      1\u001b[0m \u001b[38;5;66;03m### Eman soluzioen adibide batzuk\u001b[39;00m\n\u001b[1;32m      2\u001b[0m \n\u001b[1;32m      3\u001b[0m \u001b[38;5;66;03m#|V| tamainako bektore bat non indize bakoitzean [1, n] zenbaki bat egongo den. Non n komunitate kopurua da.\u001b[39;00m\n\u001b[1;32m      4\u001b[0m \n\u001b[1;32m      5\u001b[0m \u001b[38;5;66;03m#|V| = 5 eta n =2\u001b[39;00m\n\u001b[0;32m----> 6\u001b[0m soluzioa_1\u001b[38;5;241m=\u001b[39m \u001b[43mnp\u001b[49m\u001b[38;5;241;43m.\u001b[39;49m\u001b[43mrandom\u001b[49m\u001b[38;5;241;43m.\u001b[39;49m\u001b[43mrandu\u001b[49m((\u001b[38;5;241m1843\u001b[39m)) \u001b[38;5;241m<\u001b[39m \u001b[38;5;241m0.5\u001b[39m\n\u001b[1;32m      7\u001b[0m \u001b[38;5;28mprint\u001b[39m(\u001b[38;5;28msum\u001b[39m(soluzioa_1))\n\u001b[1;32m      8\u001b[0m soluzioa_2\u001b[38;5;241m=\u001b[39m [np\u001b[38;5;241m.\u001b[39mrandom\u001b[38;5;241m.\u001b[39mrandn(\u001b[38;5;241m1843\u001b[39m)] \u001b[38;5;241m<\u001b[39m \u001b[38;5;241m0.5\u001b[39m\n",
      "\u001b[0;31mAttributeError\u001b[0m: module 'numpy.random' has no attribute 'randu'"
     ]
    }
   ],
   "source": [
    "### Eman soluzioen adibide batzuk\n",
    "\n",
    "#|V| tamainako bektore bat non indize bakoitzean [1, n] zenbaki bat egongo den. Non n komunitate kopurua da.\n",
    "\n",
    "#|V| = 5 eta n =2\n",
    "soluzioa_1= np.random.randu((1843)) < 0.5\n",
    "print(sum(soluzioa_1))\n",
    "soluzioa_2= [np.random.randn(1843)] < 0.5"
   ]
  },
  {
   "cell_type": "markdown",
   "metadata": {},
   "source": [
    "### Helburu-funtzioa\n",
    "\n",
    "Dagoeneko badakigu zer den komunitate bat, eta nola adierazi ere. Esan dugu, elkarlanen bitartez identifikatuko ditugula komunitateak. Baina, zerk eragiten du autore bat komunitate baten parte izateak? Adibidez, nahiko al da behin artikulu bat idaztea beste autore batzuekin, komunitatearen parte izateko? Erantzuna, argi dago, ezezkoa dela.\n",
    "\n",
    "Jarraian dagoen erreferentzian oinarrituko gara, helburu-funtzio egoki bat aukeratzeko. Zein aukeratuko zenuke? Pentsatu ondo! Badago bat oso egokia!\n",
    "\n",
    "   <i> Clauset, A.; Newman, M. E. J. \\& Moore, C. Finding community structure in very large networks, Physical Review E 2004, 70, 066111</i>\n",
    "   \n",
    "Jarraian eman 200 hitzetako azalpen bat aukeratu duzun helburu-funtzioaren inguruan. Horrez gain, adierazi ekuazio matematiko bidez, helburu-funtzioa (LaTeX notazioa onartzen du konpiladoreak). Ondoren, inplementatu helburu-funtzioa ere (funtzioaren egitura orokorra planteatzen dizuet). Azkenik helburu-funtzioaren pseudokode orokor bat ere idatzi beharko duzu."
   ]
  },
  {
   "cell_type": "code",
   "execution_count": null,
   "metadata": {
    "collapsed": true
   },
   "outputs": [],
   "source": [
    "# Idatzi hemen, 200 hitzetako azalpena, ekuazioa eta pseudokodea.\n",
    "\n",
    "\n",
    "\n"
   ]
  },
  {
   "cell_type": "code",
   "execution_count": 66,
   "metadata": {},
   "outputs": [
    {
     "name": "stdout",
     "output_type": "stream",
     "text": [
      "[array([ 0.32764816,  0.31100463, -2.20129473, ...,  0.78954386,\n",
      "        0.12663141, -0.7385252 ])]\n",
      "{'Nan Li': array([ 0.32764816,  0.31100463, -2.20129473, ...,  0.78954386,\n",
      "        0.12663141, -0.7385252 ])}\n",
      "1. soluzioaren modularitatea:  1\n",
      "{'Nan Li': array([ 0.69742264,  0.18877947, -0.36141822, ...,  1.60734981,\n",
      "       -0.18584996,  0.06953981])}\n",
      "2. soluzioaren modularitatea:  1\n"
     ]
    }
   ],
   "source": [
    "# pip install ipynb exekutatu liburutegi hau erabili ahal izateko.\n",
    "from itertools import product\n",
    "from ipynb.fs.full.CDP_Sarrera_Ikasle import sortu_grafoa \n",
    "import community\n",
    "import networkx as nx\n",
    "import numpy as np\n",
    "import pandas as pd\n",
    "import sqlite3\n",
    "\n",
    "\n",
    "#Cut size\n",
    "# Sortu grafoaketik lortua\n",
    "\n",
    "### Helburu-funtzioa\n",
    "def modularitatea(G, partizioa, weight='weight'):\n",
    "    ### Bete hemen 15-20 lerro\n",
    "    m = len(G)\n",
    "    modul =1\n",
    "    #Bi partizioen arteko modularitatea kalkulatuko dugu\n",
    "    print(partizioa)\n",
    "    degrees = dict(G.degree(G.nodes))\n",
    "    \n",
    "    #print(list(G.adj['Ehsan Abbasi']))\n",
    "    \n",
    "    return modul\n",
    "\n",
    "### Dei orokorrak\n",
    "G=sortu_grafoa()\n",
    "\n",
    "## Gure inplementazioa\n",
    "partition1= dict(zip(G.nodes, soluzioa_1))\n",
    "partition2= dict(zip(G.nodes, soluzioa_2))\n",
    "print(\"1. soluzioaren modularitatea: \", modularitatea(G, partition1))\n",
    "print(\"2. soluzioaren modularitatea: \", modularitatea(G, partition2))"
   ]
  },
  {
   "cell_type": "code",
   "execution_count": null,
   "metadata": {},
   "outputs": [],
   "source": []
  }
 ],
 "metadata": {
  "kernelspec": {
   "display_name": "Python 3 (ipykernel)",
   "language": "python",
   "name": "python3"
  },
  "language_info": {
   "codemirror_mode": {
    "name": "ipython",
    "version": 3
   },
   "file_extension": ".py",
   "mimetype": "text/x-python",
   "name": "python",
   "nbconvert_exporter": "python",
   "pygments_lexer": "ipython3",
   "version": "3.9.12"
  }
 },
 "nbformat": 4,
 "nbformat_minor": 2
}
