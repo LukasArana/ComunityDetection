{
 "cells": [
  {
   "cell_type": "markdown",
   "metadata": {
    "id": "dfCMs75GYj5h"
   },
   "source": [
    "### Problemaren formalizazioa\n",
    "Azken urteotan komunikazio sareen handitze ikaragarri bat ikusten ari gara. Sare hauek \n",
    "teknologi berriekin batera eraldatzen doaz eta mota ezberdin askotakoak izan daitezke, emango zaien erabilpena medio. Horrela, gaur egun, Internet Of Things, sentsore-en arteko sareak edo sare sozialak gure egunerokotasunean aurkitzen ditugu. Sare hauek duten garrantzia gero eta handiagoa dela ikusita, argi dago hauek ulertzeko eta aztertzeko metodoak behar ditugula.\n",
    " \n",
    "Komunitateen detekzioa (community detection) sare hauek aztertzeko modu bat da, sarea osatzen duten banako bakoitzak, sareko beste banakoekin duen erlazioa aztertuz. Laburbilduz, banako bakoitza banakoen talde batean esleitzean datza, talde bakoitzeko barne-erlazioak maximizatuz eta kanpo-erlazioak minimizatuz. Arazo hau ebazteko algoritmo eraginkor bat batek erabilpen ugari izango lituzke gizartean.\n",
    "\n",
    "Optimizazio problema bat formalizatzeko, hainbat gauza izan behar dira kontuan. Alde batetik, soluzio bideragarrien espazioa definitu behar da. Ondoren, soluzio hauek errepresentatzeko modu egoki bat zehaztu behar dugu. Azkenik, helburu funtzioa definitu eta inplementatu behar da soluzio hauek ebaluatzeko gai izateko.\n",
    "\n",
    "Gure problema matematikoki formalizatzeko modu ezberdinak egon badaitezke ere, sareak lantzeko grafoen teoria da erabiliena. Horrela, sare bat G(v, e) grafo bat bezala adieraziko dugu, non v nodoen taldea eta e erpinen taldea den. Gure probleman, nodo bakoitza sarean dagoen banako bat bezala irudikatuko dugu eta e taldean, banakoen artean dauden erlazio guztiak adieraziko dira. Modu honetara, sare bateko banako guztiak eta beraien arteko erlazioak adieraziko ditugu grafo bakarrean. \n",
    " \n",
    "Behin sarea formalizatua, komunitate bat grafoko nodoen talde bat bezala definitu dezakegu. Beraz, komunitate detekzio problema komunitate hauek deketatzean datza, komunitate  bereko kideen erlazioa maximizatuz eta kanpoko kidekiko erlazioa minimizatuz.\n",
    "\n",
    "Ondorengo pausoa, komunitateak adierazteko modua definitzea da, hau da, problemaren kodeketa. Kodeketari dagokionez, hainbat modu pentsatu ditugu gure problemaren soluzio desberdinak errepresentatzeko: Pentsatu genuen lehenengo errepresentazio mota bektore bat izan zen, N autore kopuruaren tamainakoa. Indize bakoitzak autore bat errepresentatuko zuen, eta beraien balioak, zein partiziokoak izango ziren. Hala ere, kodeketa hau ez zen bat ere praktikoa NetworkX liburutegiarekin lan egiteko, honek erantzunak jasotzeko beste formatu bat erabiltzen baitu. Beraz, estandarrari jarraituz, set-en lista bat erabili dugu, non set bakotizak komunitate bateko autoreen izenak gordeko dituen. \n",
    "\n",
    "Helburu funtzio egoki bat definitzea ezinbestekoa da optimizazio problema baten formalizazioan. Aurkeztu zaigun komunitate problema honek, berria ematen badu ere, hamarkada asko atzera aztertu zen lehenengo aldiz, eta beraz, soluzioak ebaluatzeko hainbat metodo garatu dira iada. Aukeratu dugun helburu funtzioa Modularitatea izan da. Modularitatea, sare edo grafoen egituraren neurri bat da, sareak modutuetan zatituz eta hauen indarra neurtuz kalkulatzen dena.\n",
    "\n",
    "Problemaren formalizazioa guztiz egina badugu ere puntu honetan, problema zaila izaten jarraitzen du hala ere. Oraindik ez da aurkitu arazo hau ebazteko balio duen algoritmo eraginkorrik eta gaur egun gehien aztertzen diren algoritmoak NP-HARD direla frogatu da."
   ]
  },
  {
   "cell_type": "markdown",
   "metadata": {
    "id": "qMEr0AhFYqDZ"
   },
   "source": [
    "### Soluzioen errepresentazioa\n",
    "\n",
    "Soluzioen adibide batzuk jarri ditugu jarraian. Lehen aipatu bezala, problema honetarako erabiliko dugun kodeketa set-en lista bat izango da, non set bakoitzak komunitate edo partizio bateko autoreen izenak gordeko dituen. Kodeketa hau erabiltzearen zergatia eraginkortasuna da, beste kodeketa mota batzuekin ez bezala, kodeketa hau askoz praktikoagoa da NetworkX liburutegiarekin lanean ibiltzeko.\n",
    "\n",
    "Aipatu beharra dago lortuko ditugun soluzio guztiak bideragarriak izango direla gure problemarako, hau da, ez dugu soluzioen bideragarritasuna tratatu beharko esplizituki. Beste alde batetik, gure problemaren soluzio espazio totala ondorengoa izango da: partizio_kopurua^Autore_kopurua. Autore kopurua 1843 dela kontuan hartuta, soluzio kopurua oso handia dela kontuan hartzea ezinbestekoa da (infinitora hurbiltzen den balio bat). Azkenik, soluzio gutxi batzuen artean erredundantzia egon daitekeela konturatu gara. Autore berdinak dituzten partizioak egin daitezke, partizio desberdin baten izenean. Adibidez, [0,1,0] eta [1,0,1] partizioak berdina adierazten dute, partizioen balioak aldatuz soilik. Hau oso gutxitan gertatuko denez, ez tratatzea erabaki dugu.\n",
    "\n",
    "\n"
   ]
  },
  {
   "cell_type": "markdown",
   "metadata": {
    "id": "DP1iJodvZia2"
   },
   "source": [
    "Soluzio posible batzuk erakutsi baino lehen, ditugun datuak irakurriko ditugu eta ondoren erabiliko dugun G grafoa sortuko dugu:"
   ]
  },
  {
   "cell_type": "code",
   "execution_count": 107,
   "metadata": {
    "id": "PJMAY98Pb7d_"
   },
   "outputs": [
    {
     "name": "stdout",
     "output_type": "stream",
     "text": [
      "9520\n"
     ]
    },
    {
     "data": {
      "text/plain": [
       "<networkx.classes.graph.Graph at 0x7faf8ca758e0>"
      ]
     },
     "execution_count": 107,
     "metadata": {},
     "output_type": "execute_result"
    }
   ],
   "source": [
    "import pandas as pd\n",
    "from itertools import product\n",
    "import networkx as nx\n",
    "import numpy as np\n",
    "import pandas as pd\n",
    "import sqlite3\n",
    "import networkx.algorithms.community as nx_comm\n",
    "import itertools\n",
    "from operator import itemgetter\n",
    "from time import time\n",
    "import random\n",
    "from numpy import exp\n",
    "from numpy.random import randn\n",
    "from numpy.random import rand\n",
    "import math\n",
    "import sys\n",
    "import csv\n",
    "import cProfile\n",
    "import matplotlib.pyplot as plt\n",
    "import os \n",
    "import time\n",
    "def sortu_grafoa():\n",
    "    # Datuak irakurri\n",
    "    drive_route = \"/content/drive/MyDrive/Colab Notebooks/BH/Proiektua/\"\n",
    "    drive = True\n",
    "    \n",
    "    connect = sqlite3.connect(r\"database.sqlite\") #Hemen datuetara zure path-a jarri (behar bada drive-ra konektatu)\n",
    "    query = \"\"\"\n",
    "    SELECT pa.paper_id, pa.author_id, a.name\n",
    "    FROM paper_authors AS pa JOIN papers AS p ON pa.paper_id = p.id\n",
    "    JOIN authors as a ON pa.author_id = a.id\n",
    "    WHERE p.Year BETWEEN '2014' AND '2015'\n",
    "    \"\"\"\n",
    "    df = pd.read_sql(query, connect)\n",
    "\n",
    "    \n",
    "    # Sortu grafoa\n",
    "    G = nx.Graph()\n",
    "\n",
    "    for p, a in df.groupby('paper_id')['name']: \n",
    "        for u, v in itertools.combinations(a, 2):\n",
    "            if G.has_edge(u, v):\n",
    "                G[u][v]['weight'] +=1\n",
    "            else:\n",
    "                G.add_edge(u, v, weight=1)\n",
    "    return G\n",
    "def generator(n):\n",
    "    # Datuak irakurri\n",
    "    drive_route = \"/content/drive/MyDrive/Colab Notebooks/BH/proiektua/\"\n",
    "    drive = True\n",
    "    \n",
    "    connect = sqlite3.connect(r\"database.sqlite\") #Hemen datuetara zure path-a jarri (behar bada drive-ra konektatu)\n",
    "    query = \"\"\"\n",
    "    SELECT pa.paper_id, pa.author_id, a.name\n",
    "    FROM paper_authors AS pa JOIN papers AS p ON pa.paper_id = p.id\n",
    "    JOIN authors as a ON pa.author_id = a.id\n",
    "    \"\"\"\n",
    "    df = pd.read_sql(query, connect)\n",
    "    # Sortu grafoa\n",
    "    G = nx.Graph()\n",
    "    for p, a in df.groupby('paper_id')['name']: \n",
    "        for u, v in itertools.combinations(a, 2):\n",
    "            if G.has_edge(u, v) :\n",
    "                G[u][v]['weight'] +=1\n",
    "            else:\n",
    "                G.add_edge(u, v, weight=1)\n",
    "    authors = G.nodes()\n",
    "    authors_chosen = np.random.choice(authors, size=len(authors) - n, replace=False)\n",
    "    print(len(authors))\n",
    "    for i in authors_chosen:\n",
    "        G.remove_node(i)\n",
    "    return G\n",
    "generator(2000)"
   ]
  },
  {
   "cell_type": "markdown",
   "metadata": {
    "id": "1YfeEqMmZg5O"
   },
   "source": [
    "Hona hemen gure problemean ausazko soluzioak sortzeko erabiliko dugun funtzioa:"
   ]
  },
  {
   "cell_type": "code",
   "execution_count": 2,
   "metadata": {
    "id": "YdYb0XByYuS3"
   },
   "outputs": [],
   "source": [
    "### Eman soluzioen adibide batzuk\n",
    "#Partizio kopurua set dituen liburuegia non set bakoitza partizio bat izango den.\n",
    "n = 2\n",
    "v = 5\n",
    "G=sortu_grafoa()\n",
    "\n",
    "#Sortuko diren ematiza guztiak bideragarriak izango dira.\n",
    "def randomSol(G, min_part = 3, max_part = 3):\n",
    "    #Partizio kopuru minimo eta maximo bat duten ausazko soluzio bat sortu\n",
    "    num_part = random.randint(min_part, max_part)\n",
    "    sol = [[] for i in range(num_part)]\n",
    "    for i in G:\n",
    "        sol[random.randint(0, num_part -1)].append(i)\n",
    "    sol = [set(sol[i]) for i in range(num_part)]\n",
    "    return sol"
   ]
  },
  {
   "cell_type": "markdown",
   "metadata": {
    "id": "ka-0wPm2Y2QZ"
   },
   "source": [
    "### Helburu-funtzioa\n",
    "\n",
    "Lehen aipatu dugun moduan, modularitatea kalkulatzea izango da soluzioak ebaluatzeko gure modua. \n",
    "\n",
    "Modularitatea sare baten propietate bat dela esan genezake, eta sare hori komunitateetan banatzeko proposamen bat ere bada. Zatiketa bat ona den ala ez neurtzen du, komunitateen barruan ertz asko edo ertz gutxi dauden ikusita. Modularitatearen balio altuak, sarearen komunitate zatiketa on bati dagokio, eta balio hauek erabiliko ditugu determinatzeko ea soluzio kandidatoa, unekoa baina hobeagoa den. Funtzio hau. [Finding community structure in very large networks](https://arxiv.org/abs/cond-mat/0408187) (Aaron Clauset, M. E. J. Newman, Cristopher Moore) lanean aurkeztu zen lehen aldiz 2004 urtean. Lan honen ondorioz, literaturan algoritmo ugari proposatu dira helburu funtzio hau oinarrian dutela.\n",
    "\n",
    "Zaila dirudi zatiketa posible guztien gaineko ebaluazio egoki bat egitea, baina modularitateak ebaluazio hau modu egoki eta konputazionalki ez oso garesti batean egitea ahalbidetzen digu. Lortuko ditugun balioak -0.5 eta 1 artean egongo dira, eta balio hau maximizatzea izango da gure algoritmoen betebeharra. Balio ez-nuluek ausazkotasunaren desbiderapenak adierazten dituzte, eta, praktikan, 0,3tik gorako modularitate balioa sare bateko komunitate-egitura on baten adierazlea da.\n",
    "\n",
    "Hainbat gauza izango ditugu kontuan soluzioen ebaluazio hau egitean. Alde batetik, nodo desberdinen loturak kontuan hartuko ditugu, hau da, ea beraien artean konektaturik dauden ala ez. Beste alde batetik, nodo bakoitza zein partiziotan kokatua izan den kontuan hartuko dugu. Nodo bakoitzaren gradua edo degree-a ere kontuan izango dugu, eta azkenik, grafo osoko ertz kopuru totala, m balioaz errepresentatua.\n",
    "\n",
    "Hona hemen modularitatearen ekuazioa (1) eta azken batean kalkulatzen dugun modularitate sinplifikatua (2):\n",
    "\n",
    "$(1)Q = \\frac{1}{2m}\\sum_{vw}[A_{vw}*\\frac{k_v k_w}{2m}]σ(c_vc_w) $\n",
    "\\\n",
    "\\\n",
    "$(2)= \\sum_{i}(e_{ii}-a_{i}^2) $\n",
    "\n"
   ]
  },
  {
   "cell_type": "code",
   "execution_count": 3,
   "metadata": {},
   "outputs": [],
   "source": [
    "l = randomSol(G)\n"
   ]
  },
  {
   "cell_type": "code",
   "execution_count": 4,
   "metadata": {
    "id": "zzdbbAvrY4iR"
   },
   "outputs": [
    {
     "name": "stdout",
     "output_type": "stream",
     "text": [
      "6.097800000004483e-05\n"
     ]
    }
   ],
   "source": [
    "def modularitatea(G, partizioa, weight=\"weight\"):\n",
    "    #Network X en implementazioan oinarrituta.\n",
    "    degrees = dict(G.degree(weight=weight)) #Grafoko nodo guztien degree-en batura\n",
    "    lag = sum(degrees.values())\n",
    "    m = lag / 2\n",
    "    norm  = 1/ lag ** 2 #normalizazio konstantea\n",
    "    def komunitate_bakoitza(i):\n",
    "        l = sum(w for k, t, w in G.edges(i, data=weight, default = 1) if t in i) #i komunitateko kide guztiek komunitatekoekin duten konekzion pisuen batura\n",
    "        out = sum(degrees[k] for k in i) #Komunitateko nodo guztiek duten pisuaren balioaren batura\n",
    "        return l / m - out**2 * norm\n",
    "    \n",
    "    return sum(map(komunitate_bakoitza, partizioa)) #Partizio bakoitzerako batura kalkulatu\n",
    "time1 =time.process_time()\n",
    "time2  =time.process_time()\n",
    "print(time2 - time1)"
   ]
  },
  {
   "cell_type": "markdown",
   "metadata": {
    "id": "G7TCsjFCY8J4"
   },
   "source": [
    "Azkenik, aipatu beharra dago modularitatearen kalkuluan NetworkX liburutegiak duen NetworkX.modularity funtzioaren implementazioan oinarritu garela. Horrela lehenik sortu genuen algoritmoaren efizientzia hobetzea lortu dugu."
   ]
  },
  {
   "cell_type": "markdown",
   "metadata": {
    "id": "ZwE7yWaJ_YF7"
   },
   "source": [
    "###Algoritmoak diseinatzen\n",
    "Gure problema azaldu, formalizatu eta helburu funtzioa inplementatu ondoren, algoritmoak diseinatzea ezinbestekoa da soluzio berri onak lortzeko. Horretarako, hainbat algoritmo diseinatu ditugu. Hauen artean, algoritmo eraikitzaile edo inkremental bat, Simulated Annealing bat eta EDA algoritmo genetikoa inplementatu ditugu. Algortimo hauen helburua, lehen esan bezala, komunitate kopuru bat emanik, modularitatea maximizatzen duen soluzioa bilatzen saiatzea da.\n",
    "\n",
    "Algoritmoak inplementatzen hasi aurretik, funtzio laguntzaile batzuk inplementatu ditugu:\n"
   ]
  },
  {
   "cell_type": "code",
   "execution_count": 5,
   "metadata": {
    "id": "YVgd4oD2b7eL"
   },
   "outputs": [],
   "source": [
    "#Hurrengo bi metodo hauek implementazioa errezteko sortu dira. \n",
    "def dict_to_part(sol, num_parts):\n",
    "    #Soluzioa hiztegi batetik partizioetara pasatzeko metodoa\n",
    "    part = [list() for i in range(num_parts + 1)]\n",
    "    for key, val in sol.items():\n",
    "        part[val].append(key)\n",
    "    for i in range(len(part)):\n",
    "        part[i] = set(part[i])\n",
    "    return part\n",
    "\n",
    "def part_to_dict(solution):\n",
    "    #Soluzioa partizio batetik hiztegi batera pasatzeko kodea\n",
    "    parts = {}\n",
    "    for i in range(len(solution)):\n",
    "        for j in solution[i]:\n",
    "            parts[j] = i\n",
    "    return parts\n"
   ]
  },
  {
   "cell_type": "markdown",
   "metadata": {
    "id": "ziQHGK4XjgiT"
   },
   "source": [
    "Inplementatuta uzten dugu Random Search-a ere, algoritmo bezala entregatzen ez badugu ere, hurrengo entregetako erabilgarri izango zaigulako.\n",
    "\n",
    "Algoritmo hau beste algoritmoekin alderatzeko erabiliko dugu, “Sanity Check” delakoa egiteko hain zuzen ere.\n"
   ]
  },
  {
   "cell_type": "code",
   "execution_count": 6,
   "metadata": {
    "colab": {
     "base_uri": "https://localhost:8080/"
    },
    "id": "svMHKalLb7eI",
    "outputId": "04768897-2ab5-4f47-ff92-8e219ba44605"
   },
   "outputs": [],
   "source": [
    "def random_search(G, sol_kop, num_part):\n",
    "    #Random Search algoritmoaren implementazioa.\n",
    "    size = len(G)\n",
    "    used_list = []\n",
    "    best_fitness = -1000\n",
    "    best_solution = []\n",
    "    #num_part ausazko soluzio sortu\n",
    "    solutions = [randomSol(G, min_part =num_part, max_part = num_part) for i in range(sol_kop)]\n",
    "    #soluzio guztien fitness-a kalkulatu\n",
    "    fitness = list(map(lambda x: modularitatea(G, x), solutions))\n",
    "    #Fitness hoberenaren soluzioa bueltatu\n",
    "    fitness.sort(reverse=True)\n",
    "    best_fitness = max(fitness)\n",
    "    best_solution = solutions[fitness.index(best_fitness)]\n",
    "    return (best_fitness, best_solution)\n",
    "\n",
    "#fitness, l = random_search(G, 1000, 5)\n",
    "#modularitatea(G, l)"
   ]
  },
  {
   "cell_type": "markdown",
   "metadata": {
    "id": "4HdYtpPajP-K"
   },
   "source": [
    "Bere definizioak dioen bezala, algoritmo eraikitzaileak soluzio huts batetik hasten dira, iteratiboki elementuak gehituz soluzioan. Horrela, koste konputazional txiki batekin(o(n) = n) guk erabakitako irizpide batzuetan oinarritutako soluzio bat lortzea ahalbidetzen digu algoritmo eraikitzaileak.\n",
    "\n",
    "Gure kasuan, lehenik lankide gehien dituzten autoreetatik partizio bakoitzerako bat aukeratuko dugu. Ondoren, hasierako autore bakoitzarekin konektatuko autore guztiak partizio berean sartu ditugu. Autore bat hasieran aukeratutako autore bat baina gehiagorekin konektatuta badago, azken aurkitutako autorearen partizioan sartu dugu algoritmoaren efizientziagatik. Azkenik, partiziorik gabe gelditu diren autore guztietarako beste partizio batean gordeko ditugu.\n",
    "\n",
    "Gure irizpide honi jarraituz, partizioetan elkarren artean gehien konektatuta dauden autoreak gordetzen dira eta azkeneko partizioan berriz, konexio gutxien dituzten nodoak izango dira. Soluzioetan beraz, autoreen arteko lankide kopurua oso uniformea bada erantzun onenak paritizio kopuru handiekin lortuko dira. Bestetik, autoreen artean lankide kopurua asko aldatzen bada, partizio kopuru txikiekin ere algoritmoak erantzun onak lortzea espero da."
   ]
  },
  {
   "cell_type": "code",
   "execution_count": 7,
   "metadata": {
    "colab": {
     "base_uri": "https://localhost:8080/"
    },
    "id": "7C2ZBUK-_YF_",
    "outputId": "64b6c305-4dd1-47d6-c396-268b21d37896",
    "scrolled": false
   },
   "outputs": [
    {
     "name": "stdout",
     "output_type": "stream",
     "text": [
      "1.8358230590820312e-05\n"
     ]
    }
   ],
   "source": [
    "import cProfile\n",
    "import time\n",
    "def lehenengoakLortu(num_part):\n",
    "    #Algoritmo eraikitzailearen hasierako nodoen aukeraketa\n",
    "    #Ausaz partizio bakoitzerako nodo bat aukeratzen da. \n",
    "    #Bizilagun asko dituzte nodoak probabilitate handiago dute\n",
    "    \n",
    "    n = random.randint(num_part, num_part * 5)\n",
    "    aukerak = list(range(1, num_part +1))\n",
    "    l = np.array(sorted(G.degree, key = lambda x: x[1], reverse = True))\n",
    "    l = l[0: n] #n bizilagun gehien dituzten nodoak\n",
    "    a = np.array(list(map(int, l[:, 1])))\n",
    "    \n",
    "    prob = a / sum(a)\n",
    "    return l[np.random.choice(n, p=prob, size =num_part, replace = False)] #ausaz aukeratu probabilitate gehiagorekin bizilagun asko dituztenak\n",
    "\n",
    "def eraikitzailea(G, num_part):\n",
    "    #Algoritmo eraikitzailea\n",
    "    authors = np.array(G.nodes())\n",
    "    \n",
    "    lehenengoak = lehenengoakLortu(num_part -1) \n",
    "    partizioak =[[] for i in range(num_part)] # Partizio denak hasieratu (num_part + azken partizioa)\n",
    "    des = [] \n",
    "    for i in range(len(lehenengoak)):\n",
    "        #Partizioan sartu lortutako lehenegoak\n",
    "        idx =lehenengoak[i][0] \n",
    "        partizioak[i].append(idx)\n",
    "        \n",
    "        des.append(nx.descendants(G, idx))# Hasieraketan aukeratutako nodo bakoitzarekin konektatutako nodoak\n",
    "    #Autorea hasierako nodoen ondoz ondokoa bada bere partizioan sartu. Bestela azken partizioan.\n",
    "    for i in authors:\n",
    "        aurkitu = False\n",
    "        idx = 0\n",
    "        for idj, j in enumerate(des):\n",
    "            if i in j:\n",
    "                idx = idj\n",
    "                aurkitu = True\n",
    "        if not aurkitu :\n",
    "            idx = -1\n",
    "        if i not in lehenengoak:\n",
    "            partizioak[idx].append(i)\n",
    "    return partizioak\n",
    "\n",
    "#ERAIKITZAILEA\n",
    "t1 = time.time()\n",
    "#l = eraikitzailea(G, 5)\n",
    "t2 = time.time()\n",
    "print(t2-t1)\n",
    "#cProfile.run('eraikitzailea(G,5)')"
   ]
  },
  {
   "cell_type": "code",
   "execution_count": 160,
   "metadata": {},
   "outputs": [],
   "source": [
    "def ingurunea1(solution, G):\n",
    "    #autore kopuru soluzio bueltatzen dituen ingurune funtzioa\n",
    "    solution = [list(i) for i in solution]\n",
    "    authors = np.array(G.nodes())\n",
    "    num_parts = len(solution)\n",
    "    parts  = part_to_dict(solution)\n",
    "    #Autore batentzako bere bizilagun guztiak bere partizioan gorde eta hori izango da soluzio berria\n",
    "    randomAuthor = str(np.random.choice(G.nodes(), size = 1)[0])\n",
    "    partAuthor = parts[randomAuthor]\n",
    "    neighbors =  G.neighbors(randomAuthor)\n",
    "    for i in neighbors:\n",
    "        solution[parts[i]].remove(i)\n",
    "        solution[partAuthor].append(i)\n",
    "\n",
    "    return solution\n",
    "\n",
    "def simulated_annealing(G,part_kop, iter_kop,beta, p = 0.75):\n",
    "    #Simulated annealing algoritmoaren implementazioa\n",
    "    #Tenperaturaren hasieraketa\n",
    "    time1 = time.process_time()\n",
    "    minFit, maxFit = -0.025,0.025\n",
    "    t = (maxFit - minFit)/p\n",
    "    #Hasierako soluzioaren sortu\n",
    "    best = randomSol(G, part_kop, part_kop)\n",
    "    best_eval = modularitatea(G,best)\n",
    "    curr, curr_eval = best, best_eval\n",
    "    mods = []\n",
    "    temps = []\n",
    "    evals = []\n",
    "    y = list(range(iter_kop))\n",
    "    for i in range(iter_kop):\n",
    "        #Pausu bakoitzean\n",
    "        #Oraingo soluzioaren ingurunetik soluzio bat ausaz hartu\n",
    "        candidate = ingurunea1(curr,G)\n",
    "        print(candidate)\n",
    "        break\n",
    "        candidate_eval = modularitatea(G,candidate)\n",
    "        mods.append(candidate_eval)\n",
    "        if candidate_eval > best_eval:\n",
    "            best, best_eval = candidate, candidate_eval\n",
    "        # uneko eta soluzio berriaren arteko diferentzia kalkulatu\n",
    "        dif = curr_eval - candidate_eval\n",
    "        # iterazio kopuruaren uneko temperatura lortu\n",
    "        temps.append(t)\n",
    "        evals.append(best_eval)\n",
    "        t = t /(1+ beta*t)\n",
    "        # onartze kriterioa kalkulatu\n",
    "        accept = exp(-dif*100 / t)\n",
    "        r = rand()\n",
    "        # Soluzio berria onartu edo ez onartu erabaki\n",
    "        if dif < 0 or r < accept:\n",
    "          curr, curr_eval = candidate, candidate_eval\n",
    "    #plt.plot(y, mods)\n",
    "    #time2 = time.process_time()\n",
    "    #figure, axis = plt.subplots(2)\n",
    "    print(\"temps\")\n",
    "    #plt.plot(temps)\n",
    "    print(\"evals\")\n",
    "    #plt.plot(evals)\n",
    "\n",
    "    #axis[0].plot(temps)\n",
    "    #axis[0].set_title(\"Temperature\")\n",
    "\n",
    "    # For Cosine Function\n",
    "    #axis[1].plot(evals)\n",
    "    #axis[1].set_title(\"Evaluation\")\n",
    "\n",
    "    return curr_eval, time2 - time1    "
   ]
  },
  {
   "cell_type": "code",
   "execution_count": null,
   "metadata": {},
   "outputs": [],
   "source": [
    "import copy\n",
    "def ingurunea2(solution, G):\n",
    "    #autore kopuru soluzio bueltatzen dituen ingurune funtzioa\n",
    "    solution = [list(i) for i in solution]\n",
    "    authors = np.array(G.nodes())\n",
    "    num_parts = len(solution)\n",
    "    parts  = part_to_dict(solution)\n",
    "    #Autore batentzako bere bizilagun guztiak bere partizioan gorde eta hori izango da soluzio berria\n",
    "    partAuthor = [parts[i] for i in authors]\n",
    "    neighbors =  [G.neighbors(i) for i in authors]\n",
    "    solutions = []\n",
    "    for j in neighbors:\n",
    "        solution_a = copy.deepcopy(solution)\n",
    "        for idx, i in enumerate(j):\n",
    "            solution_a[parts[i]].remove(i)\n",
    "            solution_a[partAuthor[idx]].append(i)\n",
    "\n",
    "        solutions.append(solution_a)\n",
    "    return solutions\n",
    "def simulated_annealingNotGood(G,part_kop, iter_kop,beta, p = 0.75):\n",
    "    #Simulated annealing algoritmoaren implementazioa\n",
    "    #Tenperaturaren hasieraketa\n",
    "    time1 = time.process_time()\n",
    "    minFit, maxFit = -0.025,0.025\n",
    "    t = (maxFit - minFit)/p\n",
    "    #Hasierako soluzioaren sortu\n",
    "    best = randomSol(G, part_kop, part_kop)\n",
    "    best_eval = modularitatea(G,best)\n",
    "    curr, curr_eval = best, best_eval\n",
    "    mods = []\n",
    "    temps = []\n",
    "    evals = []\n",
    "    y = list(range(iter_kop))\n",
    "    candidate_evals = []\n",
    "    for i in range(iter_kop):\n",
    "        candidates = ingurunea2(curr,G)\n",
    "        if i % 100 == 0:\n",
    "            evals = list(map(lambda x: modularitatea(G, x), candidates))\n",
    "            candidate_evals.append(evals)\n",
    "        #Pausu bakoitzean\n",
    "        #Oraingo soluzioaren ingurunetik soluzio bat ausaz hartu\n",
    "        candidate = candidates[random.randint(0, len(candidates) -1)]\n",
    "\n",
    "        candidate_eval = modularitatea(G, candidate)\n",
    "        mods.append(candidate_eval)\n",
    "        if candidate_eval > best_eval:\n",
    "            best, best_eval = candidate, candidate_eval\n",
    "        # uneko eta soluzio berriaren arteko diferentzia kalkulatu\n",
    "        dif = curr_eval - candidate_eval\n",
    "        # iterazio kopuruaren uneko temperatura lortu\n",
    "        temps.append(t)\n",
    "        evals.append(best_eval)\n",
    "        t = t /(1+ beta*t)\n",
    "        # onartze kriterioa kalkulatu\n",
    "        accept = exp(-dif*100 / t)\n",
    "        r = rand()\n",
    "        # Soluzio berria onartu edo ez onartu erabaki\n",
    "        if dif < 0 or r < accept:\n",
    "          curr, curr_eval = candidate, candidate_eval\n",
    "    return curr_eval, time2 - time1, candidate_evals\n",
    "curr, curr_eval, evals = simulated_annealingNotGood(G, 4, 1000, 0.5, p = 0.5)"
   ]
  },
  {
   "cell_type": "code",
   "execution_count": 161,
   "metadata": {},
   "outputs": [
    {
     "name": "stdout",
     "output_type": "stream",
     "text": [
      "9520\n",
      "[['Volnei Pedroni', 'Bernd Porr', 'David Suter', 'Yu-Xiong Wang', 'Clay D. Spence', 'Sanjay Biswas', 'Paul Rodriguez', 'Ralf Philipp', 'Sachiko Kinoshita', 'Aviv Zohar', 'Yacine Jernite', 'Cassio P. de Campos', 'Tianfan Xue', 'John C. Duchi', 'Susan Murphy', 'Matthijs Spaan', 'James L. McClelland', 'Rich Caruana', 'Zhou Lu', 'Liming Wang', 'Adam Santoro', 'Matthew N. Dailey', 'Seyoung Kim', 'Michael Freedman', 'Eli Upfal', 'Yuya Yoshikawa', 'Peter Sollich', 'W Wu', 'Brahim Chaib-draa', 'Jean Lafond', 'Cong Xie', 'Weixin Li', 'James von Brecht', 'Lei Wu', 'Giorgio Patrini', 'J. P. Donoghue', \"Aaron D'souza\", 'Marc Howard', 'Randall R. Spangler', 'Julia B?rger', 'Frederic Jurie', 'Yasin Abbasi-yadkori', 'Yuqian Zhang', 'Sen Yang', 'Eytan Ruppin', 'Martin Stetter', 'Trevor Darrell', 'Nirmala Ramanujam', 'Yoshinobu Kawahara', 'George Michailidis', 'Dan Tito Svenstrup', 'Sudheendra Vijayanarasimhan', 'Yang Zhang', 'Jesper Tegn?r', 'Nicholas Cepeda', 'Zhenwen Dai', 'Predrag Radivojac', 'Sanjoy Mitter', 'Rita Goldstein', 'Ning Zhang', 'Zhao Fu', 'Peter Battaglia', 'Ladan Shams', 'Pierre Garrigues', 'Bal?zs Sz?r?nyi', 'Bikash Joshi', 'Hai Li', 'Justin Eldridge', 'Gui-rong Xue', 'James Martens', 'Christoph Feichtenhofer', 'Youssef Marzouk', 'Richard Wolniewicz', 'Anastasios Kyrillidis', 'Hong Ge', 'Xavier Bresson', 'Michael D. Lee', 'Sohaib Khan', 'Wulfram Gerstner', 'Rob Tibshirani', 'Hyun J. Park', 'Mathias Quoy', 'Hemant Tyagi', 'Anna Levina', 'Manuel Leroux', 'Hastagiri P. Vanchinathan', 'Tianming Liu', 'Fredrik D. Johansson', 'Chongjie Zhang', 'Naama Brenner', 'David Danks', 'I. Jouny', 'Joseph P. Campbell', 'Zhan Lim', 'Sophie Den?ve', 'Jean-Ren? Duhamel', 'Cor M. van den Bleek', 'Yan Largman', 'Shai Avidan', 'Argyris Kalogeratos', 'Aasa Feragen', 'Marco Cuturi', 'Roi Livni', 'Hyun-Soo Choi', 'Davide Boscaini', 'Ruohan Zhang', 'Simon M. Stringer', 'Wentai Liu', 'Alessandra Sutti', 'A. P. Thakoor', 'Rion Snow', 'Stanley C. Ahalt', 'Quoc Phong Nguyen', 'Arun Suggala', 'Arvind Agarwal', 'Christian Lemmen', 'David Chapman', 'Kirthevasan Kandasamy', 'Massimo Sivilotti', 'Sergio R. Galeano', 'Ming Yuan', 'Mehrtash Harandi', 'Teppo Niinim?ki', 'Michael Duff', 'Hanshen Huang', 'Remi Lam', 'Xiang Bai', 'Samuel Daulton', 'Natasha Mohanty', 'Haizi Yu', 'Xinggang Wang', 'Robert Aguilar', 'Eneldo Loza Menc?a', 'Ioannis Tsochantaridis', 'Jingyu Shao', 'Alan S. Lapedes', 'Abdeslam Boularias', 'Nicholas A. Steinmetz', 'Cristian Brotto', 'Shiyu Chang', 'Yeshwant K. Muthusamy', 'Richard G. M. Morris', 'Abhimanyu Das', 'Zhen He', 'Ping Li', 'Ofer Zeitouni', 'Gautam Sargur', 'Marc Deisenroth', 'Daniel Bartz', 'Sergio G?mez', 'W. Nick Street', 'Rebecca Saxe', 'Alessandro Farinelli', 'Allan Hartstein', 'Richard Zemel', \"A. D'avella\", 'Ronald J. Williams', 'Ulrike V. Luxburg', 'Anima Anandkumar', 'Yongmei M. Wang', 'R. M. Peterson', 'Meritxell Vinyals', 'Azarakhsh Jalalvand', 'Tieniu Tan', 'Christian Puhrsch', 'Giulia Andreani', 'Thomas Wachtler', 'Allen Selverston', 'Ronan Fruit', 'Bernhard Sch?lkopf', 'A. Civit', 'Dimitris Stamos', 'Erinc Merdivan', 'Pierre Geurts', 'Austin R. Benson', 'Arno Onken', 'Ashok K. Krishnamurthy', 'Christian Igel', 'Nikos Parotsidis', 'Lee-Ad Gottlieb', 'Ernest Wan', 'Ana Radovanovic', 'Pierre Ferrez', 'Alice M. Chiang', 'Andras D. Ferencz', 'James M. Goodwin', 'Nikhil Parthasarathy', 'Rishabh Iyer', 'Ryan P. Adams', 'Kazunori Yamaguchi', 'Kevin Tian', 'Stanley H. Chan', 'Barbara Rakitsch', 'Esther Levin', 'Alan J. Harget', 'Ya Xue', 'Yuanjun Xiong', 'John Allman', 'Maneesh Bhand', 'Behzad Golshan', 'Bertrand Mesot', 'Vwani P. Roychowdhury', 'Tobias Mann', 'Mriganka Sur', 'Stephane Gaiffas', 'Yuan Jiang', 'Robert J. Marks II', 'Iain Murray', 'Karthika Mohan', 'Jonathan Ho', 'Hamed Masnadi-shirazi', 'Qiang Ji', 'David R. Martin', 'Taro Toyoizumi', 'Philippe Preux', 'Tianxiao Shen', 'Mengdi Wang'], ['De-Chuan Zhan', 'Mohammad Taha Bahadori', 'Christian Daniel', 'Misha Chertkov', 'Daniel K. Hewlett', 'Nal Kalchbrenner', 'Daniel Cavagnaro', 'Michael Gasser', 'Daniel Russo', 'Michael Neely', 'Amirhossein Taghvaei', 'John E. W. Mayhew', 'Takeo Yamashita', 'Thomas N. Lal', 'R?mi Munos', 'Alexander K. Scheel', 'Angela J. Yu', 'Dan Goodman', 'Gavin C. Cawley', 'Klaus Schulten', 'Jasper Snoek', 'Bipin Rajendran', 'Matt Kaufman', 'Reid R. Harrison', 'Narendra Ahuja', 'Jason J. Sroka', 'Andrew Alexander', 'Alexandr B. Kirillov', 'Klaus Hepp', 'Igor Dourdanovic', 'Matthew D. Mullin', 'Thomas Hofmann', 'Rohit Girdhar', 'Radu Soricut', 'Christian Darken', 'Ga Wu', 'Sanjeev Kulkarni', 'Marcus A. Brubaker', 'Richard Schwartz', 'Stefan Haufe', 'Jordan B. Pollack', 'Silvia Scarpetta', 'Mehdi Keramati', 'Akio Tanaka', 'Johanni Brea', 'Dahua Lin', 'Victor Hu', 'Kenneth Norman', 'Hillel J. Chiel', 'Elizaveta Levina', 'Sridevi Parise', 'Enrico Simonotto', 'B. Yuhas', 'Surya Ganguli', 'Imed Zitouni', 'Seth Myers', 'Oliver Stegle', 'Quoc Tran-Dinh', 'Chris Eliasmith', 'Yan Tong', 'Mohsen Bayati', 'Aryeh Kontorovich', 'Tat-jun Chin', 'Sunghyun Kim', 'Shawn R. Lockery', 'Dahui Wang', 'Fabian Sinz', 'Sebastian A. Kurtek', 'Daniel J. Cameron', 'Nils M. Kriege', 'Cristian Rojas', 'Volkan Isler', 'Sanghamitra Dutta', 'Steve K. Esser', 'Chaitanya Ekanadham', 'Mikko Heikkil?', 'Chi Wang', 'Neil Bruce', 'Mark A. Hasegawa-Johnson', 'Sinong Wang', 'Pierre Baldi', 'Juha T. Karhunen', 'Junichiro Yoshimoto', 'Antonino Casile', 'Pedro Mercado', 'Ming Yu', 'Cheng Li', 'Stefan Bauer', 'Michael Herrmann', 'Hyoungsoo Yoon', 'Michio Nakashima', 'Justinian P. Rosca', 'Danny Segev', 'Lerrel Pinto', 'Qiang Yang', 'Seth Bridges', 'Botond Cseke', 'Levi Boyles', 'Abbas Kazerouni', 'James A. Arnemann', 'Prateep Bhattacharjee', 'Hariharan Narayanan', 'Pratik Jawanpuria', 'Shrinu Kushagra', 'Lu?s Seabra Lopes', 'Marthinus C. du Plessis', 'Bogdan Savchynskyy', 'Song Han', 'G. G. Blasdel', 'Ilya Nemenman', 'Omar Z. Khan', 'Don R. Hush', 'Michal Derezinski', 'Johannes Schindelin', 'Rebecca Roelofs', 'Pascal Poupart', 'Jessica A. Grahn', 'Siddharth Batra', 'Alan Aspuru-Guzik', 'Yash Deshpande', 'Hanzi Wang', 'Jean Pierre Raysz', 'Alban Desmaison', 'Fernando J. Pineda', 'Steven Gold', 'Guy Shani', 'Ke Xu', 'Danny Bickson', 'Raef Bassily', 'Jennifer Wortman', 'Jaety Edwards', 'Fang Zhao', 'Tom J. Richardson', 'Anup Rao', 'Warren Powell', 'John Shawe-Taylor', 'Robert E. Jenkins', 'Naonori Ueda', 'H. N. Mhaskar', 'Urs Koster', 'Matthias Poloczek', 'Ulrich Paquet', 'Babak Shakibi', 'Kristiaan Pelckmans', 'Lars Kai Hansen', 'Javid Sadr', 'Sriraam Natarajan', 'John-mark M. Agosta', 'Nicolas L. Roux', 'Rodney Douglas', 'Angela Schoellig', 'Jon M. Kleinberg', 'Atam P. Dhawan', 'Pingfan Tang', 'Ke Liu', 'Linyan Meng', 'Hedvig Kjellstr?m', 'Thomas Powers', 'Tavian Barnes', 'Remi Cuingnet', 'Karen Willcox', 'Andres Munoz', 'Wojciech Zaremba', 'Michael G. Dyer', 'Allen Yang', 'Dmitry P. Vetrov', 'Rahul Sarpeshkar', 'Nikzad Benny Toomarian', 'Mark Plutowski', 'G. Jimenez-Moreno', 'Yuxuan Wang', 'Yonatan Gur', 'Xiaogang Wang', 'Chang Liu', 'Antonio Torralba', 'Hadi Daneshmand', 'Maarten Speekenbrink', 'Wei Pan', 'Emtiyaz Khan', 'Yi Ding', 'Elaine Corbett', 'Alexander J. Ratner', 'Guangyu Zhong', 'Jennifer Hobbs', 'Ben Singer', \"Shin'ichi Satoh\", 'Olaf Sporns', 'Marilyn A. Walker', 'Serhat Bucak', 'Nisarg Shah', 'Chandrika Kamath', 'Ki Tae Park', 'Matthias H. Hennig', 'Tim Lillicrap', 'Yee Whye Teh', 'Sham M. Kakade', 'Michail Zak', 'Vatsal Sharan', 'Shabnam N. Kadir', 'Yoram Baram', 'Alexander J. Smola', 'Fei Chen', 'Weizhu Chen'], ['Alexandre Lacasse', 'Gert Lanckriet', 'Max Hinne', 'Shaojun Wang', 'Toshiro Kubota', 'Diederik P. Kingma', 'Sergio Guadarrama', 'Duncan Blythe', 'Mikio L. Braun', 'Peter D. Lawrence', 'Michiel O. Noordewier', 'Ayhan Demiriz', 'Lise Getoor', 'Matthew G. Snover', 'Rong Jin', 'Dan Walker', 'Toke Hansen', 'Pulkit Grover', 'Kurt Fleischer', 'Johannes Traa', 'Soumya Ray', 'Michael I. Jordan', 'Nicol? Cesa-Bianchi', 'Stefano Panzeri', 'Jure Leskovec', 'Chris Piech', 'Gongguo Tang', 'Maosong Sun', 'Eduard S?ckinger', 'Louis Wehenkel', 'Mohsen Hejrati', 'George Trigeorgis', 'Hans-Georg Zimmermann', 'Silvia Chiappa', 'Julien Stainer', 'Ian Bruce', 'Shubhendu Trivedi', 'David A. Knowles', 'Oswin Krause', 'Ryan Kelly', 'Lorenzo Torresani', 'Hod Lipson', 'Magnus Rattray', 'Tai Qin', 'Luigi Acerbi', 'Ricardo Vig?rio', 'Jack Valmadre', 'Mert Gurbuzbalaban', 'Yee W. Teh', 'Hansheng Diao', 'Katya Scheinberg', 'Terence D. Sanger', 'Cedric Deffayet', 'Yang Wang', 'D. L. Standley', 'Aloke Guha', 'Eric K. Tsang', 'Jin Tian', 'Kevin Lin', 'Massimiliano Pontil', 'Daniel Kersten', 'Rudolf Lioutikov', 'Marzia Polito', 'Kevin Gimpel', 'Dijun Luo', 'Chih-jen Lin', 'xiongtao Chen', 'Le Fang', 'Alina Beygelzimer', 'Neville Mehta', 'Alaa Saade', 'Go Okada', 'Dong Chen', 'Matthew Johnson', 'Daniel L. James', 'Mandar D. Dixit', 'Timothy Hirzel', 'Ajit V. Rao', 'W. E. Blanz', 'Brian Sallans', 'Kritika Muralidharan', 'Zhi Wei', 'Chao Qu', 'Thomas P. Vogl', 'Matthew Hoffman', 'Noam Shazeer', 'Wenhao Gui', 'Jiri Simsa', 'S. Espejo', 'Ajay Jasra', 'Koosha Khalvati', 'Dirk Walther', \"Simon O'Callaghan\", 'Pavel Dvurechensky', 'Geoffrey Towell', 'Laiwan Chan', 'Hiroshi Ando', 'Jin Tang', 'S. Sathiya Keerthi', 'Giulia DeSalvo', 'Hung Bui', 'Adrian R. Vetta', 'Margaret E. Sereno', 'Z. Gao', 'Michael Tarr', 'Zakria Hussain', 'C. C. Alan Fung', 'Stephen Baccus', 'Davood Hajinezhad', 'Yair Wiener', 'Christina E. Lee', 'Soham De', 'Parikshit Shah', 'Moran Feldman', 'Arnulf B. Graf', 'Amir M. Farahmand', 'Ariadna Quattoni', 'Bing Xu', 'Bertrand Thirion', 'Sharan Vaswani', 'Yuyu Zhang', 'Anne-marie Dogonowski', 'Yang Ning', 'Michael Zhu', 'Jarod Roland', 'Dominique Tschopp', 'Salomon Diether', '?d?m Kepecs', 'Tom?? Koc?k', 'Andrew Gibiansky', 'Espen Hagen', 'Ashutosh Saxena', 'Shaona Ghosh', 'Anton Osokin', 'Jing Rong', 'Roee Litman', 'Halina Abramowicz', 'David Pfau', 'Xiangru Lian', 'Dmitry Kamenetsky', 'Eric Chi', 'Nagarajan Natarajan', 'Martine de Gerlache', 'Kathryn Roeder', 'Abhijeet Ghosh', 'Matthias Z?hrer', 'Ohad Shamir', 'Jung Yoon Choi', 'Luca Benini', 'Diane Beck', 'Pierre-yves Oudeyer', 'Marcel Nonnenmacher', 'Martin Raphan', 'Rasmus K. Olsson', 'Ananda Theertha Suresh', 'Xingyuan Sun', 'Yan-Ming Zhang', 'Michael Mathieu', 'Xiaojin Zhu', 'F. Fallside', 'Jennifer S. Lund', 'Yu-Bin Yang', 'Shuo-yen R. Li', 'Alper Ayvaci', 'Ronggang Wang', 'Katherine Chen', 'Michael L. Wick', 'Jehoshua Bruck', 'Herbert Jaeger', 'Katerina Clemens', 'Stefanos Eleftheriadis', 'Patric K. Stanton', 'Christoforos Christoforou', 'Kensuke Sekihara', 'Salah El Hihi', 'Kazuho Watanabe', 'Woonhyun Nam', 'Weidong Cai', 'Adam Mamelak', 'G. N. Borisyuk', 'Sennay Ghebreab', 'Zhenyu Lai', 'Donghyuk Shin', 'Anna Harutyunyan', 'Masayuki Miyamoto', 'Eugenio Culurciello'], ['Ken Kansky', 'Fabio Vitale', 'Dean Pomerleau', 'Chao Qin', 'Yifan Wu', 'Lloyd Russell', 'Robert B. Allen', 'Michael Tschannen', 'David J. Willshaw', 'Chen-Ping Yu', 'Shan Parfitt', 'Alex T. Nelson', 'Chris Dyer', 'Mark Schnitzer', 'Gregory M. Saunders', 'Wei Wang', 'Jaan Altosaar', 'Robert R. de Ruyter van Steveninck', 'Rolf Pohmann', 'Ali Jalali', 'Jonathan Weed', 'Jian Xu', 'Daniel Stefankovic', 'Antonio Criminisi', 'Gary G. Blasdel', 'Shu-Tao Xia', 'Luke Maurits', 'Alexandr Andoni', 'Ben S. Wittner', 'Miroslav Dud?k', 'John Makhoul', 'Robert Duin', 'Feng Jiao', 'Wing Hung Wong', 'Onno Zoeter', 'Vijay R. Konda', 'Sameer Agarwal', 'William E. Vinje', 'David Sussillo', 'Sebastian Claici', 'Mirta B. Gordon', 'William Constable', 'C. J. Wellekens', 'Ruihao Zhu', 'Eric B. Baum', 'Fei Sha', 'Charles Lefurgy', 'Michael G. Paulin', 'Jason Ge', 'Anna Morpurgo', 'Greg Horwitz', 'Sinead Williamson', 'Daniel Berend', 'Arnold Smeulders', 'Michael J. Quinlan', 'Rajesh Ranganath', 'Jeffrey Kaye', 'Lenka Zdeborov?', 'Yuzong Liu', 'Maksim Zhukovskii', 'Ran Gilad-Bachrach', 'Oren Souroujon', 'Aaron Roth', 'Prakash Panagaden', 'Thomas G. Dietterich', 'Kostas Tsioutsiouliklis', 'Nuno Nvasconcelos', 'Eran Segal', 'arthur flajolet', 'Christopher Harvey', 'Te W. Lee', 'Daniele Calandriello', 'Weili Lin', 'Thomas Kailath', 'Suvrit Sra', 'Michal Valko', 'Alexander Shustorovich', 'Serhii Havrylov', 'Ingo Schie?l', 'Kevin Shi', 'Margareta Ackerman', 'Laura W. Renninger', 'Thorsten Joachims', 'Nathan Srebro', 'Carmelo Piccione', 'Linsey Pang', 'Anita C. Faul', 'David B. Smith', 'Emery Brown', 'Ehud Zohary', 'Reto Wyss', 'B. V. K. Vijaya Kumar', 'Luona Yang', 'Lior Wolf', 'Michael Recce', 'Stephen E. Fienberg', 'Mordechai Nisenson', 'H.J. Chiel', 'Leonid Taycher', 'Byoung-Tak Zhang', 'Mona Eberts', 'Duane Szafron', 'Zhenan Sun', 'Dimitrios Apostolopoulos', 'Jer?nimo Arenas-garc?a', 'James V. Brecht', 'Cristopher Moore', 'Xiaojiao Mao', 'Alfred O. Hero', 'Chris Fernandez', 'Tony Robinson', 'Marco Grzegorczyk', 'Gergo Bohner', 'Svetha Venkatesh', 'Sebastian Scherer', 'Nicu Sebe', 'Maria Lomeli', 'Darren Mutz', 'Sheng-jun Huang', 'Sean Cutler', 'Urs A. M?ller', 'Huixia J. Wang', 'Philip H. Goodman', 'Anastasia Podosinnikova', 'Balamurugan Palaniappan', 'S. P. Singh', 'Krysta Svore', 'Llion Jones', 'Leif H. Finkel', 'Panagiotis Toulis', 'Kafui Dzirasa', 'Tim Smithers', 'Donghyun Kwak', 'Dieter Fox', 'Andrew Feng', 'Stelios M. Smirnakis', 'Geoffrey Irving', 'Krishna V. Shenoy', 'Sowmya Ramachandran', 'Kiyoshi Asai', 'Joseph Dao', 'Lane McIntosh', 'Josef Zeitlhofer', 'Les E. Atlas', 'Sven Peter', 'Dan Garber', 'John K. Douglass', 'Adam White', 'Vicente Honrubia', 'E. J. Kehoe', 'Eugene Ndiaye', 'Ting-Chuen Pong', 'Jonathan Chang', 'Ravishankar Iyer', 'Rie K. Ando', 'Maximillian Nickel', 'Lei Yuan', 'Marius Pachitariu', 'Mehran Sahami', 'Mauro Scanagatta', 'Am?lie Heliou', 'Saeid Motiian', 'Amir Navot', 'Hamid R. Maei', 'John W. Zweck', 'Yanmei Tie', 'Ankan Saha', 'Boris S. Gutkin', 'Donald W. Mathis', 'Tuomas Haarnoja', 'Vicente Ordonez', 'Peter Mccracken', 'Yoichi Miyawaki', 'Nevin Lianwen Zhang', 'Arthur B. Markman', 'Koji Kotani', 'S. Nakamura', 'Ausra Saudargiene', 'Matteo Turchetta', 'James Lloyd', 'Olga Russakovsky', 'Robert West', 'Carlos D. Brody', 'Joseph K. Bradley', 'Abir Zahalka', 'Emile Richard', 'Maxim Rabinovich', 'William Brendel', 'Alexandre Proutiere', 'Eva Tardos', 'Aaron van den Oord', 'Mingrui Liu', 'Weiwei Cheng', 'Po-ling Loh', 'Joerg Bornschein', 'Petr Lansky', 'Kristoffer Madsen', 'Erik Linstead', 'Alex Conconi', 'Daniil Ryabko', 'Qian Wang', 'Robert Bamler', 'Tijl D. Bie', 'Rodney Goodman', 'Aijun Bai', 'Michael Eisele', 'Andrew M. Dai', 'Dogyoon Song', 'Denis D. Maua', 'Yonghui Wu', 'Avrim Blum', 'Hanna Wallach', 'Francis R. Bach', 'XuanLong Nguyen', 'Olivier Chapelle', 'Dirk Ormoneit', 'Joseph Sirosh', 'John T. Halloran', 'Raoul Tawel', 'Hui-H. Hsu', 'Po-Hsuan (Cameron) Chen', 'Bartek Rajwa', 'Moshe Babaioff', 'Sanjeev Satheesh', 'Eric Christiansen', 'Jiajing Xu', 'Joshua T. Abbott', 'Benjamin Blankertz'], ['Maren Mahsereci', 'Saketha N. Jagarlapudi', 'Tian Lan', 'Tomi Janhunen', 'Rodolfo A. Milito', 'Wim Wiegerinck', 'Wei Chu', 'Joel Bert', 'Clemens Hoffmann', 'Howard Henry', 'David M. Rocke', 'Tommaso Fellin', 'Miguel Rodrigues', 'Arthur Gretton', 'Indraneel Mukherjee', 'Giacomo M. Bisio', 'Anuj Mahajan', 'William M. Campbell', 'Hassan Ashtiani', 'Nello Cristianini', 'Bhaskar D. Rao', 'Ryota Kobayashi', 'Pascal Vincent', 'Konrad P. K?rding', 'Claudia Clopath', 'Valentin Zhigulin', 'Federico Girosi', 'R. Douglas', 'Alexander S. Ecker', 'Eugenio Piasini', 'Hans P. Graf', 'Eduardo D. Sontag', 'Steven Ehrlich', 'Volodymyr Mnih', 'David Schlegel', 'Simon Osindero', 'Pedro Domingos', 'Marc-olivier Schwartz', 'Yasumasa Ueda', 'R. Paz-Vicente', 'M. C. Tresch', 'John Blitzer', 'Wen-Hao Zhang', 'Edward I. George', 'Yuuya Sugita', 'Edo Collins', 'Ya Xu', 'Francois Meyer', 'Y\\x7faniv Tenzer', 'Michail Kontitsis', 'Vladlen Koltun', 'Man Lan', 'Carlos J. Becker', 'Ronald Parr', 'Scott A. Brandt', 'Yang Xu', 'Chao Qian', 'Giorgio Corani', 'Stuart N. Wrigley', 'Emin Orhan', 'Shlomo Zilberstein', 'Malcolm Slaney', 'Ilya O. Tolstikhin', 'Nate Derbinsky', 'Guo-Zhen Sun', 'Chuong B. Do', 'G. T. Kenyon', 'Daphne Bavelier', 'Anthony Bloesch', 'Jiaming Song', 'Justin T. Khim', 'C. B. Miller', 'Mark Maloof', 'Urs K?ster', 'Deepak Verma', 'Yunhe Wang', 'John F. Houde', 'Geoffrey J. Goodhill', 'Azadeh Khaleghi', 'Wei Ping', 'Trac D. Tran', 'Parag Singla', 'Rachel Fong', 'H. Ishiguro', 'Pradeep K. Ravikumar', 'Justin A. Boyan', 'Larry Wasserman', 'Timothy T. Rogers', 'Joseph W. Goodman', 'Pascal Massart', 'Luca Bascetta', 'Nitin Motgi', 'Thibault Lesieur', 'Ness Shroff', 'W. Finnoff', 'Radu Timofte', 'Paolo Viappiani', 'Rebecca C. Steorts', 'Hongyang Zhang', 'Austin I. Eliazar', 'Josip Djolonga', 'Sriram Srinivasan', 'Deqing Sun', 'Gary Cook', 'Bert De Brabandere', 'Ernesto D. Vito', 'Juan Huo', 'Madhu Advani', 'Ali Nouri', 'Andrew W. Fitzgibbon', 'Hemant S. Kudrimoti', 'Jean-Franc Isabelle', 'Tianqi Chen', 'Yizhi Wang', 'Kagan Tumer', 'Stefan Magureanu', 'Vince Calhoun', 'Andrew Ziegler', 'Antal van den Bosch', 'Paul Swoboda', 'Natalia Neverova', 'Pedro M. Domingos', 'Louis Ceci', 'Ge Yang', 'Phillip A. Jang', 'Naiyan Wang', 'Paul E. Nachtigall', 'Dirk Timmerman', 'Hado P. van Hasselt', 'Nico Goernitz', 'Youssef Mroueh', 'Ying Zhang', 'Aravindan Vijayaraghavan', 'Franziska Meier', 'Toshiteru Homma', 'Arthur U. Asuncion', 'Nicholas Rhinehart', 'Amnon Yariv', 'Enrico Bocchieri', 'Alex Strehl', 'Wei Liu', 'Harry Printz', 'Donglai Xu', 'Yuichi Yoshida', 'Sofia Mosci', 'Xavier Boyen', 'Mark Kvale', 'F. Weber', 'Xavier Giannakopoulos', 'James W. Howse', 'YI WU', 'Jitendra Malik', 'Lance Wu', 'Jonathan Le Roux', 'Xiaoqian Wang', 'Audrey L. Guzik', 'arthur szlam', 'Michael A. Osborne', 'Hanlin Goh', 'Kent Quanrud', 'Brian Ziebart', 'Tzu-pu Hsieh', 'Weisheng Dong', 'Agathe Girard', 'Dmitry Ostrovsky', 'Guang Dai']]\n",
      "temps\n",
      "evals\n"
     ]
    },
    {
     "data": {
      "text/plain": [
       "-0.02416896501669325"
      ]
     },
     "execution_count": 161,
     "metadata": {},
     "output_type": "execute_result"
    }
   ],
   "source": [
    "G = generator(1000)\n",
    "curr, curr_eval = simulated_annealing(G, 5, 1000, 0.1)\n",
    "curr\n",
    "b"
   ]
  },
  {
   "cell_type": "code",
   "execution_count": null,
   "metadata": {},
   "outputs": [],
   "source": [
    "plt.hist(evals[59], 25)"
   ]
  },
  {
   "cell_type": "markdown",
   "metadata": {
    "id": "b245E67Bo-Zm"
   },
   "source": [
    "Soluzio bakarrean oinarritutako algoritmoetan pentsatzen egon gara eta VND bat inplementatzea izan da lehenengo ideia. VND algoritmoarekin hainbat arazo izan ditugu. Arazo nagusia, ingurune funtzio erabilgarri kopuru txikia dugula izan da. Proba asko egin ditugu Swap eta Insert ingurune funtzioekin, baina hauek bueltatzen zitukopuruazten bizilagun kopurua handiegia zen, eta beraz, alde batera utzi dugu VND algoritmoa.\n",
    "\n",
    "Kontuan hartuta VND bat bideraezina dela, Simulated Annealing erabiltzea erabaki dugu. Oinarri probabilistikoa duen algoritmoa da. Tenperatura eta energia izeneko parametro batzuk erabiliz, uneko soluzioa baino okerragoak diren soluzio batzuk onartuko ditugu irizpide bati jarraituz. Algoritmo honek Esplorazio-Esplotazio ideia erabiltzen du, hasieran tenperatura handiarekin soluzio oker gehiago onartuz eta bukaeran bilaketa lokal baten itxura hartuz.\n",
    "\n",
    "Soluzio bakarrean oinarritutako algoritmo bezala Simulated annealing-a erabili dugu, tenperaturaren ideia esploraziorako oso ona delako eta gainera, kandidatoak aukeratzeko erabiltzen duen teknika, hau da, ingurunetik ausaz kandidato bat hartzea, egokia delako gure probleman. \n",
    "\n",
    "Hala ere, VND-rekin gertatzen den bezala, bilaketa heuristikoetako ingurune batzuk(Swap, insert, ...) \"ondoko soluzio\" gehiegi kalkulatzen ditu eta honek gure ingurune propioak sortzera behartu gaitu. \n",
    "\n",
    "Gure kasuan beraz, ingurune berri bat sortu dugu soluzio bakoitzarentzat autore kopuru(1843) \"ondoz-ondoko\" soluzio kalkulatzen dituena. Horretarako, soluzio berriak autore bakoitzarentzat berekin elkarlanean aritu diren denak bere partizioan sartuz kalkulatu ditugu. \n",
    "\n",
    "Hala ere, ingurune honen arazo handiena soluzioen erredundantzia da. Hau da, sortutako 1843 soluzioetatik, askok partizio berak adierazten dituzte. Arazo hau ekiditeko, desberdinak diren soluzioak soilik bueltatuko ditugu."
   ]
  },
  {
   "cell_type": "markdown",
   "metadata": {
    "id": "CkwqGQlXkFAS"
   },
   "source": [
    "EDA bat egitea izan da gure azken erabakia. Hasierako populazio bat erabiliz, hauetatik onenak hartuz eta eredu probabilistiko baten bidez hurrengo belaunaldia sortzean oinarritzen den algoritmoa da honakoa. Populazioaren hasieraraketa ausaz egingo dugu, soluzio hoberenak zein diren ikusteko modularitatea erabiliko dugu eta soluzio on hauen parametroak ikusiz eta eredu probabilistiko bat jarraituz populazio berri bat osatuko dugu.\n",
    "\n",
    "Gure problemarentzat EDA erabiltzea egokia iruditu zaigu erabiltzen duen eredu probabilistikoa zentzuzkoa eta erraza delako aplikatzeko. Permutazioetan ez bezala, gure soluzioetan berdin du balioak errepikatzea. Iritsiko da puntu bat non, belaunaldi batean populazio askoko autore jakin batzuk partizio berdinean egongo diren beti, honek esan nahi du autore hauek partizio berdinean egoteak modularitatea handitzea laguntzen duela, eta beraz, soluzio on batera hurbilduko gara. \n",
    "\n",
    "Hona hemen EDA-ren fluxu diagrama basiko bat:"
   ]
  },
  {
   "cell_type": "markdown",
   "metadata": {
    "id": "CvY-LpPylEs8"
   },
   "source": [
    "![imagen.png](data:image/png;base64,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)"
   ]
  },
  {
   "cell_type": "code",
   "execution_count": 63,
   "metadata": {
    "colab": {
     "base_uri": "https://localhost:8080/"
    },
    "id": "qDzZLfvNb7eO",
    "outputId": "3a67dadd-296e-45ed-98e8-24b23048429d",
    "scrolled": true
   },
   "outputs": [
    {
     "name": "stdout",
     "output_type": "stream",
     "text": [
      "6.937980651855469e-05\n"
     ]
    }
   ],
   "source": [
    "import time\n",
    "def EDA_Hasieraraketa(G,pop_tam,part_kop):\n",
    "    #EDA algoritmoaren hasieraketa funtzioa\n",
    "    #pop_tam tamainako ausazko populazioa bueltatzen du\n",
    "    pop = list()\n",
    "    for i in range(pop_tam):\n",
    "        pop.append(randomSol(G, part_kop, part_kop)) #Ausazko soluzioa sortu\n",
    "    return pop\n",
    "\n",
    "def EDA_ProbabilitateakLortu(populazioa, part_kop, authors):\n",
    "    #EDA algorimoaren probabilitate funtzioaren kalkulua\n",
    "    #Autore bakoitzarentzat partizio bakoitzean egoteko probabilitatea bueltatzen du.\n",
    "    populazioa = list(map(part_to_dict, populazioa))\n",
    "    prob_list = [np.zeros(len(populazioa[0])) for i in range(part_kop)]\n",
    "    for i in populazioa:\n",
    "        for j in i:\n",
    "            prob_list[i[j]][np.where(authors == j)] += 1 /len(populazioa)\n",
    "    prob_list = np.array(prob_list)\n",
    "    return prob_list \n",
    "\n",
    "\n",
    "def EDA_HurrengoSoluzioakSortu(prob_list, tamaina, part_kop, authors):\n",
    "    #EDA algoritmoaren belaunaldi berriaren kalkulua\n",
    "    #Autore bakoitzarentzako, partizioen probabilitate funtzioa(prob_list) lagintzen du tamaina aldiz\n",
    "    #Prob_list funtzioak jarraituz, tamaina soluzio berri bueltatzen ditu\n",
    "    l = [np.random.choice(part_kop,tamaina, p = prob_list[:, i]) for i in range(len(prob_list[0]))]\n",
    "    l = np.transpose(np.array(l))\n",
    "   # time3 = time.process_time()\n",
    "    res2 = list(map(lambda x: dict_to_part(dict(zip(authors, x)), part_kop -1), l))\n",
    "    #time4 = time.process_time()\n",
    "    return res2\n",
    "\n",
    "def EDA_OnenakAukeratu(G, pop, tamaina, num_parts):\n",
    "    #EDA algoritmoaren aukeraketa funtzioa\n",
    "    #Populazioa(pop) bat emanda populaziotik(pop) tamaina onenak bueltatzen ditu\n",
    "    pop_berri = sorted(pop, key=lambda x : modularitatea(G, x, num_parts), reverse=True)\n",
    "    pop_berri = pop_berri[0:int(tamaina)]\n",
    "    return pop_berri, len(pop)\n",
    "\n",
    "def EDA(G,populazio_tamaina, zatiOnenak, part_kop, maximo_ebaluazio):\n",
    "    #EDA algoritmoaren inplementazioa\n",
    "    time1 = time.process_time()\n",
    "    x = []\n",
    "    y = []\n",
    "    authors = np.array(G.nodes())\n",
    "    authors_dict = dict(zip(authors,([0 for j in range(part_kop)] for i in range(len(authors)))))\n",
    "    pop = EDA_Hasieraraketa(G,populazio_tamaina,part_kop)\n",
    "    ebaluazio_kop_act = 0\n",
    "    while ebaluazio_kop_act < maximo_ebaluazio:\n",
    "        onenak, lag = EDA_OnenakAukeratu(G, pop, populazio_tamaina/zatiOnenak, part_kop)\n",
    "        ebaluazio_kop_act += lag\n",
    "        x.append(ebaluazio_kop_act)\n",
    "        y.append(modularitatea(G, onenak[0]))\n",
    "        if ebaluazio_kop_act >= maximo_ebaluazio:\n",
    "            break\n",
    "        prob_list = EDA_ProbabilitateakLortu(onenak, part_kop, authors)\n",
    "        \n",
    "        pop = EDA_HurrengoSoluzioakSortu(prob_list, populazio_tamaina, part_kop, authors)\n",
    "    print(\"ebaluazioak, \", ebaluazio_kop_act)\n",
    "    #plt.plot(x, y)\n",
    "    time2  =time.process_time()\n",
    "    return modularitatea(G, onenak[0]), time2 - time1\n",
    "\n",
    "G = generator(1000)\n",
    "time1 = time.time()\n",
    "#mod, onenak = EDA(G, 200, 100,4, 5)\n",
    "time2 = time.time()\n",
    "print(time2 - time1)"
   ]
  },
  {
   "cell_type": "code",
   "execution_count": 10,
   "metadata": {},
   "outputs": [],
   "source": [
    "l = EDA_ProbabilitateakLortu(onenak, part_kop, authors)\n",
    "print(len(l))"
   ]
  },
  {
   "cell_type": "code",
   "execution_count": 140,
   "metadata": {},
   "outputs": [],
   "source": [
    "import pandas as pd\n",
    "num_generator = 5\n",
    "edaRes = []\n",
    "simulated_res = []\n"
   ]
  },
  {
   "cell_type": "code",
   "execution_count": 91,
   "metadata": {},
   "outputs": [],
   "source": [
    "def createCSV(erantzuna, izenakx,izenaky, csvN):\n",
    "    df = pd.DataFrame(erantzuna, izenaky, columns=izenakx)\n",
    "    os.makedirs('CSV/', exist_ok=True)  \n",
    "    df.to_csv('CSV/' + csvN)\n",
    "#createCSV(erantzuna, izenak,list(range(int(len(erantzuna)))), \"era\")"
   ]
  },
  {
   "cell_type": "code",
   "execution_count": 167,
   "metadata": {
    "scrolled": true
   },
   "outputs": [
    {
     "name": "stdout",
     "output_type": "stream",
     "text": [
      "25 4\n",
      "ebaluazioak,  5000\n",
      "ebaluazioak,  5000\n",
      "ebaluazioak,  5000\n",
      "ebaluazioak,  5000\n",
      "ebaluazioak,  5000\n",
      "25 5\n",
      "ebaluazioak,  5000\n",
      "ebaluazioak,  5000\n",
      "ebaluazioak,  5000\n",
      "ebaluazioak,  5000\n",
      "ebaluazioak,  5000\n",
      "25 6\n",
      "ebaluazioak,  5000\n",
      "ebaluazioak,  5000\n",
      "ebaluazioak,  5000\n",
      "ebaluazioak,  5000\n",
      "ebaluazioak,  5000\n",
      "50 4\n",
      "ebaluazioak,  5000\n",
      "ebaluazioak,  5000\n",
      "ebaluazioak,  5000\n",
      "ebaluazioak,  5000\n",
      "ebaluazioak,  5000\n",
      "50 5\n",
      "ebaluazioak,  5000\n",
      "ebaluazioak,  5000\n",
      "ebaluazioak,  5000\n",
      "ebaluazioak,  5000\n",
      "ebaluazioak,  5000\n",
      "50 6\n",
      "ebaluazioak,  5000\n",
      "ebaluazioak,  5000\n",
      "ebaluazioak,  5000\n",
      "ebaluazioak,  5000\n",
      "ebaluazioak,  5000\n",
      "75 4\n",
      "ebaluazioak,  5025\n",
      "ebaluazioak,  5025\n",
      "ebaluazioak,  5025\n",
      "ebaluazioak,  5025\n",
      "ebaluazioak,  5025\n",
      "75 5\n",
      "ebaluazioak,  5025\n",
      "ebaluazioak,  5025\n",
      "ebaluazioak,  5025\n",
      "ebaluazioak,  5025\n",
      "ebaluazioak,  5025\n",
      "75 6\n",
      "ebaluazioak,  5025\n",
      "ebaluazioak,  5025\n",
      "ebaluazioak,  5025\n",
      "ebaluazioak,  5025\n",
      "ebaluazioak,  5025\n"
     ]
    },
    {
     "data": {
      "text/plain": [
       "'\\nresSIM = np.zeros((len(simulatedParams[\"beta\"]), len(simulatedParams[\"p\"])))\\n\\nfor idx, i in enumerate(simulatedParams[\"beta\"]):\\n    for idj, j in enumerate(simulatedParams[\"p\"]):\\n        m = 0\\n        for k in range(n):\\n            a =simulated_annealing(G,part_kop, iterazioKop,i, p = j)\\n            m += a[0]\\n        resSIM[idx][idj] = m / n\\n\\ncreateCSV(resSIM, simulatedParams[\"p\"], simulatedParams[\"beta\"], \"SIMParameterONA\")\\n'"
      ]
     },
     "execution_count": 167,
     "metadata": {},
     "output_type": "execute_result"
    }
   ],
   "source": [
    "#Parameter tunning\n",
    "part_kop = 4\n",
    "iterazioKop = 5000\n",
    "edaParams = {\"populazio_tamaina\": [25, 50, 75], \"zatiOnena\": [4,5,6]}\n",
    "#simulatedParams = {\"beta\": [0.05, 0.1,0.2, 0.3, 0.4,0.5, 0.7], \"p\": [0.5, 0.6, 0.7, 0.8, 0.85]}\n",
    "#simulatedParams = {\"beta\": [0.05, 0.1], \"p\": [0.5, 0.6]}\n",
    "\n",
    "resEDA = np.zeros((len(edaParams[\"populazio_tamaina\"]),len(edaParams[\"zatiOnena\"])))\n",
    "n = 5\n",
    "#G = generator(2000)\n",
    "for idx, i in enumerate(edaParams[\"populazio_tamaina\"]):\n",
    "    for idj, j in enumerate(edaParams[\"zatiOnena\"]):\n",
    "        print(i, j)\n",
    "        m = 0\n",
    "        for k in range(n):\n",
    "            a =EDA (G, 100000000000, i, j, part_kop, iterazioKop)\n",
    "            m += a[0]\n",
    "        resEDA[idx][idj] = m / n\n",
    "createCSV(resEDA, edaParams[\"zatiOnena\"], edaParams[\"populazio_tamaina\"], \"EDAParameterONA2\")\n",
    "\n",
    "\"\"\"\n",
    "resSIM = np.zeros((len(simulatedParams[\"beta\"]), len(simulatedParams[\"p\"])))\n",
    "\n",
    "for idx, i in enumerate(simulatedParams[\"beta\"]):\n",
    "    for idj, j in enumerate(simulatedParams[\"p\"]):\n",
    "        m = 0\n",
    "        for k in range(n):\n",
    "            a =simulated_annealing(G,part_kop, iterazioKop,i, p = j)\n",
    "            m += a[0]\n",
    "        resSIM[idx][idj] = m / n\n",
    "\n",
    "createCSV(resSIM, simulatedParams[\"p\"], simulatedParams[\"beta\"], \"SIMParameterONA\")\n",
    "\"\"\"\n"
   ]
  },
  {
   "cell_type": "code",
   "execution_count": null,
   "metadata": {},
   "outputs": [],
   "source": [
    "\n",
    "x_min = optimize.minimize(sixhump, x0=[0, 0])\n",
    "\n",
    "plt.figure()\n",
    "# Show the function in 2D\n",
    "plt.imshow(sixhump([xg, yg]), extent=[-2, 2, -1, 1], origin=\"lower\")\n",
    "plt.colorbar()\n",
    "# And the minimum that we've found:\n",
    "plt.scatter(x_min.x[0], x_min.x[1])\n",
    "\n",
    "plt.show()\n"
   ]
  },
  {
   "cell_type": "code",
   "execution_count": 258,
   "metadata": {},
   "outputs": [
    {
     "data": {
      "image/png": "[encoded data removed]",
      "text/plain": [
       "<Figure size 432x288 with 2 Axes>"
      ]
     },
     "metadata": {
      "needs_background": "light"
     },
     "output_type": "display_data"
    }
   ],
   "source": [
    "import matplotlib.pyplot as plt\n",
    "import seaborn as sns\n",
    "def parameterGraph(M):\n",
    "    fig, ax = plt.subplots(1,1)\n",
    "    Cols = [2, 3, 4, 5, 6]\n",
    "    Index = [25, 50,75,100,250,500,750,1000,1200]\n",
    "    \n",
    "    test_df = pd.DataFrame(M,index=Index, columns=Cols)\n",
    "    s  =sns.heatmap(test_df,cmap=plt.cm.RdYlGn,vmin=0,vmax=1)\n",
    "    s.set(xlabel='Zatiketa', ylabel='Populazio tamaina')\n",
    "    \n",
    "parameterGraph(M)\n",
    "#Parametro onenak\n",
    "#eda = EDA (G, 100000000000, 100, 4, part_kop, iterazioKop)\n"
   ]
  },
  {
   "cell_type": "code",
   "execution_count": 168,
   "metadata": {},
   "outputs": [],
   "source": [
    "M = [[0.1991905699, 0.1870734806,0.1683847004,0.1366750998,0.1143458331],\n",
    "    [0.3142507824, 0.3126254755, 0.2756621503,0.2538111355,0.2334242612],\n",
    "    [0.3959258635, 0.382507974, 0.3531559753, 0.3373132438, 0.3130383614],\n",
    "    [0.3218065628,0.4192458912,0.4237140234,0.4021654017,0.3751820993],\n",
    "    [0.08360075711,0.1108632897,0.1562867263,0.1795230224,0.215361931],\n",
    "    [0.05099514627,0.05087438391,0.06102037068,0.06565626581,0.07028796312],\n",
    "    [0.0544196698,0.05007754727,0.04926017129,0.04162148386,0.04771274901],\n",
    "    [0.04434632035,0.04925792245,0.05265351099,0.04813507993,0.04497359495],\n",
    "    [0.04699732014,0.04896092652,0.05092288375,0.04681658889,0.05502850396]]"
   ]
  },
  {
   "cell_type": "code",
   "execution_count": null,
   "metadata": {},
   "outputs": [],
   "source": [
    "#Esperimentazioa\n",
    "#mod, onenak = EDA(G, 4, 500, part_kop, iterazioKop)\n",
    "#simulated_annealing(G, 5, 1000, 0.1)\n",
    "part_kop = 4\n",
    "iterazioKop = 5000\n",
    "def EDA(G,populazio_tamaina, zatiOnenak, part_kop, maximo_ebaluazio):\n",
    "#simulated_annealing(G,part_kop, iter_kop,beta, p = 0.75):\n"
   ]
  },
  {
   "cell_type": "code",
   "execution_count": 77,
   "metadata": {},
   "outputs": [
    {
     "name": "stderr",
     "output_type": "stream",
     "text": [
      "/tmp/ipykernel_4315/2989255478.py:45: RuntimeWarning: overflow encountered in exp\n",
      "  accept = exp(-dif*100 / t)\n"
     ]
    },
    {
     "name": "stdout",
     "output_type": "stream",
     "text": [
      "temps\n",
      "evals\n"
     ]
    },
    {
     "data": {
      "text/plain": [
       "(0.71015048831924, 275.8046588359998)"
      ]
     },
     "execution_count": 77,
     "metadata": {},
     "output_type": "execute_result"
    },
    {
     "data": {
      "image/png": "[encoded data removed]",
      "text/plain": [
       "<Figure size 432x288 with 2 Axes>"
      ]
     },
     "metadata": {
      "needs_background": "light"
     },
     "output_type": "display_data"
    }
   ],
   "source": [
    "G =  generator(2000)\n",
    "part_kop = 4\n",
    "iterazioKop = 35000\n",
    "simulated_annealing(G,part_kop, iterazioKop,0.5, p = 0.5)"
   ]
  },
  {
   "cell_type": "code",
   "execution_count": 102,
   "metadata": {},
   "outputs": [
    {
     "name": "stdout",
     "output_type": "stream",
     "text": [
      "ebaluazioak,  50000\n"
     ]
    },
    {
     "data": {
      "image/png": "[encoded data removed]",
      "text/plain": [
       "<Figure size 432x288 with 1 Axes>"
      ]
     },
     "metadata": {
      "needs_background": "light"
     },
     "output_type": "display_data"
    }
   ],
   "source": [
    "mod, times= EDA(G, 500, 4, 4, 50000)"
   ]
  },
  {
   "cell_type": "code",
   "execution_count": 103,
   "metadata": {},
   "outputs": [
    {
     "data": {
      "text/plain": [
       "0.6601883663315657"
      ]
     },
     "execution_count": 103,
     "metadata": {},
     "output_type": "execute_result"
    }
   ],
   "source": [
    "mod"
   ]
  },
  {
   "cell_type": "code",
   "execution_count": 100,
   "metadata": {},
   "outputs": [],
   "source": [
    "def evaluations():\n",
    "    evaluations = [1000, 5000, 10000, 20000, 30000, 40000]\n",
    "    #evaluations = [100, 200]\n",
    "    repetitions1 = []\n",
    "    repetitions_time1 = []\n",
    "    repetitions2 = []\n",
    "    repetitions_time2 = []\n",
    "    samples =15\n",
    "    samplesID = [i for _ in range(len(evaluations)) for i in range(samples)]\n",
    "    print(samplesID)\n",
    "    y_ID = [\"eda\", \"time\", \"simulated\", \"time\"]\n",
    "    print(y_ID)\n",
    "    for i in evaluations:\n",
    "        for j in range(samples):\n",
    "            G = generator(2000)\n",
    "            mod, time = mod, times= EDA(G, 500, 4, 4, i)\n",
    "            repetitions1.append(mod)\n",
    "            repetitions_time1.append(time)\n",
    "            mod, times= simulated_annealing(G,part_kop, i,0.5, p = 0.5)\n",
    "            repetitions2.append(mod)\n",
    "            repetitions_time2.append(time)\n",
    "    erantzuna = [repetitions1, repetitions_time1, repetitions2, repetitions_time2]\n",
    "    createCSV(erantzuna, samplesID, y_ID,\"ScalabilityAttenttion\")"
   ]
  },
  {
   "cell_type": "code",
   "execution_count": 101,
   "metadata": {},
   "outputs": [
    {
     "name": "stdout",
     "output_type": "stream",
     "text": [
      "[0, 1, 2, 3, 4, 5, 6, 7, 8, 9, 10, 11, 12, 13, 14, 0, 1, 2, 3, 4, 5, 6, 7, 8, 9, 10, 11, 12, 13, 14, 0, 1, 2, 3, 4, 5, 6, 7, 8, 9, 10, 11, 12, 13, 14, 0, 1, 2, 3, 4, 5, 6, 7, 8, 9, 10, 11, 12, 13, 14, 0, 1, 2, 3, 4, 5, 6, 7, 8, 9, 10, 11, 12, 13, 14, 0, 1, 2, 3, 4, 5, 6, 7, 8, 9, 10, 11, 12, 13, 14]\n",
      "['eda', 'time', 'simulated', 'time']\n"
     ]
    },
    {
     "ename": "KeyboardInterrupt",
     "evalue": "",
     "output_type": "error",
     "traceback": [
      "\u001b[0;31m---------------------------------------------------------------------------\u001b[0m",
      "\u001b[0;31mKeyboardInterrupt\u001b[0m                         Traceback (most recent call last)",
      "Input \u001b[0;32mIn [101]\u001b[0m, in \u001b[0;36m<cell line: 1>\u001b[0;34m()\u001b[0m\n\u001b[0;32m----> 1\u001b[0m \u001b[43mevaluations\u001b[49m\u001b[43m(\u001b[49m\u001b[43m)\u001b[49m\n",
      "Input \u001b[0;32mIn [100]\u001b[0m, in \u001b[0;36mevaluations\u001b[0;34m()\u001b[0m\n\u001b[1;32m     14\u001b[0m \u001b[38;5;28;01mfor\u001b[39;00m i \u001b[38;5;129;01min\u001b[39;00m evaluations:\n\u001b[1;32m     15\u001b[0m     \u001b[38;5;28;01mfor\u001b[39;00m j \u001b[38;5;129;01min\u001b[39;00m \u001b[38;5;28mrange\u001b[39m(samples):\n\u001b[0;32m---> 16\u001b[0m         mod, time \u001b[38;5;241m=\u001b[39m mod, times\u001b[38;5;241m=\u001b[39m \u001b[43mEDA\u001b[49m\u001b[43m(\u001b[49m\u001b[43mG\u001b[49m\u001b[43m,\u001b[49m\u001b[43m \u001b[49m\u001b[38;5;241;43m500\u001b[39;49m\u001b[43m,\u001b[49m\u001b[43m \u001b[49m\u001b[38;5;241;43m4\u001b[39;49m\u001b[43m,\u001b[49m\u001b[43m \u001b[49m\u001b[38;5;241;43m4\u001b[39;49m\u001b[43m,\u001b[49m\u001b[43m \u001b[49m\u001b[43mi\u001b[49m\u001b[43m)\u001b[49m\n\u001b[1;32m     17\u001b[0m         repetitions1\u001b[38;5;241m.\u001b[39mappend(mod)\n\u001b[1;32m     18\u001b[0m         repetitions_time1\u001b[38;5;241m.\u001b[39mappend(time)\n",
      "Input \u001b[0;32mIn [63]\u001b[0m, in \u001b[0;36mEDA\u001b[0;34m(G, populazio_tamaina, zatiOnenak, part_kop, maximo_ebaluazio)\u001b[0m\n\u001b[1;32m     54\u001b[0m     \u001b[38;5;28;01mif\u001b[39;00m ebaluazio_kop_act \u001b[38;5;241m>\u001b[39m\u001b[38;5;241m=\u001b[39m maximo_ebaluazio:\n\u001b[1;32m     55\u001b[0m         \u001b[38;5;28;01mbreak\u001b[39;00m\n\u001b[0;32m---> 56\u001b[0m     prob_list \u001b[38;5;241m=\u001b[39m \u001b[43mEDA_ProbabilitateakLortu\u001b[49m\u001b[43m(\u001b[49m\u001b[43monenak\u001b[49m\u001b[43m,\u001b[49m\u001b[43m \u001b[49m\u001b[43mpart_kop\u001b[49m\u001b[43m,\u001b[49m\u001b[43m \u001b[49m\u001b[43mauthors\u001b[49m\u001b[43m)\u001b[49m\n\u001b[1;32m     57\u001b[0m     pop \u001b[38;5;241m=\u001b[39m EDA_HurrengoSoluzioakSortu(prob_list, populazio_tamaina, part_kop, authors)\n\u001b[1;32m     58\u001b[0m \u001b[38;5;28mprint\u001b[39m(\u001b[38;5;124m\"\u001b[39m\u001b[38;5;124mebaluazioak, \u001b[39m\u001b[38;5;124m\"\u001b[39m, ebaluazio_kop_act)\n",
      "Input \u001b[0;32mIn [63]\u001b[0m, in \u001b[0;36mEDA_ProbabilitateakLortu\u001b[0;34m(populazioa, part_kop, authors)\u001b[0m\n\u001b[1;32m     15\u001b[0m \u001b[38;5;28;01mfor\u001b[39;00m i \u001b[38;5;129;01min\u001b[39;00m populazioa:\n\u001b[1;32m     16\u001b[0m     \u001b[38;5;28;01mfor\u001b[39;00m j \u001b[38;5;129;01min\u001b[39;00m i:\n\u001b[0;32m---> 17\u001b[0m         prob_list[i[j]][np\u001b[38;5;241m.\u001b[39mwhere(\u001b[43mauthors\u001b[49m\u001b[43m \u001b[49m\u001b[38;5;241;43m==\u001b[39;49m\u001b[43m \u001b[49m\u001b[43mj\u001b[49m)] \u001b[38;5;241m+\u001b[39m\u001b[38;5;241m=\u001b[39m \u001b[38;5;241m1\u001b[39m \u001b[38;5;241m/\u001b[39m\u001b[38;5;28mlen\u001b[39m(populazioa)\n\u001b[1;32m     18\u001b[0m prob_list \u001b[38;5;241m=\u001b[39m np\u001b[38;5;241m.\u001b[39marray(prob_list)\n\u001b[1;32m     19\u001b[0m \u001b[38;5;28;01mreturn\u001b[39;00m prob_list\n",
      "\u001b[0;31mKeyboardInterrupt\u001b[0m: "
     ]
    }
   ],
   "source": [
    "evaluations()"
   ]
  }
 ],
 "metadata": {
  "colab": {
   "provenance": []
  },
  "kernelspec": {
   "display_name": "Python 3 (ipykernel)",
   "language": "python",
   "name": "python3"
  },
  "language_info": {
   "codemirror_mode": {
    "name": "ipython",
    "version": 3
   },
   "file_extension": ".py",
   "mimetype": "text/x-python",
   "name": "python",
   "nbconvert_exporter": "python",
   "pygments_lexer": "ipython3",
   "version": "3.9.12"
  }
 },
 "nbformat": 4,
 "nbformat_minor": 1
}
