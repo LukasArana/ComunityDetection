{
 "cells": [
  {
   "cell_type": "markdown",
   "metadata": {
    "id": "RyVw9b81_YF4"
   },
   "source": [
    "## 2. Fasea: Algoritmoak diseinatzen"
   ]
  },
  {
   "cell_type": "markdown",
   "metadata": {
    "id": "ZwE7yWaJ_YF7"
   },
   "source": [
    "#### [Ikasle]\n",
    "\n",
    "Community Detection proiektuaren 1. fasea entregatu duzue, eta feedback-a jaso ere. Klasean hainbat algoritmo ikusi ditugu, batzuk soluzio bakarrean oinarritutakoak, beste batzuk aldiz, populazio bat erabiltzen dutenak. Horiez gain, hibridatzeko teknikak ere ikusi ditugu. Bigarrengo fase honetan, hiru algoritmo diseinatu beharko dituzue. Lehenengoa, algoritmo eraikitzaile bat izango da. Bigarrena, soluzio bakarrean oinarritutako heuristiko bat izan beharko du, eta azkenik, hirugarrena algoritmo poblazional bat izango da. Hiru algoritmoak estokastikoak izan beharko dute, eta horietatik, bik, oinarri probabilistikoa izan beharko dute. Adibidez, Simulated Annealing, Estimation of Distribution Algorithms (EDAk) edota Ant Colony Optimization (ACO) implementatu ditzazkezue. Proiektu honen kasuan, algoritmoen helburua, komunitate kopuru jakin bat emanik, modularitatea maximizatzen duen komunitate banaketa (soluzioa) bilatzen saiatzea da.\n",
    "\n",
    "Errepasatu gaitegian zehar ikusi ditugun algoritmo guztiak, eta horiek kontuak izanik, libre zarete nahi dituzuen diseinuak sortzeko, baita ere hibridoak! Adi! Egiten duzuen aukeraketa argudiatu egin beharko duzue.\n",
    "\n",
    "#### Entregablea\n",
    "\n",
    "Bigarrengo fasea ebaluatu ahal izateko, notebook honetan bertan algoritmoen diseinua eta implementazioa proposatu beharko duzue. Gogoratu algoritmo bat azaltzeko modurik errezena fluxu diagrama eta sasikode bat egitea direla. Adi! Atal bakoitzean hartutako erabakiak eta garatutako metodoak egoki argudiatu beharko dituzue. Azalpenak ere nahi ditut. Diagramak ez dira eurak bakarrik azaltzen, beraz testutik erreferentziatu egin beharko dituzue. Saiatu idazkera zientifiko-tekniko batekin idazten (pentsatu publikatuko duzuen lan bat dela). Ez argudiatzeak edo lana garaiz ez entregatzeak penalizazioa jasoko dute ebaluagarria den proiektuaren zati honetan. eGelan zehazten dira notebook-a igotzeko <b>egun eta orduak</b>.\n",
    "\n",
    "Momentuz, ez daukazue algoritmoen exekuzio eta konparaketak egin behar. Hirugarren fasean, esperimentazioaren inguruko baldintzak emango dizkizuet, eta, horrez gain, txostenaren idazketa burutu beharko duzue."
   ]
  },
  {
   "cell_type": "code",
   "execution_count": 479,
   "metadata": {},
   "outputs": [],
   "source": [
    "import pandas as pd\n",
    "from itertools import product\n",
    "# https://link.springer.com/chapter/10.1007/978-981-16-7502-7_29\n",
    "\n",
    "import networkx as nx\n",
    "import numpy as np\n",
    "import pandas as pd\n",
    "import sqlite3\n",
    "import networkx.algorithms.community as nx_comm\n",
    "import itertools\n",
    "from operator import itemgetter\n",
    "from time import time\n",
    "import random\n",
    "from numpy import exp\n",
    "from numpy.random import randn\n",
    "from numpy.random import rand\n",
    "import math\n",
    "def sortu_grafoa():\n",
    "\n",
    "    # Datuak irakurri\n",
    "    # BETE HEMEN 8 lerro\n",
    "    connect = sqlite3.connect(r\"database.sqlite\")\n",
    "    query = \"\"\"\n",
    "    SELECT pa.paper_id, pa.author_id, a.name\n",
    "    FROM paper_authors AS pa JOIN papers AS p ON pa.paper_id = p.id\n",
    "    JOIN authors as a ON pa.author_id = a.id\n",
    "    WHERE p.Year BETWEEN '2014' AND '2015'\n",
    "    \"\"\"\n",
    "    df = pd.read_sql(query, connect)\n",
    "\n",
    "    \n",
    "    # Sortu grafoa\n",
    "    # BETE HEMEN 7-10 lerro\n",
    "    G = nx.Graph()\n",
    "\n",
    "    for p, a in df.groupby('paper_id')['name']: \n",
    "        for u, v in itertools.combinations(a, 2):\n",
    "            if G.has_edge(u, v):\n",
    "                G[u][v]['weight'] +=1\n",
    "            else:\n",
    "                G.add_edge(u, v, weight=1)\n",
    "    return G\n"
   ]
  },
  {
   "cell_type": "code",
   "execution_count": 480,
   "metadata": {},
   "outputs": [],
   "source": [
    "G = sortu_grafoa()\n",
    "authors = np.array(G.nodes())"
   ]
  },
  {
   "cell_type": "code",
   "execution_count": 481,
   "metadata": {},
   "outputs": [],
   "source": [
    "def modularitatea(G, partizioa, weight=\"weight\"):\n",
    "    degrees = dict(G.degree(weight=weight))\n",
    "    lag = sum(degrees.values())\n",
    "    m = lag / 2\n",
    "    norm  = 1/ lag ** 2\n",
    "    def komunitate_bakoitza(i):\n",
    "        l = sum(w for k, t, w in G.edges(i, data=weight, default = 1) if t in i) #i komunitateko kide guztiek komunitatekoekin duten konekzion pisuen batura\n",
    "        out = sum(degrees[k] for k in i) #Komunitateko nodo guztiek duten pisuaren balioaren batura\n",
    "        return l / m - out**2 * norm\n",
    "    \n",
    "    return sum(map(komunitate_bakoitza, partizioa))"
   ]
  },
  {
   "cell_type": "code",
   "execution_count": 482,
   "metadata": {
    "id": "7C2ZBUK-_YF_",
    "scrolled": false
   },
   "outputs": [
    {
     "data": {
      "text/plain": [
       "0.5687811560048526"
      ]
     },
     "execution_count": 482,
     "metadata": {},
     "output_type": "execute_result"
    }
   ],
   "source": [
    "def lehenengoakLortu(num_part):\n",
    "    n = random.randint(num_part, num_part * 5)\n",
    "    aukerak = list(range(1, num_part +1))\n",
    "    l = np.array(sorted(G.degree, key = lambda x: x[1], reverse = True))\n",
    "    l = l[0: n]\n",
    "    a = np.array(list(map(int, l[:, 1])))\n",
    "    \n",
    "    suma = sum(a)\n",
    "    prob = a / suma\n",
    "    return l[np.random.choice(np.arange(0, n), p=prob, size =num_part, replace = False)]\n",
    "\n",
    "def eraikitzailea(G, num_part):\n",
    "    authors = np.array(G.nodes())\n",
    "    \n",
    "    lehenengoak = lehenengoakLortu(num_part)\n",
    "    partizioak =[[] for i in range(num_part +1)]\n",
    "    #print(len(authors))\n",
    "    des = []\n",
    "    for i in range(len(lehenengoak)):\n",
    "        idx =lehenengoak[i][0]\n",
    "        partizioak[i].append(idx)\n",
    "        des.append(nx.descendants(G, idx))\n",
    "    \n",
    "    for i in authors:\n",
    "        aurkitu = False\n",
    "        idx = 0\n",
    "        for idj, j in enumerate(des):\n",
    "            if i in j:\n",
    "                idx = idj\n",
    "                aurkitu = True\n",
    "        if not aurkitu :\n",
    "            idx = -1\n",
    "        if i not in lehenengoak:\n",
    "        \n",
    "            partizioak[idx].append(i)\n",
    "    gehituta = True\n",
    "    \n",
    "    return partizioak\n",
    "\n",
    "#ERAIKITZAILEA\n",
    "l = eraikitzailea(G, 5)\n",
    "modularitatea(G, l)"
   ]
  },
  {
   "cell_type": "code",
   "execution_count": 491,
   "metadata": {},
   "outputs": [
    {
     "data": {
      "text/plain": [
       "-0.0063514608200520295"
      ]
     },
     "execution_count": 491,
     "metadata": {},
     "output_type": "execute_result"
    }
   ],
   "source": [
    "import random\n",
    "import numpy as np\n",
    "def randomSol(min_part = 2, max_part = 4):\n",
    "    num_part = random.randint(min_part, max_part)\n",
    "    sol = [[] for i in range(num_part)]\n",
    "    \n",
    "    for i in G:\n",
    "        sol[random.randint(0, num_part -1)].append(i)\n",
    "    sol = [set(sol[i]) for i in range(num_part)]\n",
    "    return sol\n",
    "\n",
    "def random_search(G, sol_kop, num_part):\n",
    "    size = len(G)\n",
    "    used_list = []\n",
    "    best_fitness = -1000\n",
    "    best_solution = []\n",
    "    \n",
    "    solutions = []\n",
    "    for i in range(sol_kop):\n",
    "        solutions.append(randomSol(min_part =num_part, max_part = num_part))\n",
    "    fitness = list(map(lambda x: modularitatea(G, x), solutions))\n",
    "    fitness.sort(reverse=True)\n",
    "    best_fitness = max(fitness)\n",
    "    best_solution = solutions[fitness.index(best_fitness)]\n",
    "    return (best_fitness, best_solution)\n",
    "\n",
    "fitness, l = random_search(G, 1000, 2)\n",
    "modularitatea(G, l)"
   ]
  },
  {
   "cell_type": "code",
   "execution_count": 472,
   "metadata": {
    "scrolled": true
   },
   "outputs": [
    {
     "data": {
      "text/plain": [
       "'\\nimport numpy as np\\nimport copy\\ndef local_search(G,sol, max_evals, neigh_func):\\n    A = kalkulatu_A(G)\\n    size = len(G)\\n    best_solution = sol\\n    best_fitness = modularitatea(G,best_solution,A)\\n    evals = 1\\n    hobetu = True\\n    while hobetu and evals<max_evals:\\n        nei = neigh_func(best_solution,G)\\n        last_f = modularitatea(G,best_solution,A)\\n        for i in nei:\\n            cur_fit = modularitatea(i)\\n            evals +=1\\n            if cur_fit>best_fitness:\\n                best_solution = i\\n                best_fitness = cur_fit\\n                break\\n        if last_f == best_fitness:\\n            hobetu = False\\n            \\n    return (best_fitness, best_solution,evals)\\ndef com_person(soluzioa, person):\\n    print(person)\\n\\n    for idx, i in enumerate(soluzioa):\\n        if person in i:\\n            return idx\\n    print(\"gaixki\")\\n    return 0\\n\\ndef ingurunea2(solution, G, size = 200):\\n    num_parts = len(solution)\\n    res = []\\n    for i in range(size):\\n        sol = solution.copy()\\n        print(solution[i])\\n        n = np.random.choice(range(num_parts), 2, replace=False)\\n        m = [np.random.choice(range(len(solution[i])), 2, replace=False) for i in n]\\n        sol[n[0]][m[0]] = sol[n[1]][m[1]]\\n        sol[n[1]][m[1]] = solution[n[0]][m[0]]\\n        res.append(sol)\\n    return res\\na = eraikitzailea(G, 2)\\nprint(ingurunea2(a, G))\\n\\ndef VND(G,initial_sol, max_evals):\\n    # BETE HEMEN 15-20 lerro\\n    A = kalkulatu_A(G)\\n    best_solution = initial_sol\\n    best_fitness = modularitatea(G,best_solution,A)\\n    cur_evals=1\\n    hobetu = True\\n    evals2 = float(\\'inf\\')\\n    while cur_evals<max_evals:\\n        best_fitness,best_solution,evals_1 = local_search(G, best_solution, max_evals,A, ingurunea1)\\n        if evals_1 < evals_2:\\n            break\\n        cur_evals +=evals1\\n        erdiko_fit = best_fitness\\n        best_fitness,best_solution,evals_2 = local_search(G,best_solution, max_evals,A, ingurune2)\\n        cur_evals +=evals2\\n        if evals_2<=evals_1:\\n            break\\n    return (best_fitness, best_solution, cur_evals)\\n    def ingurunea2(solution, G):\\n    authors = np.array(G.nodes())\\n\\n    num_parts = len(solution)\\n    res = []\\n    parts  = part_to_dict(solution)\\n    for i in authors:\\n        lag = parts\\n        for j in G.neighbors(i):\\n            lag[j] = lag[i]\\n        lag = dict_to_part(lag, num_parts)\\n        res.append(lag)\\n    \\n    return res\\n\\n'"
      ]
     },
     "execution_count": 472,
     "metadata": {},
     "output_type": "execute_result"
    }
   ],
   "source": [
    "\"\"\"\n",
    "import numpy as np\n",
    "import copy\n",
    "def local_search(G,sol, max_evals, neigh_func):\n",
    "    A = kalkulatu_A(G)\n",
    "    size = len(G)\n",
    "    best_solution = sol\n",
    "    best_fitness = modularitatea(G,best_solution,A)\n",
    "    evals = 1\n",
    "    hobetu = True\n",
    "    while hobetu and evals<max_evals:\n",
    "        nei = neigh_func(best_solution,G)\n",
    "        last_f = modularitatea(G,best_solution,A)\n",
    "        for i in nei:\n",
    "            cur_fit = modularitatea(i)\n",
    "            evals +=1\n",
    "            if cur_fit>best_fitness:\n",
    "                best_solution = i\n",
    "                best_fitness = cur_fit\n",
    "                break\n",
    "        if last_f == best_fitness:\n",
    "            hobetu = False\n",
    "            \n",
    "    return (best_fitness, best_solution,evals)\n",
    "def com_person(soluzioa, person):\n",
    "    print(person)\n",
    "\n",
    "    for idx, i in enumerate(soluzioa):\n",
    "        if person in i:\n",
    "            return idx\n",
    "    print(\"gaixki\")\n",
    "    return 0\n",
    "\n",
    "def ingurunea2(solution, G, size = 200):\n",
    "    num_parts = len(solution)\n",
    "    res = []\n",
    "    for i in range(size):\n",
    "        sol = solution.copy()\n",
    "        print(solution[i])\n",
    "        n = np.random.choice(range(num_parts), 2, replace=False)\n",
    "        m = [np.random.choice(range(len(solution[i])), 2, replace=False) for i in n]\n",
    "        sol[n[0]][m[0]] = sol[n[1]][m[1]]\n",
    "        sol[n[1]][m[1]] = solution[n[0]][m[0]]\n",
    "        res.append(sol)\n",
    "    return res\n",
    "a = eraikitzailea(G, 2)\n",
    "print(ingurunea2(a, G))\n",
    "\n",
    "def VND(G,initial_sol, max_evals):\n",
    "    # BETE HEMEN 15-20 lerro\n",
    "    A = kalkulatu_A(G)\n",
    "    best_solution = initial_sol\n",
    "    best_fitness = modularitatea(G,best_solution,A)\n",
    "    cur_evals=1\n",
    "    hobetu = True\n",
    "    evals2 = float('inf')\n",
    "    while cur_evals<max_evals:\n",
    "        best_fitness,best_solution,evals_1 = local_search(G, best_solution, max_evals,A, ingurunea1)\n",
    "        if evals_1 < evals_2:\n",
    "            break\n",
    "        cur_evals +=evals1\n",
    "        erdiko_fit = best_fitness\n",
    "        best_fitness,best_solution,evals_2 = local_search(G,best_solution, max_evals,A, ingurune2)\n",
    "        cur_evals +=evals2\n",
    "        if evals_2<=evals_1:\n",
    "            break\n",
    "    return (best_fitness, best_solution, cur_evals)\n",
    "\n",
    "\n",
    "\"\"\""
   ]
  },
  {
   "cell_type": "code",
   "execution_count": 488,
   "metadata": {},
   "outputs": [],
   "source": [
    "def dict_to_part(sol, num_parts):\n",
    "    part = [list() for i in range(num_parts + 1)]\n",
    "    for key, val in sol.items():\n",
    "        part[val].append(key)\n",
    "    for i in range(len(part)):\n",
    "        part[i] = set(part[i])\n",
    "    return part\n",
    "def part_to_dict(solution):\n",
    "    parts = {}\n",
    "    for i in range(len(solution)):\n",
    "        for j in solution[i]:\n",
    "            parts[j] = i\n",
    "    return parts\n",
    "def ingurunea2(solution, G):\n",
    "    authors = np.array(G.nodes())\n",
    "\n",
    "    num_parts = len(solution)\n",
    "    res = []\n",
    "    parts  = part_to_dict(solution)\n",
    "    for i in authors:\n",
    "        lag = parts\n",
    "        for j in G.neighbors(i):\n",
    "            lag[j] = lag[i]\n",
    "        lag = dict_to_part(lag, num_parts)\n",
    "        res.append(lag)\n",
    "    \n",
    "    return res\n"
   ]
  },
  {
   "cell_type": "code",
   "execution_count": 521,
   "metadata": {},
   "outputs": [
    {
     "name": "stdout",
     "output_type": "stream",
     "text": [
      "0.09634076615208687\n"
     ]
    },
    {
     "name": "stderr",
     "output_type": "stream",
     "text": [
      "/tmp/ipykernel_13656/3826295928.py:22: RuntimeWarning: overflow encountered in exp\n",
      "  accept = exp(-dif*100 / t)\n"
     ]
    }
   ],
   "source": [
    "import sys\n",
    "def simulated_annealing(G,part_kop, iter_kop, temp,beta):\n",
    "    p  =0.75\n",
    "    minFit, bbFit, maxFit = kalkulatuMaxMin(part_kop)\n",
    "    t = (maxFit - minFit)/p\n",
    "    best = randomSol(part_kop, part_kop)\n",
    "    best_eval = modularitatea(G,best)\n",
    "    curr, curr_eval = best, best_eval\n",
    "    for i in range(iter_kop):\n",
    "        # take a step\n",
    "        candidates = ingurunea2(curr,G)\n",
    "        candidate = candidates[np.random.randint(0,len(candidates))]\n",
    "        candidate_eval = modularitatea(G,candidate)\n",
    "        if candidate_eval > best_eval:\n",
    "            best, best_eval = candidate, candidate_eval\n",
    "        # uneko eta soluzio berriaren arteko diferentzia kalkulatu\n",
    "        dif = curr_eval - candidate_eval\n",
    "        # iterazio kopuruaren uneko temperatura lortu\n",
    "        t = max(sys.float_info.min, t * beta)\n",
    "        # metropolis acceptance criterion kalkulatu\n",
    "        accept = exp(-dif*100 / t)\n",
    "        r = rand()\n",
    "        # check if we should keep the new point\n",
    "        if dif < 0 or r < accept:\n",
    "          # store the new current point\n",
    "          curr, curr_eval = candidate, candidate_eval\n",
    "    return [curr, curr_eval]\n",
    "l = simulated_annealing(G, 2, 500, 5, 0.5)\n",
    "def kalkulatuMaxMin(part_kop):\n",
    "    n = 5000\n",
    "    solutions = [randomSol(min_part =part_kop, max_part = part_kop) for i in range(n)]\n",
    "    fitness = list(map(lambda x: modularitatea(G, x), solutions))\n",
    "    return min(fitness), sum(fitness)/n, max(fitness)"
   ]
  },
  {
   "cell_type": "code",
   "execution_count": null,
   "metadata": {
    "scrolled": true
   },
   "outputs": [
    {
     "name": "stdout",
     "output_type": "stream",
     "text": [
      "0 garren generazioko soluzio onena: 0.03005846516558841\n",
      "1 garren generazioko soluzio onena: 0.0237870141265073\n",
      "2 garren generazioko soluzio onena: 0.026492962898671785\n",
      "3 garren generazioko soluzio onena: 0.02655899752893176\n",
      "4 garren generazioko soluzio onena: 0.02537102799247201\n",
      "5 garren generazioko soluzio onena: 0.03947448856669222\n",
      "6 garren generazioko soluzio onena: 0.04885304058416459\n",
      "7 garren generazioko soluzio onena: 0.045218643276023734\n",
      "8 garren generazioko soluzio onena: 0.05401109708692475\n",
      "9 garren generazioko soluzio onena: 0.06374662839273346\n",
      "10 garren generazioko soluzio onena: 0.07115999635175008\n",
      "11 garren generazioko soluzio onena: 0.07317286754728095\n",
      "12 garren generazioko soluzio onena: 0.07785564633682693\n",
      "13 garren generazioko soluzio onena: 0.09460208577898477\n",
      "14 garren generazioko soluzio onena: 0.09739155855130482\n",
      "15 garren generazioko soluzio onena: 0.10344124601463031\n",
      "16 garren generazioko soluzio onena: 0.10579908277244754\n",
      "17 garren generazioko soluzio onena: 0.12604441776906905\n",
      "18 garren generazioko soluzio onena: 0.14091426416663477\n",
      "19 garren generazioko soluzio onena: 0.14504240927021603\n",
      "20 garren generazioko soluzio onena: 0.15102769662383242\n",
      "21 garren generazioko soluzio onena: 0.16379853259283017\n",
      "22 garren generazioko soluzio onena: 0.17311235759648327\n",
      "23 garren generazioko soluzio onena: 0.18281944824470472\n",
      "24 garren generazioko soluzio onena: 0.19237027872825152\n",
      "25 garren generazioko soluzio onena: 0.1966962008185025\n",
      "26 garren generazioko soluzio onena: 0.20711365409818433\n",
      "27 garren generazioko soluzio onena: 0.22720734645068766\n",
      "28 garren generazioko soluzio onena: 0.2318511419250925\n",
      "29 garren generazioko soluzio onena: 0.24146886516218855\n",
      "30 garren generazioko soluzio onena: 0.2496844149446175\n",
      "31 garren generazioko soluzio onena: 0.25563672584611774\n",
      "32 garren generazioko soluzio onena: 0.2612911453771999\n",
      "33 garren generazioko soluzio onena: 0.2787071661630709\n",
      "34 garren generazioko soluzio onena: 0.2829688107326542\n",
      "35 garren generazioko soluzio onena: 0.2868151644932447\n",
      "36 garren generazioko soluzio onena: 0.2987043400770383\n",
      "37 garren generazioko soluzio onena: 0.3012934206298069\n",
      "38 garren generazioko soluzio onena: 0.312724603555213\n"
     ]
    }
   ],
   "source": [
    "def EDA_Hasieraraketa(G,pop_tam,part_kop):\n",
    "    pop = list()\n",
    "    for i in range(pop_tam):\n",
    "        pop.append(part_to_dict(randomSol(part_kop, part_kop))) #Partizio random bat sortu\n",
    "    return pop\n",
    "\n",
    "\n",
    "def EDA_ProbabilitateakLortu(populazioa, part_kop, authors):\n",
    "    prob_list = [np.zeros(len(populazioa[0])) for i in range(part_kop)]\n",
    "    for i in populazioa:\n",
    "        \n",
    "        for j in i:\n",
    "            prob_list[i[j]][np.where(authors == j)] += 1 /len(populazioa)\n",
    "    \n",
    "    #print(populazioa)\n",
    "    prob_list = np.array(prob_list)\n",
    "    return prob_list \n",
    "def EDA_HurrengoBelaunaldiaSortu(prob_list, tamaina, part_kop):\n",
    "    l = []\n",
    "    res = []\n",
    "    for i in range(len(prob_list[0])):\n",
    "        l.append(np.random.choice(part_kop,tamaina, p = prob_list[:, i]))\n",
    "    l = np.transpose(np.array(l))\n",
    "    for i in range(len(l)):\n",
    "        res.append(dict(zip(authors, l[i])))\n",
    "    return res\n",
    "def EDA_OnenakAukeratu(G, pop, tamaina, num_parts):\n",
    "    pop_berri = sorted(pop, key=lambda x : modularitatea(G, dict_to_part(x, num_parts)), reverse=True)\n",
    "    pop_berri = pop_berri[0:int(tamaina)]\n",
    "    return pop_berri\n",
    "\n",
    "\n",
    "def EDA(G,generazioak,populazio_tamaina,part_kop):\n",
    "    authors = np.array(G.nodes())\n",
    "\n",
    "    pop = EDA_Hasieraraketa(G,populazio_tamaina,part_kop)\n",
    "    for i in range(generazioak):\n",
    "        onenak = EDA_OnenakAukeratu(G, pop, populazio_tamaina/4, part_kop)\n",
    "        \n",
    "        print(i, \"garren generazioko soluzio onena:\", modularitatea(G, dict_to_part(onenak[0], part_kop)))\n",
    "        prob_list = EDA_ProbabilitateakLortu(onenak, part_kop, authors)\n",
    "        pop = EDA_HurrengoBelaunaldiaSortu(prob_list, populazio_tamaina, part_kop)\n",
    "    \n",
    "l = EDA(G, 100, 200, 2)"
   ]
  }
 ],
 "metadata": {
  "colab": {
   "collapsed_sections": [],
   "provenance": []
  },
  "kernelspec": {
   "display_name": "Python 3 (ipykernel)",
   "language": "python",
   "name": "python3"
  },
  "language_info": {
   "codemirror_mode": {
    "name": "ipython",
    "version": 3
   },
   "file_extension": ".py",
   "mimetype": "text/x-python",
   "name": "python",
   "nbconvert_exporter": "python",
   "pygments_lexer": "ipython3",
   "version": "3.9.12"
  }
 },
 "nbformat": 4,
 "nbformat_minor": 1
}
