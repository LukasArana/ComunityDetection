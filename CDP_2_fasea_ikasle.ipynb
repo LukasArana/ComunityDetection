{
 "cells": [
  {
   "cell_type": "markdown",
   "metadata": {
    "id": "RyVw9b81_YF4"
   },
   "source": [
    "## 2. Fasea: Algoritmoak diseinatzen"
   ]
  },
  {
   "cell_type": "markdown",
   "metadata": {
    "id": "ZwE7yWaJ_YF7"
   },
   "source": [
    "#### [Ikasle]\n",
    "\n",
    "Community Detection proiektuaren 1. fasea entregatu duzue, eta feedback-a jaso ere. Klasean hainbat algoritmo ikusi ditugu, batzuk soluzio bakarrean oinarritutakoak, beste batzuk aldiz, populazio bat erabiltzen dutenak. Horiez gain, hibridatzeko teknikak ere ikusi ditugu. Bigarrengo fase honetan, hiru algoritmo diseinatu beharko dituzue. Lehenengoa, algoritmo eraikitzaile bat izango da. Bigarrena, soluzio bakarrean oinarritutako heuristiko bat izan beharko du, eta azkenik, hirugarrena algoritmo poblazional bat izango da. Hiru algoritmoak estokastikoak izan beharko dute, eta horietatik, bik, oinarri probabilistikoa izan beharko dute. Adibidez, Simulated Annealing, Estimation of Distribution Algorithms (EDAk) edota Ant Colony Optimization (ACO) implementatu ditzazkezue. Proiektu honen kasuan, algoritmoen helburua, komunitate kopuru jakin bat emanik, modularitatea maximizatzen duen komunitate banaketa (soluzioa) bilatzen saiatzea da.\n",
    "\n",
    "Errepasatu gaitegian zehar ikusi ditugun algoritmo guztiak, eta horiek kontuak izanik, libre zarete nahi dituzuen diseinuak sortzeko, baita ere hibridoak! Adi! Egiten duzuen aukeraketa argudiatu egin beharko duzue.\n",
    "\n",
    "#### Entregablea\n",
    "\n",
    "Bigarrengo fasea ebaluatu ahal izateko, notebook honetan bertan algoritmoen diseinua eta implementazioa proposatu beharko duzue. Gogoratu algoritmo bat azaltzeko modurik errezena fluxu diagrama eta sasikode bat egitea direla. Adi! Atal bakoitzean hartutako erabakiak eta garatutako metodoak egoki argudiatu beharko dituzue. Azalpenak ere nahi ditut. Diagramak ez dira eurak bakarrik azaltzen, beraz testutik erreferentziatu egin beharko dituzue. Saiatu idazkera zientifiko-tekniko batekin idazten (pentsatu publikatuko duzuen lan bat dela). Ez argudiatzeak edo lana garaiz ez entregatzeak penalizazioa jasoko dute ebaluagarria den proiektuaren zati honetan. eGelan zehazten dira notebook-a igotzeko <b>egun eta orduak</b>.\n",
    "\n",
    "Momentuz, ez daukazue algoritmoen exekuzio eta konparaketak egin behar. Hirugarren fasean, esperimentazioaren inguruko baldintzak emango dizkizuet, eta, horrez gain, txostenaren idazketa burutu beharko duzue."
   ]
  },
  {
   "cell_type": "code",
   "execution_count": 479,
   "metadata": {},
   "outputs": [],
   "source": [
    "import pandas as pd\n",
    "from itertools import product\n",
    "# https://link.springer.com/chapter/10.1007/978-981-16-7502-7_29\n",
    "\n",
    "import networkx as nx\n",
    "import numpy as np\n",
    "import pandas as pd\n",
    "import sqlite3\n",
    "import networkx.algorithms.community as nx_comm\n",
    "import itertools\n",
    "from operator import itemgetter\n",
    "from time import time\n",
    "import random\n",
    "from numpy import exp\n",
    "from numpy.random import randn\n",
    "from numpy.random import rand\n",
    "import math\n",
    "def sortu_grafoa():\n",
    "\n",
    "    # Datuak irakurri\n",
    "    # BETE HEMEN 8 lerro\n",
    "    connect = sqlite3.connect(r\"database.sqlite\")\n",
    "    query = \"\"\"\n",
    "    SELECT pa.paper_id, pa.author_id, a.name\n",
    "    FROM paper_authors AS pa JOIN papers AS p ON pa.paper_id = p.id\n",
    "    JOIN authors as a ON pa.author_id = a.id\n",
    "    WHERE p.Year BETWEEN '2014' AND '2015'\n",
    "    \"\"\"\n",
    "    df = pd.read_sql(query, connect)\n",
    "\n",
    "    \n",
    "    # Sortu grafoa\n",
    "    # BETE HEMEN 7-10 lerro\n",
    "    G = nx.Graph()\n",
    "\n",
    "    for p, a in df.groupby('paper_id')['name']: \n",
    "        for u, v in itertools.combinations(a, 2):\n",
    "            if G.has_edge(u, v):\n",
    "                G[u][v]['weight'] +=1\n",
    "            else:\n",
    "                G.add_edge(u, v, weight=1)\n",
    "    return G\n"
   ]
  },
  {
   "cell_type": "code",
   "execution_count": 480,
   "metadata": {},
   "outputs": [],
   "source": [
    "G = sortu_grafoa()\n",
    "authors = np.array(G.nodes())"
   ]
  },
  {
   "cell_type": "code",
   "execution_count": 524,
   "metadata": {},
   "outputs": [],
   "source": [
    "def modularitatea(G, partizioa, weight=\"weight\"):\n",
    "    #Network X en implementazioan oinarrituta.\n",
    "    degrees = dict(G.degree(weight=weight))\n",
    "    \n",
    "    lag = sum(degrees.values()) #Grafoko nodo guztien degree-en batura\n",
    "    m = lag / 2\n",
    "    norm  = 1/ lag ** 2 #normalizazio konstantea\n",
    "    def komunitate_bakoitza(i):\n",
    "        l = sum(w for k, t, w in G.edges(i, data=weight, default = 1) if t in i) #i komunitateko kide guztiek komunitatekoekin duten konekzion pisuen batura\n",
    "        out = sum(degrees[k] for k in i) #Komunitateko nodo guztiek duten pisuaren balioaren batura\n",
    "        return l / m - out**2 * norm\n",
    "    \n",
    "    return sum(map(komunitate_bakoitza, partizioa)) #Partizio bakoitzerako batura kalkulatu"
   ]
  },
  {
   "cell_type": "code",
   "execution_count": 533,
   "metadata": {
    "id": "7C2ZBUK-_YF_",
    "scrolled": false
   },
   "outputs": [
    {
     "name": "stdout",
     "output_type": "stream",
     "text": [
      "3\n"
     ]
    },
    {
     "data": {
      "text/plain": [
       "0.5247776970324626"
      ]
     },
     "execution_count": 533,
     "metadata": {},
     "output_type": "execute_result"
    }
   ],
   "source": [
    "def lehenengoakLortu(num_part):\n",
    "    #Algoritmo eraikitzailearen hasierako nodoen aukeraketa\n",
    "    #Ausaz partizio bakoitzerako nodo bat aukeratzen da. \n",
    "    #Bizilagun asko dituzte nodoak probabilitate handiago dute\n",
    "    \n",
    "    n = random.randint(num_part, num_part * 5)\n",
    "    aukerak = list(range(1, num_part +1))\n",
    "    l = np.array(sorted(G.degree, key = lambda x: x[1], reverse = True))\n",
    "    l = l[0: n] #n bizilagun gehien dituzten nodoak\n",
    "    a = np.array(list(map(int, l[:, 1])))\n",
    "    \n",
    "    prob = a / sum(a)\n",
    "    return l[np.random.choice(n, p=prob, size =num_part, replace = False)] #ausaz aukeratu probabilitate gehiagorekin bizilagun asko dituztenak\n",
    "\n",
    "def eraikitzailea(G, num_part):\n",
    "    #Algoritmo eraikitzailea\n",
    "    authors = np.array(G.nodes())\n",
    "    \n",
    "    lehenengoak = lehenengoakLortu(num_part -1) \n",
    "    partizioak =[[] for i in range(num_part)] # Partizio denak hasieratu (num_part + azken partizioa)\n",
    "    des = [] \n",
    "    for i in range(len(lehenengoak)):\n",
    "        #Partizioan sartu lortutako lehenegoak\n",
    "        idx =lehenengoak[i][0] \n",
    "        partizioak[i].append(idx)\n",
    "        \n",
    "        des.append(nx.descendants(G, idx))# Hasieraketan aukeratutako nodo guztien ondoz-ondokoak\n",
    "    \n",
    "    #Autorea hasierako nodoen ondoz ondokoa bada bere partizioan sartu. Bestela azken partizioan.\n",
    "    for i in authors:\n",
    "        aurkitu = False\n",
    "        idx = 0\n",
    "        for idj, j in enumerate(des):\n",
    "            if i in j:\n",
    "                idx = idj\n",
    "                aurkitu = True\n",
    "\n",
    "        if not aurkitu :\n",
    "            idx = -1\n",
    "        if i not in lehenengoak:\n",
    "            partizioak[idx].append(i)\n",
    "    \n",
    "    return partizioak\n",
    "\n",
    "#ERAIKITZAILEA\n",
    "l = eraikitzailea(G, 3)\n",
    "print(len(l))\n",
    "modularitatea(G, l)"
   ]
  },
  {
   "cell_type": "code",
   "execution_count": 534,
   "metadata": {},
   "outputs": [
    {
     "data": {
      "text/plain": [
       "-0.012729686914126542"
      ]
     },
     "execution_count": 534,
     "metadata": {},
     "output_type": "execute_result"
    }
   ],
   "source": [
    "import random\n",
    "import numpy as np\n",
    "\n",
    "def randomSol(min_part = 2, max_part = 4):\n",
    "    #Partizio kopuru minimo eta maximo bat duten ausazko soluzio bat sortu\n",
    "    num_part = random.randint(min_part, max_part)\n",
    "    sol = [[] for i in range(num_part)]\n",
    "    for i in G:\n",
    "        sol[random.randint(0, num_part -1)].append(i)\n",
    "    sol = [set(sol[i]) for i in range(num_part)]\n",
    "    return sol\n",
    "\n",
    "def random_search(G, sol_kop, num_part):\n",
    "    #Random Search algoritmoaren implementazioa.\n",
    "    size = len(G)\n",
    "    used_list = []\n",
    "    best_fitness = -1000\n",
    "    best_solution = []\n",
    "    \n",
    "    #num_part ausazko soluzio sortu\n",
    "    solutions = [randomSol(min_part =num_part, max_part = num_part) for i in range(sol_kop)]\n",
    "        \n",
    "    #soluzio guztien fitness-a kalkulatu\n",
    "    fitness = list(map(lambda x: modularitatea(G, x), solutions))\n",
    "    \n",
    "    #Fitness hoberenaren soluzioa bueltatu\n",
    "    fitness.sort(reverse=True)\n",
    "    best_fitness = max(fitness)\n",
    "    best_solution = solutions[fitness.index(best_fitness)]\n",
    "    return (best_fitness, best_solution)\n",
    "\n",
    "fitness, l = random_search(G, 1000, 2)\n",
    "modularitatea(G, l)"
   ]
  },
  {
   "cell_type": "code",
   "execution_count": 472,
   "metadata": {
    "scrolled": true
   },
   "outputs": [
    {
     "data": {
      "text/plain": [
       "'\\nimport numpy as np\\nimport copy\\ndef local_search(G,sol, max_evals, neigh_func):\\n    A = kalkulatu_A(G)\\n    size = len(G)\\n    best_solution = sol\\n    best_fitness = modularitatea(G,best_solution,A)\\n    evals = 1\\n    hobetu = True\\n    while hobetu and evals<max_evals:\\n        nei = neigh_func(best_solution,G)\\n        last_f = modularitatea(G,best_solution,A)\\n        for i in nei:\\n            cur_fit = modularitatea(i)\\n            evals +=1\\n            if cur_fit>best_fitness:\\n                best_solution = i\\n                best_fitness = cur_fit\\n                break\\n        if last_f == best_fitness:\\n            hobetu = False\\n            \\n    return (best_fitness, best_solution,evals)\\ndef com_person(soluzioa, person):\\n    print(person)\\n\\n    for idx, i in enumerate(soluzioa):\\n        if person in i:\\n            return idx\\n    print(\"gaixki\")\\n    return 0\\n\\ndef ingurunea2(solution, G, size = 200):\\n    num_parts = len(solution)\\n    res = []\\n    for i in range(size):\\n        sol = solution.copy()\\n        print(solution[i])\\n        n = np.random.choice(range(num_parts), 2, replace=False)\\n        m = [np.random.choice(range(len(solution[i])), 2, replace=False) for i in n]\\n        sol[n[0]][m[0]] = sol[n[1]][m[1]]\\n        sol[n[1]][m[1]] = solution[n[0]][m[0]]\\n        res.append(sol)\\n    return res\\na = eraikitzailea(G, 2)\\nprint(ingurunea2(a, G))\\n\\ndef VND(G,initial_sol, max_evals):\\n    # BETE HEMEN 15-20 lerro\\n    A = kalkulatu_A(G)\\n    best_solution = initial_sol\\n    best_fitness = modularitatea(G,best_solution,A)\\n    cur_evals=1\\n    hobetu = True\\n    evals2 = float(\\'inf\\')\\n    while cur_evals<max_evals:\\n        best_fitness,best_solution,evals_1 = local_search(G, best_solution, max_evals,A, ingurunea1)\\n        if evals_1 < evals_2:\\n            break\\n        cur_evals +=evals1\\n        erdiko_fit = best_fitness\\n        best_fitness,best_solution,evals_2 = local_search(G,best_solution, max_evals,A, ingurune2)\\n        cur_evals +=evals2\\n        if evals_2<=evals_1:\\n            break\\n    return (best_fitness, best_solution, cur_evals)\\n    def ingurunea2(solution, G):\\n    authors = np.array(G.nodes())\\n\\n    num_parts = len(solution)\\n    res = []\\n    parts  = part_to_dict(solution)\\n    for i in authors:\\n        lag = parts\\n        for j in G.neighbors(i):\\n            lag[j] = lag[i]\\n        lag = dict_to_part(lag, num_parts)\\n        res.append(lag)\\n    \\n    return res\\n\\n'"
      ]
     },
     "execution_count": 472,
     "metadata": {},
     "output_type": "execute_result"
    }
   ],
   "source": [
    "\"\"\"\n",
    "import numpy as np\n",
    "import copy\n",
    "def local_search(G,sol, max_evals, neigh_func):\n",
    "    A = kalkulatu_A(G)\n",
    "    size = len(G)\n",
    "    best_solution = sol\n",
    "    best_fitness = modularitatea(G,best_solution,A)\n",
    "    evals = 1\n",
    "    hobetu = True\n",
    "    while hobetu and evals<max_evals:\n",
    "        nei = neigh_func(best_solution,G)\n",
    "        last_f = modularitatea(G,best_solution,A)\n",
    "        for i in nei:\n",
    "            cur_fit = modularitatea(i)\n",
    "            evals +=1\n",
    "            if cur_fit>best_fitness:\n",
    "                best_solution = i\n",
    "                best_fitness = cur_fit\n",
    "                break\n",
    "        if last_f == best_fitness:\n",
    "            hobetu = False\n",
    "            \n",
    "    return (best_fitness, best_solution,evals)\n",
    "def com_person(soluzioa, person):\n",
    "    print(person)\n",
    "\n",
    "    for idx, i in enumerate(soluzioa):\n",
    "        if person in i:\n",
    "            return idx\n",
    "    print(\"gaixki\")\n",
    "    return 0\n",
    "\n",
    "def ingurunea2(solution, G, size = 200):\n",
    "    num_parts = len(solution)\n",
    "    res = []\n",
    "    for i in range(size):\n",
    "        sol = solution.copy()\n",
    "        print(solution[i])\n",
    "        n = np.random.choice(range(num_parts), 2, replace=False)\n",
    "        m = [np.random.choice(range(len(solution[i])), 2, replace=False) for i in n]\n",
    "        sol[n[0]][m[0]] = sol[n[1]][m[1]]\n",
    "        sol[n[1]][m[1]] = solution[n[0]][m[0]]\n",
    "        res.append(sol)\n",
    "    return res\n",
    "a = eraikitzailea(G, 2)\n",
    "print(ingurunea2(a, G))\n",
    "\n",
    "def VND(G,initial_sol, max_evals):\n",
    "    # BETE HEMEN 15-20 lerro\n",
    "    A = kalkulatu_A(G)\n",
    "    best_solution = initial_sol\n",
    "    best_fitness = modularitatea(G,best_solution,A)\n",
    "    cur_evals=1\n",
    "    hobetu = True\n",
    "    evals2 = float('inf')\n",
    "    while cur_evals<max_evals:\n",
    "        best_fitness,best_solution,evals_1 = local_search(G, best_solution, max_evals,A, ingurunea1)\n",
    "        if evals_1 < evals_2:\n",
    "            break\n",
    "        cur_evals +=evals1\n",
    "        erdiko_fit = best_fitness\n",
    "        best_fitness,best_solution,evals_2 = local_search(G,best_solution, max_evals,A, ingurune2)\n",
    "        cur_evals +=evals2\n",
    "        if evals_2<=evals_1:\n",
    "            break\n",
    "    return (best_fitness, best_solution, cur_evals)\n",
    "\n",
    "\n",
    "\"\"\""
   ]
  },
  {
   "cell_type": "code",
   "execution_count": 488,
   "metadata": {},
   "outputs": [],
   "source": [
    "#Hurrengo bi metodo hauek implementazioa errezteko sortu dira. \n",
    "def dict_to_part(sol, num_parts):\n",
    "    #Soluzioa hiztegi batetik partizioetara pasatzeko metodoa\n",
    "    part = [list() for i in range(num_parts + 1)]\n",
    "    for key, val in sol.items():\n",
    "        part[val].append(key)\n",
    "    for i in range(len(part)):\n",
    "        part[i] = set(part[i])\n",
    "    return part\n",
    "\n",
    "def part_to_dict(solution):\n",
    "    #Soluzioa partizio batetik hiztegi batera pasatzeko kodea\n",
    "    parts = {}\n",
    "    for i in range(len(solution)):\n",
    "        for j in solution[i]:\n",
    "            parts[j] = i\n",
    "    return parts\n",
    "\n",
    "\n"
   ]
  },
  {
   "cell_type": "code",
   "execution_count": 535,
   "metadata": {},
   "outputs": [
    {
     "name": "stderr",
     "output_type": "stream",
     "text": [
      "/tmp/ipykernel_13656/2992163855.py:40: RuntimeWarning: overflow encountered in exp\n",
      "  accept = exp(-dif*100 / t)\n"
     ]
    }
   ],
   "source": [
    "import sys\n",
    "\n",
    "def ingurunea(solution, G):\n",
    "    #autore kopuru soluzio bueltatzen dituen ingurune funtzioa\n",
    "    \n",
    "    authors = np.array(G.nodes())\n",
    "    num_parts = len(solution)\n",
    "    res = []\n",
    "    parts  = part_to_dict(solution)\n",
    "    \n",
    "    #Autore bakoitzerako bere bizilagun guztiak bere partizioan gorde eta hori izango da soluzio berria\n",
    "    for i in authors:\n",
    "        lag = parts.copy()\n",
    "        for j in G.neighbors(i):\n",
    "            lag[j] = lag[i]\n",
    "        lag = dict_to_part(lag, num_parts)\n",
    "        res.append(lag)\n",
    "    \n",
    "    return res\n",
    "def kalkulatuMaxMin(part_kop):\n",
    "    #Gure modularitate balio normalak kalkulatzeko funtzioa\n",
    "    #n soluzioetan aurkitutako modularitate baxuena, batez bestekoa eta altuena bueltatzen du\n",
    "    n = 5000\n",
    "    solutions = [randomSol(min_part =part_kop, max_part = part_kop) for i in range(n)]\n",
    "    fitness = list(map(lambda x: modularitatea(G, x), solutions))\n",
    "    return min(fitness), sum(fitness)/n, max(fitness)\n",
    "\n",
    "\n",
    "def simulated_annealing(G,part_kop, iter_kop, temp,beta):\n",
    "    #Simulated annealing algoritmoaren implementazioa\n",
    "    \n",
    "    #Tenperaturaren hasieraketa\n",
    "    p  =0.75\n",
    "    minFit, bbFit, maxFit = kalkulatuMaxMin(part_kop)\n",
    "    t = (maxFit - minFit)/p\n",
    "    \n",
    "    #Hasierako soluzioaren sortu\n",
    "    best = randomSol(part_kop, part_kop)\n",
    "    best_eval = modularitatea(G,best)\n",
    "    curr, curr_eval = best, best_eval\n",
    "    \n",
    "    \n",
    "    for i in range(iter_kop):\n",
    "        #Pausu bakoitzean\n",
    "        \n",
    "        #Oraingo soluzioaren ingurunetik soluzio bat ausaz hartu\n",
    "        candidates = ingurunea(curr,G)\n",
    "        candidate = candidates[np.random.randint(0,len(candidates))]\n",
    "        candidate_eval = modularitatea(G,candidate)\n",
    "        \n",
    "        if candidate_eval > best_eval:\n",
    "            best, best_eval = candidate, candidate_eval\n",
    "        \n",
    "        # uneko eta soluzio berriaren arteko diferentzia kalkulatu\n",
    "        dif = curr_eval - candidate_eval\n",
    "        # iterazio kopuruaren uneko temperatura lortu\n",
    "        t = max(sys.float_info.min, t * beta)\n",
    "        # metropolis acceptance criterion kalkulatu\n",
    "        accept = exp(-dif*100 / t)\n",
    "        r = rand()\n",
    "        # Soluzio berria onartu edo ez onartu erabaki\n",
    "        if dif < 0 or r < accept:\n",
    "\n",
    "          curr, curr_eval = candidate, candidate_eval\n",
    "    return [curr, curr_eval]\n",
    "\n",
    "l = simulated_annealing(G, 2, 500, 5, 0.5)\n"
   ]
  },
  {
   "cell_type": "code",
   "execution_count": 528,
   "metadata": {
    "scrolled": true
   },
   "outputs": [
    {
     "name": "stdout",
     "output_type": "stream",
     "text": [
      "0 garren generazioko soluzio onena: 0.02640257391220205\n",
      "1 garren generazioko soluzio onena: 0.0271395792286436\n",
      "2 garren generazioko soluzio onena: 0.03140911035988547\n",
      "3 garren generazioko soluzio onena: 0.030371312399047945\n",
      "4 garren generazioko soluzio onena: 0.03201335174457279\n",
      "5 garren generazioko soluzio onena: 0.0317126408262044\n"
     ]
    },
    {
     "ename": "KeyboardInterrupt",
     "evalue": "",
     "output_type": "error",
     "traceback": [
      "\u001b[0;31m---------------------------------------------------------------------------\u001b[0m",
      "\u001b[0;31mKeyboardInterrupt\u001b[0m                         Traceback (most recent call last)",
      "Input \u001b[0;32mIn [528]\u001b[0m, in \u001b[0;36m<cell line: 44>\u001b[0;34m()\u001b[0m\n\u001b[1;32m     41\u001b[0m         prob_list \u001b[38;5;241m=\u001b[39m EDA_ProbabilitateakLortu(onenak, part_kop, authors)\n\u001b[1;32m     42\u001b[0m         pop \u001b[38;5;241m=\u001b[39m EDA_HurrengoBelaunaldiaSortu(prob_list, populazio_tamaina, part_kop)\n\u001b[0;32m---> 44\u001b[0m l \u001b[38;5;241m=\u001b[39m \u001b[43mEDA\u001b[49m\u001b[43m(\u001b[49m\u001b[43mG\u001b[49m\u001b[43m,\u001b[49m\u001b[43m \u001b[49m\u001b[38;5;241;43m100\u001b[39;49m\u001b[43m,\u001b[49m\u001b[43m \u001b[49m\u001b[38;5;241;43m500\u001b[39;49m\u001b[43m,\u001b[49m\u001b[43m \u001b[49m\u001b[38;5;241;43m2\u001b[39;49m\u001b[43m)\u001b[49m\n",
      "Input \u001b[0;32mIn [528]\u001b[0m, in \u001b[0;36mEDA\u001b[0;34m(G, generazioak, populazio_tamaina, part_kop)\u001b[0m\n\u001b[1;32m     38\u001b[0m onenak \u001b[38;5;241m=\u001b[39m EDA_OnenakAukeratu(G, pop, populazio_tamaina\u001b[38;5;241m/\u001b[39m\u001b[38;5;241m4\u001b[39m, part_kop)\n\u001b[1;32m     40\u001b[0m \u001b[38;5;28mprint\u001b[39m(i, \u001b[38;5;124m\"\u001b[39m\u001b[38;5;124mgarren generazioko soluzio onena:\u001b[39m\u001b[38;5;124m\"\u001b[39m, modularitatea(G, dict_to_part(onenak[\u001b[38;5;241m0\u001b[39m], part_kop)))\n\u001b[0;32m---> 41\u001b[0m prob_list \u001b[38;5;241m=\u001b[39m \u001b[43mEDA_ProbabilitateakLortu\u001b[49m\u001b[43m(\u001b[49m\u001b[43monenak\u001b[49m\u001b[43m,\u001b[49m\u001b[43m \u001b[49m\u001b[43mpart_kop\u001b[49m\u001b[43m,\u001b[49m\u001b[43m \u001b[49m\u001b[43mauthors\u001b[49m\u001b[43m)\u001b[49m\n\u001b[1;32m     42\u001b[0m pop \u001b[38;5;241m=\u001b[39m EDA_HurrengoBelaunaldiaSortu(prob_list, populazio_tamaina, part_kop)\n",
      "Input \u001b[0;32mIn [528]\u001b[0m, in \u001b[0;36mEDA_ProbabilitateakLortu\u001b[0;34m(populazioa, part_kop, authors)\u001b[0m\n\u001b[1;32m     10\u001b[0m \u001b[38;5;28;01mfor\u001b[39;00m i \u001b[38;5;129;01min\u001b[39;00m populazioa:\n\u001b[1;32m     12\u001b[0m     \u001b[38;5;28;01mfor\u001b[39;00m j \u001b[38;5;129;01min\u001b[39;00m i:\n\u001b[0;32m---> 13\u001b[0m         prob_list[i[j]][np\u001b[38;5;241m.\u001b[39mwhere(\u001b[43mauthors\u001b[49m\u001b[43m \u001b[49m\u001b[38;5;241;43m==\u001b[39;49m\u001b[43m \u001b[49m\u001b[43mj\u001b[49m)] \u001b[38;5;241m+\u001b[39m\u001b[38;5;241m=\u001b[39m \u001b[38;5;241m1\u001b[39m \u001b[38;5;241m/\u001b[39m\u001b[38;5;28mlen\u001b[39m(populazioa)\n\u001b[1;32m     15\u001b[0m \u001b[38;5;66;03m#print(populazioa)\u001b[39;00m\n\u001b[1;32m     16\u001b[0m prob_list \u001b[38;5;241m=\u001b[39m np\u001b[38;5;241m.\u001b[39marray(prob_list)\n",
      "\u001b[0;31mKeyboardInterrupt\u001b[0m: "
     ]
    }
   ],
   "source": [
    "def EDA_Hasieraraketa(G,pop_tam,part_kop):\n",
    "    #EDA algoritmoaren hasieraketa funtzioa\n",
    "    #pop_tam tamainako ausazko populazioa bueltatzen du\n",
    "    pop = list()\n",
    "    for i in range(pop_tam):\n",
    "        pop.append(part_to_dict(randomSol(part_kop, part_kop))) #Ausazko soluzioa sortu\n",
    "    return pop\n",
    "\n",
    "def EDA_ProbabilitateakLortu(populazioa, part_kop, authors):\n",
    "    #EDA algorimoaren probabilitate funtzioaren kalkulua\n",
    "    #Autore bakoitzarentzat partizio bakoitzean egoteko probabilitatea bueltatzen du.\n",
    "    prob_list = [np.zeros(len(populazioa[0])) for i in range(part_kop)]\n",
    "    for i in populazioa:\n",
    "        for j in i:\n",
    "            prob_list[i[j]][np.where(authors == j)] += 1 /len(populazioa)\n",
    "    prob_list = np.array(prob_list)\n",
    "    return prob_list \n",
    "\n",
    "def EDA_HurrengoSoluzioakSortu(prob_list, tamaina, part_kop):\n",
    "    #EDA algoritmoaren belaunaldi berriaren kalkulua\n",
    "    #Autore bakoitzarentzako, partizioen probabilitate funtzioa(prob_list) lagintzen du tamaina aldiz\n",
    "    #Prob_list funtzioak jarraituz, tamaina soluzio berri bueltatzen ditu\n",
    "    l = []\n",
    "    res = []\n",
    "    for i in range(len(prob_list[0])):\n",
    "        l.append(np.random.choice(part_kop,tamaina, p = prob_list[:, i]))\n",
    "    l = np.transpose(np.array(l))\n",
    "    \n",
    "    for i in range(len(l)):\n",
    "        res.append(dict(zip(authors, l[i])))\n",
    "    return res\n",
    "\n",
    "def EDA_OnenakAukeratu(G, pop, tamaina, num_parts):\n",
    "    #EDA algoritmoaren aukeraketa funtzioa\n",
    "    #Populazioa(pop) bat emanda populaziotik(pop) tamaina onenak bueltatzen ditu\n",
    "    pop_berri = sorted(pop, key=lambda x : modularitatea(G, dict_to_part(x, num_parts)), reverse=True)\n",
    "    pop_berri = pop_berri[0:int(tamaina)]\n",
    "    return pop_berri\n",
    "\n",
    "\n",
    "def EDA(G,generazioak,populazio_tamaina,part_kop):\n",
    "    #EDA algoritmoaren inplementazioa\n",
    "    \n",
    "    authors = np.array(G.nodes())\n",
    "\n",
    "    pop = EDA_Hasieraraketa(G,populazio_tamaina,part_kop)\n",
    "    \n",
    "    for i in range(generazioak):\n",
    "        onenak = EDA_OnenakAukeratu(G, pop, populazio_tamaina/4, part_kop)\n",
    "        print(i, \"garren generazioko soluzio onena:\", modularitatea(G, dict_to_part(onenak[0], part_kop)))\n",
    "        prob_list = EDA_ProbabilitateakLortu(onenak, part_kop, authors)\n",
    "        pop = EDA_HurrengoSoluzioakSortu(prob_list, populazio_tamaina, part_kop)\n",
    "    \n",
    "l = EDA(G, 100, 500, 2)"
   ]
  }
 ],
 "metadata": {
  "colab": {
   "collapsed_sections": [],
   "provenance": []
  },
  "kernelspec": {
   "display_name": "Python 3 (ipykernel)",
   "language": "python",
   "name": "python3"
  },
  "language_info": {
   "codemirror_mode": {
    "name": "ipython",
    "version": 3
   },
   "file_extension": ".py",
   "mimetype": "text/x-python",
   "name": "python",
   "nbconvert_exporter": "python",
   "pygments_lexer": "ipython3",
   "version": "3.9.12"
  }
 },
 "nbformat": 4,
 "nbformat_minor": 1
}
