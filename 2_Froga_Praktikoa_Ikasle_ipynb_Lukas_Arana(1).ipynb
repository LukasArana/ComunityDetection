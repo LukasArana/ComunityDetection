{
 "cells": [
  {
   "cell_type": "markdown",
   "metadata": {
    "id": "rcUUgPrUeceB"
   },
   "source": [
    "## 2. Froga praktikoa: Univariated Marginal Distribution Algorithm inplementatzen 2-objective TSPrako\n",
    "\n",
    "<b>[Ikasle bertsioa]</b>\n",
    "\n",
    "Bigarren froga praktiko honetan, Univariated Marginal Distribution Algorithm (UMDA) algoritmoaren helburu-anizkoitzeko bertsioa inplementatu beharko duzue bi helburuko Travelling Salesman Problem (TSP) problemaren <i>ins20a.tsp</i> instantzia optimizatzeko. Konparaketak ahalbidetzeko, Random Search algoritmo bat izango duzue eskuragarri. Frogak hiru atal nagusi izango ditu puntuagarriak direnak:\n",
    "\n",
    "<ol>\n",
    " <li> (2pt) Bi helburuko TSParen helburu-funtzioa inplementatzea, eta soluzioentzako kodeketa egoki bat aukeratzea.\n",
    " <li> (3.5pt) UMDA algoritmoa inplementatzea TSParen soluzioak <u>ikasi eta langintzeko</u> gai izango dena.\n",
    " <li> (3.5pt) Moldatu UMDAaren aukeraketa metodoa helburu anizkoitzeko TSPa ebatzi ahal izateko. NSGA-II algoritmoaren <u>aukeraketa metodoa</u> implementatzea proposatzen dizuet.\n",
    " <li> (1pt) Irudikatu Random Search eta UMDAk lortzen dizuten paretoak plot batean. Zeinek lortzen ditu emaitza hobeagoak?\n",
    "     \n",
    "Adi! Algoritmo bakarra implementatu behar da.\n",
    "</ol>\n",
    "\n",
    "Orain arte egin dugun bezela, atal batzuk eginda emango dizkizuet, denbora aurrezteko. <b>\"BETE HEMEN\" jartzen duen lekuetan, inplementazioak gauzatu beharko dituzue. Proposatutako egitura baino beste bat nahiago baldin baduzue, posible duzue aldaketak egitea, hori bai, kontuz zein pakete/egitura berezi erabiltzen dituzuen. Gogoratu, funtzioei sarrera-irteera parametroen espezifikazioak aldatzen badiezue, gero bukaeran funtzio horiek erabiltzen diren lekuetan aldaketak egin beharko dituzuela. Frogaren ebaluaketa egiterakoan, irakasleak gai izan behar da exekuzioak egiteko. Momentu honetan importatuta dauden paketeekin posible da froga egoki egitea.</b>\n"
   ]
  },
  {
   "cell_type": "markdown",
   "metadata": {
    "id": "9zLjhtZWeceE"
   },
   "source": [
    "### 2.1. 2-objective Travelling Salesman Problem (TSP)\n",
    "Esan bezala, 2-objetive Travelling Salesman Problem (TSP)-aren helburu-funtzioa inplementatu beharko duzue. Horretarako, jarraian problemaren definizioa eta ekuazioak ematen dizkizuet:\n",
    "\n",
    "TSPan, saltzaile bidaiari batek $n$ hiri bisitatu behar ditu. Hasierako hiri batetik abiatuko du bidaia, eta hiri bakoitza behin bisitatu beharko du. Hiri guztiak behin bisitatu ondoren, jatorrizko hirira bueltatuko da. Edozein bi hiriren artean bidaiatzeak sortzen dituen kostua eta bidaia denbora ezagutzen ditugu. Zehazki, $C=[c_{ij}]_{n\\times n}$ eta $T=[t_{ij}]_{n\\times n}$ matrize karratuak ematen zaizkigu, non $c_{ij}$-k eta $t_{ij}$-k $i$ hiritik $j$ hirira bidaiatzearen kostua eta denbora adierazten duten, hurrenez hurren. Gure helburua, saltzailearentzako ahalik eta ibilbide merkeena eta azkarrena duen bidea aurkitzea izango da. \n",
    "\n",
    "Edozein $\\sigma$ soluzio bat emanda, helburu-funtzioak ondorengo erara definitzen da:\n",
    "$$f_1(\\sigma)=\\sum_{i=1}^{n-1} c_{\\sigma(i)\\sigma(i+1)} + c_{\\sigma(n)\\sigma(1)}$$\n",
    "$$f_2(\\sigma)=\\sum_{i=1}^{n-1} t_{\\sigma(i)\\sigma(i+1)} + t_{\\sigma(n)\\sigma(1)}$$"
   ]
  },
  {
   "cell_type": "markdown",
   "metadata": {
    "id": "zMqwFkb8eceF"
   },
   "source": [
    "eGelan <i>multi_ins20a.tsp</i> instantzia aurkituko duzue. Jarraian, TSParen instantzia hori irakurtzeko instantzia duzue. Instantzia ebaluatzeko funtzioa zuk implementatu beharko duzu."
   ]
  },
  {
   "cell_type": "code",
   "execution_count": 54,
   "metadata": {
    "id": "K9u4U3lCeceF"
   },
   "outputs": [],
   "source": [
    "import numpy as np\n",
    "\n",
    "# TSParen instantzia diskotik irakurtzeko funtzioa\n",
    "def read_instance_TSP(filepath):\n",
    "    fp=open(filepath)\n",
    "    line=fp.readline()\n",
    "    values=line.split()\n",
    "    size=int(values[0])\n",
    "    C = [[0]*size for _ in range(size)]\n",
    "    for i in range(size):\n",
    "        line=fp.readline()\n",
    "        values=line.split()\n",
    "        for j in range(size):\n",
    "            C[i][j]=int(values[j])\n",
    "    T = [[0]*size for _ in range(size)]\n",
    "    for i in range(size):\n",
    "        line=fp.readline()\n",
    "        values=line.split()\n",
    "        for j in range(size):\n",
    "            T[i][j]=int(values[j])\n",
    "    fp.close()\n",
    "    return (size,C,T)\n",
    "\n",
    "# Soluzio bat emanik, bere helburu-funtzioaren balioa kalkulatuko duen funtzioa.\n",
    "def f(sol, instance, A):\n",
    "#Koste edo denbora matrizea emanik koste funtzioa kalkulatzeko beharrezko pausuak ematen ditu\n",
    "    size=instance[0]\n",
    "    cost=0\n",
    "    time=0\n",
    "    sum = 0\n",
    "    for i in range(len(sol) -1):\n",
    "        sum += A[sol[i]][sol[i+1]]\n",
    "\n",
    "    sum += A[sol[-1]][0]\n",
    "\n",
    "    return sum\n",
    "def objective_function_2TSP(solution, instance):\n",
    "    size=instance[0]\n",
    "    C=instance[1]\n",
    "    T=instance[2]\n",
    "    cost=f(solution, instance, C)\n",
    "    time=f(solution, instance, T)\n",
    "    # BETE HEMEN\n",
    "   \n",
    "    return (np.int64(cost),np.int64(time))"
   ]
  },
  {
   "cell_type": "markdown",
   "metadata": {
    "id": "QsTfv9J-eceH"
   },
   "source": [
    "Baina, nola kodetuko ditugu soluzioak? Zein da soluzioen bilaketa espazioa? Zenbat soluzio daude bilaketa espazioan? Pentsatu kodeketa bat eta jarraian dagoen eremuan adibideren bat jarri, eta probatu helburu funtzioa exekutatzen. "
   ]
  },
  {
   "cell_type": "code",
   "execution_count": 13,
   "metadata": {
    "colab": {
     "base_uri": "https://localhost:8080/"
    },
    "id": "eLDdez-VeceH",
    "outputId": "0e181ddc-5a27-4f1b-fa89-d879bfd2b03d"
   },
   "outputs": [
    {
     "name": "stdout",
     "output_type": "stream",
     "text": [
      "Proposatutako soluzioaren helburu-funtzioaen balioak (975, 791) dira.\n"
     ]
    }
   ],
   "source": [
    "# Irakurri instantzia\n",
    "instance=read_instance_TSP(\"multi_ins20a.tsp\")\n",
    "\n",
    "# Lehenengo ataza, erabaki TSParen soluzioak deskribatuko dituen kodeketa egokiena\n",
    "#Kodeketa egokiena n tamianaako permutazio bat da. Non n bisitatu beharreko herri kopuru den eta xi posizio bakoitzean bisitatutako i garren herriaren gordeko den.\n",
    "#Adibidez\n",
    "#n = 3 bada,\n",
    "#X = [1, 2, 3]\n",
    "#X = [3, 1, 2] ...\n",
    "\n",
    "#Ausazko soluzio bat sortzeko\n",
    "n = 20 #\n",
    "solution = np.random.permutation(20)\n",
    "# Ebaluatu goiko soluzioa\n",
    "result=objective_function_2TSP(solution, instance)\n",
    "print(\"Proposatutako soluzioaren helburu-funtzioaen balioak\",result, \"dira.\")"
   ]
  },
  {
   "cell_type": "markdown",
   "metadata": {
    "id": "GhbKG_95eceI"
   },
   "source": [
    "### 2.2. Random Search algoritmoa\n",
    "\n",
    "Atal honetan, <i>Random Search</i> edo ausazko bilaketa algoritmoa inplementatuta ematen dizuet. Helburua, UMDA ebaluatu ahal izateko konparatzeko zerbait edukitzea. Ziurtatu funtzionatzen dizuela, eta irudi batean lortutako soluzio multzoa aurkezten duela."
   ]
  },
  {
   "cell_type": "code",
   "execution_count": 30,
   "metadata": {
    "colab": {
     "base_uri": "https://localhost:8080/",
     "height": 340
    },
    "id": "IlxleuYXeceI",
    "outputId": "80d9655b-496f-4ec1-d620-857c4cf1f1b3"
   },
   "outputs": [
    {
     "name": "stdout",
     "output_type": "stream",
     "text": [
      "[814, 559, 455, 862, 828, 575, 625]\n"
     ]
    },
    {
     "data": {
      "image/png": "[encoded data removed]",
      "text/plain": [
       "<Figure size 432x288 with 1 Axes>"
      ]
     },
     "metadata": {
      "needs_background": "light"
     },
     "output_type": "display_data"
    },
    {
     "name": "stdout",
     "output_type": "stream",
     "text": [
      "Best fitness solution  [(814, 601), (559, 796), (455, 980), (862, 537), (828, 598), (575, 751), (625, 646)] [(14, 0, 8, 13, 9, 5, 17, 18, 19, 1, 15, 3, 12, 7, 6, 4, 10, 16, 2, 11), (6, 15, 12, 8, 10, 14, 3, 16, 17, 13, 7, 0, 9, 18, 1, 2, 4, 5, 19, 11), (0, 8, 14, 12, 5, 13, 15, 6, 9, 3, 17, 7, 4, 11, 1, 18, 2, 16, 19, 10), (11, 14, 8, 13, 5, 0, 19, 18, 3, 17, 7, 2, 16, 10, 15, 9, 1, 12, 4, 6), (5, 4, 8, 15, 9, 18, 3, 0, 6, 13, 12, 17, 2, 1, 19, 16, 14, 11, 7, 10), (9, 17, 2, 16, 13, 1, 18, 3, 5, 14, 10, 6, 15, 8, 7, 11, 19, 12, 4, 0), (16, 0, 7, 2, 1, 9, 3, 5, 4, 8, 10, 18, 6, 15, 14, 19, 12, 13, 17, 11)]\n",
      "Execution time:  0.4225618839263916\n"
     ]
    }
   ],
   "source": [
    "import random\n",
    "import more_itertools as mit\n",
    "import time as tm\n",
    "import numpy as np\n",
    "import matplotlib.pyplot as plt\n",
    "\n",
    "def InsertInPareto(pareto_fitness,fitnesses):\n",
    "    for i in range(len(pareto_fitness)):\n",
    "        if (fitnesses[0]>pareto_fitness[i][0] and fitnesses[1]>=pareto_fitness[i][1]) or (fitnesses[0]>=pareto_fitness[i][0] and fitnesses[1]>pareto_fitness[i][1]):\n",
    "            return False\n",
    "    return True\n",
    "\n",
    "def CleanDominates(pareto_fitness,pareto_solutions,fitnesses):\n",
    "    size=len(pareto_fitness)\n",
    "    i=0\n",
    "    while (size>=1 and i<size):\n",
    "        if (fitnesses[0]<pareto_fitness[i][0] and fitnesses[1]<=pareto_fitness[i][1]) or (fitnesses[0]<=pareto_fitness[i][0] and fitnesses[1]<pareto_fitness[i][1]):\n",
    "            pareto_fitness.pop(i)\n",
    "            pareto_solutions.pop(i)\n",
    "            size=size-1\n",
    "        else:\n",
    "            i=i+1\n",
    "    return (pareto_fitness, pareto_solutions)\n",
    "\n",
    "# Instantzia bat eta soluzio kopuru bat emanik ausazko bilaketa inplementatzen duen funtzioa. \n",
    "# Soluzioa eta bere fitness balioa itzuliko ditu\n",
    "def random_search(instance, num_solutions):\n",
    "    size=instance[0]\n",
    "    pareto_solutions=list()\n",
    "    pareto_fitness=list()\n",
    "    best_solution=list(range(size))\n",
    "    best_fitness=objective_function_2TSP(best_solution,instance)\n",
    "    pareto_solutions.append(best_solution)\n",
    "    pareto_fitness.append(best_fitness)\n",
    "    for i in range(num_solutions-1):\n",
    "        sol=mit.random_permutation(range(size))\n",
    "        fitnesses=objective_function_2TSP(sol,instance)\n",
    "        if (InsertInPareto(pareto_fitness,fitnesses)==True):\n",
    "            (pareto_fitness,pareto_solutions)= CleanDominates(pareto_fitness,pareto_solutions,fitnesses)\n",
    "            pareto_solutions.append(sol)\n",
    "            pareto_fitness.append(fitnesses)\n",
    "    return (pareto_fitness, pareto_solutions)\n",
    "\n",
    "#Instantzia kargatu\n",
    "instance=read_instance_TSP(\"multi_ins20a.tsp\")\n",
    "\n",
    "# Algoritmoa exekutatu eta kalkulatu konputorako denborak\n",
    "start=tm.time()\n",
    "(fitnesses,solutions)=random_search(instance,10000)\n",
    "end=tm.time()\n",
    "x = []\n",
    "y = []\n",
    "for i in fitnesses:\n",
    "  x.append(i[0])\n",
    "  y.append(i[1])\n",
    "print(x)\n",
    "plt.scatter(x, y, c = \"r\")\n",
    "plt.show()\n",
    "\n",
    "# Inprimatu balioak pantailan.\n",
    "print(\"Best fitness solution \",fitnesses, solutions)\n",
    "print(\"Execution time: \",end-start)"
   ]
  },
  {
   "cell_type": "markdown",
   "metadata": {
    "id": "3nuV5DfLeceJ"
   },
   "source": [
    "### 2.3. Univariated Marginal Distribution Algorithm (UMDA)\n",
    "\n",
    "Atal honetan UMDA algoritmoa inplementatu beharko duzu. Gogoratuko zaretenez, algoritmo hau Estimation of Distribution Algorithms (EDA) motako algoritmoa da. Hainbat parametro izango ditu sarrera bezela:\n",
    "<ul>\n",
    "    <li> <i>instance</i>: bi elemantu izango ditu. 0 posizioan, matrizearen tamaina $n$, 1 posizioan, $C$ matrizea eta 2 posizioan, $T$ matrizea.\n",
    "    <li> <i>max_evals</i>: ebaluatu ditzazkegun soluzio kopurua.\n",
    "    <li> <i>pop_size</i>: populazioko soluzio kopurua.\n",
    "    <li> <i>sel_size</i>: populaziotik aukeratuko ditugun soluzio kopurua.\n",
    "    <li> <i>off_size</i>: laginduko diren soluzio kopurua iterazio bakoitzean.\n",
    "</ul>\n",
    "\n",
    "Ondorengo espezifikazioak dituen UMDA inplementatu beharko duzue.\n",
    "\n",
    "<ul>\n",
    "    <li> Algoritmo iteratibo bat da, eta iterazio bakoitzean duen populazioa hobetzeko eragiketa batzuk egingo ditu\n",
    "    <li> <i>Selection</i> eragiketan, <i>sel_size</i> soluzio onenak aukeratuko ditu populaziotik. <b>Adi! kasu honetan problemak, bi helburu ditu, eta beraz, NSGA-II algoritmoak duen aukeraketa berdina erabiliko dugu. Ez da beharrezkoa Crowding Distance-a implementatzea, baina bai lehenengo partea.</b>.\n",
    "    <li> <i>Learning</i> eragiketan, aurreko faseko soluzio onenak erabilita, eredu probabilistikoaren parametroak ikasi beharko ditu.\n",
    "    <li> <i>Sampling</i> eragiketan, ikasitako eredutik abiatuta, soluzio berriak lagindu eta ebaluatu beharko ditugu. Adi! ziurtatu sortzen diren soluzioek kodeketa errespetatzen dutela.\n",
    "    <li> <i>Update</i> eragiketan, langindutako eta uneko soluzioan genituen soluzioen artetik <i>pop_size</i> onenak gordeko ditugu, eta gainerakoak ezabatu.\n",
    "</ul>  \n",
    "\n",
    "Gogoratu, UMDAren prozesu guzti honetan, soluzioen ebaluazio kopuru zehatz bat egin ahal izango dugula gehienez. Beraz, hori kontrolatu behar den gauza da, batez ere ebaluazio kopuru maximora hurbiltzen garenean."
   ]
  },
  {
   "cell_type": "code",
   "execution_count": null,
   "metadata": {
    "id": "lnDMyADseceJ"
   },
   "outputs": [],
   "source": [
    "import numpy as np\n",
    "import copy"
   ]
  },
  {
   "cell_type": "code",
   "execution_count": 213,
   "metadata": {
    "colab": {
     "base_uri": "https://localhost:8080/"
    },
    "id": "-00OHmNQeceK",
    "outputId": "6ab4ba52-bf60-4527-c0e4-93bd6980fd4b"
   },
   "outputs": [
    {
     "name": "stdout",
     "output_type": "stream",
     "text": [
      "50\n",
      "Best fitness solution  (499, 791) [ 9 18 10 16  0  3 15 12 15  1  9 12 12  7  7  6 11  8  8  0]\n",
      "Execution time:  0.24729347229003906\n"
     ]
    }
   ],
   "source": [
    "# Instantzia bat, ebaluazio kopuru maximoa, eta beste hiru parametro emanik UMDA bat exekutatuko du.\n",
    "# Soluzioa eta bere helburu-funtzioaren balioa itzuliko ditu.\n",
    "\n",
    "def dominates(i, j):\n",
    "#i soluzioak j dominatzen duen ala ez bueltatzeko kodea\n",
    "  fi = objective_function_2TSP(i, instance)\n",
    "  fj  =objective_function_2TSP(j, instance)\n",
    "\n",
    "  return fi[0]<=fj[0] and fi[1] <= fj[1] and (fi[0]<fj[0] or fi[1] < fj[1])#bi helburu funtzio izanik, i-k j dominatzeko baldintza\n",
    "\n",
    "def getf(pop):\n",
    "#Pareto fronteak kalkulatzeko funtzioa\n",
    "  evals = 0\n",
    "  population = [i for i in range(len(pop))]\n",
    "  F = []\n",
    "  #Balio guztiak pareto  batean sartu arte, balio bakoitzak ea beste guztien dominantea den ikusten da.\n",
    "  while len(population) > 0:\n",
    "    act = [] #Uneko paretoko balioak gordetzeko lista\n",
    "    for idx, i in enumerate(population): #Denak denekin konparatu\n",
    "      dominant  =True #Hasieran dominantea izango da\n",
    "      for idj, j in enumerate(population):\n",
    "        if idx != idj:\n",
    "          if dominates(pop[j], pop[i]): #j eta i ezberdinak badira eta j-k i dominatze badu, i ez da dominantea eta ez da besste j-rik bilatu behar.\n",
    "            dominant = False\n",
    "            break\n",
    "          evals += 2 #Dominatzen duen ala ez jakiteko 2 ebaluazio behar dira\n",
    "      if dominant: #i-k ez badu dominanterik, balioa uneko paretoan sartu eta konparaketen populaziotik atera.\n",
    "        act.append(pop[i])\n",
    "        population.remove(i) \n",
    "\n",
    "    F.append(act) #Uneko paretoan paretoen listan sartu\n",
    "  return F, evals\n",
    "\n",
    "def hasieraketa(pop_size, instance):\n",
    "#Hasieraketa operadorea \n",
    "  solution = [np.random.permutation(instance[0]) for i in range(pop_size)]\n",
    "  return solution\n",
    "\n",
    "def update(new, old, num):\n",
    "  #update operadorea\n",
    "  lag = sorted(np.concatenate((new, old)), key=lambda x: objective_function_2TSP(x, instance)) #Populazio guztia objective_function_2TSP txikienengatik ordenatu eta lehenego num hartu\n",
    "  return lag[:num]\n",
    "def selection(pop, sel_size):\n",
    "  #Selection opeadorea\n",
    "  new = []\n",
    "  F, evals = getf(pop)\n",
    "  id = 0\n",
    "  while len(new) < sel_size:\n",
    "    for i in F[id]:\n",
    "      new.append(i)\n",
    "  new = new[0:sel_size]\n",
    "  return new, evals\n",
    "\n",
    "def learning(pop):\n",
    "  #Probabilitate banaketa kalulatzeko aurreko populazioko posizio bakoitzean herri bakoitzak duen frekuentzia erabiliko dut.\n",
    "  #Honek limitean populazio berriko balio bakoitzean aurreko populazioko balioen Bataz bestekoa lortzea ekarriko du. UMDA algoritmoa jarraituz\n",
    "  size = len(pop[0])\n",
    "  distribution = np.zeros((size, size))\n",
    "  for i in pop:\n",
    "    for idj, j in enumerate(i):\n",
    "      distribution[idj][j] += 1\n",
    "  distribution = distribution / len(pop)\n",
    "  return distribution\n",
    "\n",
    "\n",
    "def sanpling(distribution, kop, pop):\n",
    "#Sanpling operadorea. Ez da inplementatzeko modurik efizienteena\n",
    "  res =[]\n",
    "  konta = distribution * len(pop) # Probabiliteetatik frekuentziak kalkulatu.\n",
    "  for _ in range(kop):\n",
    "    dist = distribution.copy()\n",
    "    kont = konta.copy()\n",
    "    act = []\n",
    "\n",
    "    for i in range(len(dist)):\n",
    "      p = dist[i]\n",
    "      num = np.random.choice(np.arange(0, len(dist)), 1, p = p) # 0 tik instance[0]-rako elementu bat hartu distribuzioaren arabera.\n",
    "      act.append(int(num))\n",
    "      #Permutazio bat denez, sanpleatu ondoren probabilitateak berkalkulatu behar dira.\n",
    "      kont[i][num] = 0 #Jadanik hartu den zenbakiaren frekuentzia 0 jarri berriz ere ez auekeratzeko\n",
    "      dist[i] = kont[i] / sum(dist[i]) #Berriz ere kalkulatu distribuzioa\n",
    "    res.append(act)\n",
    "  return res\n",
    "\n",
    "\n",
    "def umda(instance, max_evals, pop_size, sel_size, off_size):\n",
    "    # BETE HEMEN \n",
    "    pop = hasieraketa(pop_size, instance)\n",
    "    evals = 0\n",
    "    while evals <= max_evals:\n",
    "      pop, evals_act = selection(pop, sel_size)\n",
    "      distribution = learning(pop)\n",
    "      new_pop = sanpling(distribution, off_size, pop)\n",
    "      pop = update(new_pop, pop, pop_size)\n",
    "      evals += evals_act\n",
    "\n",
    "    last = pop[0:10] #10 onenak hartzen ditut random search algorimoarekin konparatzeko\n",
    "    objectives = []\n",
    "    for i in last:\n",
    "      objectives.append(objective_function_2TSP(i, instance))\n",
    "    \n",
    "    return objectives, pop[0:100]\n",
    "\n",
    "#Instantzia kargatu\n",
    "instance=read_instance_TSP(\"multi_ins20a.tsp\")\n",
    "\n",
    "# Algoritmoa exekutatu eta kalkulatu konputorako denborak\n",
    "start=tm.time()\n",
    "(fitness,sol)=umda(instance,1000,50,25,50)\n",
    "end=tm.time()\n",
    "\n",
    "# Inprimatu balioak pantailan.\n",
    "print(\"Best fitness solution \",fitness[0], sol[0])\n",
    "print(\"Execution time: \",end-start)"
   ]
  },
  {
   "cell_type": "markdown",
   "metadata": {
    "id": "f3cfLJ-feceK"
   },
   "source": [
    "### 2.4. Konparatu Random Search eta UMDAren emaitzak\n",
    "\n",
    "Atal honetan, Random Search-aren emaitzak UMDArenarekin konparatzea eskatzen zaizu. Horretarako, <i>scatter plot</i> edo puntuen plot bat, egitea gomendatzen dizut. Saiatu Random Search-aren soluzioak kolore batez, eta UMDA-arenak beste kolore batez irudikatzen."
   ]
  },
  {
   "cell_type": "code",
   "execution_count": 214,
   "metadata": {
    "id": "67x5d2NSeceK"
   },
   "outputs": [],
   "source": [
    "# Implementatu hemen emaitzak irudikatzeko grafikoaren kodea.\n",
    "import matplotlib.pyplot as plt\n",
    "def irudikatu(max_evals):\n",
    "  #Irudikatzeko funtzioa\n",
    "  start=tm.time()\n",
    "  (fitnesses,solutions)=random_search(instance,max_evals)\n",
    "  end=tm.time()\n",
    "  x = []\n",
    "  y = []\n",
    "  for i in fitnesses:\n",
    "    x.append(i[0])\n",
    "    y.append(i[1])\n",
    "  plt.scatter(x, y, c = \"r\")\n",
    "  fitnesses,solutions =umda(instance,max_evals,50,25,50)\n",
    "  print(fitnesses)\n",
    "  x = []\n",
    "  y = []\n",
    "  for i in fitnesses:\n",
    "    x.append(i[0])\n",
    "    y.append(i[1])\n",
    "  plt.scatter(x, y, c = \"b\", label= \"a\")\n",
    "\n",
    "  plt.xlabel(\"kostua\")\n",
    "  plt.ylabel(\"Denbora\")\n",
    "\n",
    "  plt.show()\n"
   ]
  },
  {
   "cell_type": "markdown",
   "metadata": {
    "id": "wBIA1rlFeceL"
   },
   "source": [
    "Irudiak ikusirik, zein ondorio ateratzen dugun algoritmo bakoitzaren errendimenduaren inguruan? Azaldu ahalik eta zabalen."
   ]
  },
  {
   "cell_type": "markdown",
   "metadata": {
    "id": "D465rCS85uPM"
   },
   "source": [
    "\n",
    "\n",
    "# Ondorioen azalpena.\n",
    "\n",
    "Espero ziren erantzunak ikusten dira exekuzioetan. Gehienetan, UMDA algoritmoak random search algoritmoak baino erantzun hobeak ematen dituela ikusi daiteke baina hala ere erantzunak aldatu egiten dira bi algoritmoen hiperparametroak aldatuz. Horrela izanik, ebaluazio maximoa aldatu ahala bi algoritmoen erantzunak aztertuko ditut.\n",
    "\n",
    "1. Ebaluzio maximo oso gutxi(50): kasu extremua da hau eta bi algoritmoek, espero zen bezala, erantzun oso parekoak ematen dituela ikusten da. Izan ere, UMDA algoritmoren hasierakop populazioa ausaz hasten da eta oso ebaluazio gutxi ditu algoritmoak hobetu ahal izateko."
   ]
  },
  {
   "cell_type": "code",
   "execution_count": 219,
   "metadata": {
    "colab": {
     "base_uri": "https://localhost:8080/",
     "height": 314
    },
    "id": "ww63W0Zf7B8c",
    "outputId": "3d9abf0e-1a1e-4136-d8b6-d59557a582ab"
   },
   "outputs": [
    {
     "name": "stdout",
     "output_type": "stream",
     "text": [
      "50\n",
      "[(682, 1051), (690, 1122), (700, 968), (706, 1068), (721, 836), (721, 836), (721, 836), (721, 836), (721, 836), (721, 836)]\n"
     ]
    },
    {
     "data": {
      "image/png": "[encoded data removed]",
      "text/plain": [
       "<Figure size 432x288 with 1 Axes>"
      ]
     },
     "metadata": {
      "needs_background": "light"
     },
     "output_type": "display_data"
    }
   ],
   "source": [
    "irudikatu(50)"
   ]
  },
  {
   "cell_type": "markdown",
   "metadata": {
    "id": "SrXRRfbU7WFs"
   },
   "source": [
    "2. 2000 ebaluaziorekin: Ebaluazio denborak txikiak izanda ere, aurreko experimentuarekiko alderapenak ikusten dira hemen. Izan ere, kasu gehienetan, 2000 ebaluaziorekin random search algoritmoak UMDA algoritmoak baino erantzun hobeagoak ematen dituela ikusten da. UMDA-rentzat ebaluazio kopurua oraindik ere txikia delako izan daiteke. Horren froga izan daiteke exekuzio batzuetan UMDA-k balio askoz hobeak lortzen dituela. Hori azaldu genezake esanez algoritmoak ez dituela ebaluazio nahiko erantzunak konsistenteki hobetzeko eta oraindik garrantzi handia hartzen du auzasko hasieraketak. \n",
    "\n",
    "Horregatik, hasieraketa horrek balio onak ematen ditunean NSGA random search baino balio hobeak ematen dituela ikusten da."
   ]
  },
  {
   "cell_type": "code",
   "execution_count": 220,
   "metadata": {
    "colab": {
     "base_uri": "https://localhost:8080/",
     "height": 314
    },
    "id": "9WnXUMoN7dVc",
    "outputId": "5baad6e9-b570-40af-a14b-3a73f9b37ed8"
   },
   "outputs": [
    {
     "name": "stdout",
     "output_type": "stream",
     "text": [
      "50\n",
      "[(479, 1013), (548, 1257), (620, 781), (620, 781), (620, 781), (620, 781), (625, 1178), (625, 1178), (625, 1178), (653, 794)]\n"
     ]
    },
    {
     "data": {
      "image/png": "[encoded data removed]",
      "text/plain": [
       "<Figure size 432x288 with 1 Axes>"
      ]
     },
     "metadata": {
      "needs_background": "light"
     },
     "output_type": "display_data"
    }
   ],
   "source": [
    "irudikatu(2000)"
   ]
  },
  {
   "cell_type": "markdown",
   "metadata": {
    "id": "rpGON9jC9G3U"
   },
   "source": [
    "20000 ebaluaziorekin: UMDA algorimoaren kapazidadea ikusten da froga hauetan, konsistenteki hobetzen ditu eta random search-en emaitzak. "
   ]
  },
  {
   "cell_type": "code",
   "execution_count": 221,
   "metadata": {
    "colab": {
     "base_uri": "https://localhost:8080/",
     "height": 401
    },
    "id": "9CwIPqQZ8-Qt",
    "outputId": "e0f29ece-f7ea-4df8-a3a5-9fcab934edaa"
   },
   "outputs": [
    {
     "name": "stdout",
     "output_type": "stream",
     "text": [
      "50\n",
      "50\n",
      "50\n",
      "50\n",
      "50\n",
      "50\n",
      "[(510, 672), (510, 672), (510, 672), (510, 672), (525, 615), (528, 677), (570, 665), (570, 773), (570, 773), (570, 773)]\n"
     ]
    },
    {
     "data": {
      "image/png": "[encoded data removed]",
      "text/plain": [
       "<Figure size 432x288 with 1 Axes>"
      ]
     },
     "metadata": {
      "needs_background": "light"
     },
     "output_type": "display_data"
    }
   ],
   "source": [
    "irudikatu(20000)"
   ]
  },
  {
   "cell_type": "markdown",
   "metadata": {
    "id": "aHL0PzRZ9bht"
   },
   "source": [
    "Laburbilduz, frogatzea lortu dugu nola ebaluazio maximo kopurua handitzean UMDA algoritmoak random search baino emaitza hobeak ematen dituela. Hau da, hasieraketako emaitzak hobetzeko ebaluazio nahikoa emanik, erantzun hobeak esperoko ditugu UMDA algoritmotik. "
   ]
  },
  {
   "cell_type": "markdown",
   "metadata": {
    "id": "HmWTDAit956d"
   },
   "source": [
    "Azkenik, aipatu beharra dago ere UMDA algoritmoak erantzun hobeak emateko gai bada ere, random search algoritmoak baino konputazio denbora gehiago behar dituela. Hala ere, denbora hauek oso luzeak ez direla ikusi da."
   ]
  }
 ],
 "metadata": {
  "colab": {
   "provenance": []
  },
  "kernelspec": {
   "display_name": "Python 3 (ipykernel)",
   "language": "python",
   "name": "python3"
  },
  "language_info": {
   "codemirror_mode": {
    "name": "ipython",
    "version": 3
   },
   "file_extension": ".py",
   "mimetype": "text/x-python",
   "name": "python",
   "nbconvert_exporter": "python",
   "pygments_lexer": "ipython3",
   "version": "3.9.12"
  }
 },
 "nbformat": 4,
 "nbformat_minor": 1
}
